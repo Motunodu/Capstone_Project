{
 "cells": [
  {
   "cell_type": "code",
   "execution_count": 1,
   "metadata": {},
   "outputs": [],
   "source": [
    "import pandas as pd"
   ]
  },
  {
   "cell_type": "code",
   "execution_count": 2,
   "metadata": {},
   "outputs": [],
   "source": [
    "data=pd.read_csv('demographic.csv')"
   ]
  },
  {
   "cell_type": "code",
   "execution_count": 3,
   "metadata": {},
   "outputs": [
    {
     "name": "stdout",
     "output_type": "stream",
     "text": [
      "<class 'pandas.core.frame.DataFrame'>\n",
      "RangeIndex: 10175 entries, 0 to 10174\n",
      "Data columns (total 47 columns):\n",
      "SEQN        10175 non-null int64\n",
      "SDDSRVYR    10175 non-null int64\n",
      "RIDSTATR    10175 non-null int64\n",
      "RIAGENDR    10175 non-null int64\n",
      "RIDAGEYR    10175 non-null int64\n",
      "RIDAGEMN    673 non-null float64\n",
      "RIDRETH1    10175 non-null int64\n",
      "RIDRETH3    10175 non-null int64\n",
      "RIDEXMON    9813 non-null float64\n",
      "RIDEXAGM    4213 non-null float64\n",
      "DMQMILIZ    6261 non-null float64\n",
      "DMQADFC     543 non-null float64\n",
      "DMDBORN4    10175 non-null int64\n",
      "DMDCITZN    10171 non-null float64\n",
      "DMDYRSUS    1908 non-null float64\n",
      "DMDEDUC3    2803 non-null float64\n",
      "DMDEDUC2    5769 non-null float64\n",
      "DMDMARTL    5769 non-null float64\n",
      "RIDEXPRG    1309 non-null float64\n",
      "SIALANG     10175 non-null int64\n",
      "SIAPROXY    10174 non-null float64\n",
      "SIAINTRP    10175 non-null int64\n",
      "FIALANG     10054 non-null float64\n",
      "FIAPROXY    10054 non-null float64\n",
      "FIAINTRP    10054 non-null float64\n",
      "MIALANG     7311 non-null float64\n",
      "MIAPROXY    7312 non-null float64\n",
      "MIAINTRP    7313 non-null float64\n",
      "AIALANGA    6317 non-null float64\n",
      "DMDHHSIZ    10175 non-null int64\n",
      "DMDFMSIZ    10175 non-null int64\n",
      "DMDHHSZA    10175 non-null int64\n",
      "DMDHHSZB    10175 non-null int64\n",
      "DMDHHSZE    10175 non-null int64\n",
      "DMDHRGND    10175 non-null int64\n",
      "DMDHRAGE    10175 non-null int64\n",
      "DMDHRBR4    9878 non-null float64\n",
      "DMDHREDU    9881 non-null float64\n",
      "DMDHRMAR    10052 non-null float64\n",
      "DMDHSEDU    5342 non-null float64\n",
      "WTINT2YR    10175 non-null float64\n",
      "WTMEC2YR    10175 non-null float64\n",
      "SDMVPSU     10175 non-null int64\n",
      "SDMVSTRA    10175 non-null int64\n",
      "INDHHIN2    10042 non-null float64\n",
      "INDFMIN2    10052 non-null float64\n",
      "INDFMPIR    9390 non-null float64\n",
      "dtypes: float64(28), int64(19)\n",
      "memory usage: 3.6 MB\n"
     ]
    }
   ],
   "source": [
    "data.info()"
   ]
  },
  {
   "cell_type": "code",
   "execution_count": 4,
   "metadata": {},
   "outputs": [],
   "source": [
    "data1=pd.read_csv('diet.csv')"
   ]
  },
  {
   "cell_type": "code",
   "execution_count": 5,
   "metadata": {},
   "outputs": [
    {
     "data": {
      "text/html": [
       "<div>\n",
       "<style scoped>\n",
       "    .dataframe tbody tr th:only-of-type {\n",
       "        vertical-align: middle;\n",
       "    }\n",
       "\n",
       "    .dataframe tbody tr th {\n",
       "        vertical-align: top;\n",
       "    }\n",
       "\n",
       "    .dataframe thead th {\n",
       "        text-align: right;\n",
       "    }\n",
       "</style>\n",
       "<table border=\"1\" class=\"dataframe\">\n",
       "  <thead>\n",
       "    <tr style=\"text-align: right;\">\n",
       "      <th></th>\n",
       "      <th>SEQN</th>\n",
       "      <th>WTDRD1</th>\n",
       "      <th>WTDR2D</th>\n",
       "      <th>DR1DRSTZ</th>\n",
       "      <th>DR1EXMER</th>\n",
       "      <th>DRABF</th>\n",
       "      <th>DRDINT</th>\n",
       "      <th>DR1DBIH</th>\n",
       "      <th>DR1DAY</th>\n",
       "      <th>DR1LANG</th>\n",
       "      <th>...</th>\n",
       "      <th>DRD370QQ</th>\n",
       "      <th>DRD370R</th>\n",
       "      <th>DRD370RQ</th>\n",
       "      <th>DRD370S</th>\n",
       "      <th>DRD370SQ</th>\n",
       "      <th>DRD370T</th>\n",
       "      <th>DRD370TQ</th>\n",
       "      <th>DRD370U</th>\n",
       "      <th>DRD370UQ</th>\n",
       "      <th>DRD370V</th>\n",
       "    </tr>\n",
       "  </thead>\n",
       "  <tbody>\n",
       "    <tr>\n",
       "      <th>0</th>\n",
       "      <td>73557</td>\n",
       "      <td>16888.327864</td>\n",
       "      <td>12930.890649</td>\n",
       "      <td>1</td>\n",
       "      <td>49.0</td>\n",
       "      <td>2.0</td>\n",
       "      <td>2.0</td>\n",
       "      <td>6.0</td>\n",
       "      <td>2.0</td>\n",
       "      <td>1.0</td>\n",
       "      <td>...</td>\n",
       "      <td>NaN</td>\n",
       "      <td>NaN</td>\n",
       "      <td>NaN</td>\n",
       "      <td>NaN</td>\n",
       "      <td>NaN</td>\n",
       "      <td>NaN</td>\n",
       "      <td>NaN</td>\n",
       "      <td>NaN</td>\n",
       "      <td>NaN</td>\n",
       "      <td>NaN</td>\n",
       "    </tr>\n",
       "    <tr>\n",
       "      <th>1</th>\n",
       "      <td>73558</td>\n",
       "      <td>17932.143865</td>\n",
       "      <td>12684.148869</td>\n",
       "      <td>1</td>\n",
       "      <td>59.0</td>\n",
       "      <td>2.0</td>\n",
       "      <td>2.0</td>\n",
       "      <td>4.0</td>\n",
       "      <td>1.0</td>\n",
       "      <td>1.0</td>\n",
       "      <td>...</td>\n",
       "      <td>NaN</td>\n",
       "      <td>2.0</td>\n",
       "      <td>NaN</td>\n",
       "      <td>2.0</td>\n",
       "      <td>NaN</td>\n",
       "      <td>2.0</td>\n",
       "      <td>NaN</td>\n",
       "      <td>2.0</td>\n",
       "      <td>NaN</td>\n",
       "      <td>2.0</td>\n",
       "    </tr>\n",
       "    <tr>\n",
       "      <th>2</th>\n",
       "      <td>73559</td>\n",
       "      <td>59641.812930</td>\n",
       "      <td>39394.236709</td>\n",
       "      <td>1</td>\n",
       "      <td>49.0</td>\n",
       "      <td>2.0</td>\n",
       "      <td>2.0</td>\n",
       "      <td>18.0</td>\n",
       "      <td>6.0</td>\n",
       "      <td>1.0</td>\n",
       "      <td>...</td>\n",
       "      <td>NaN</td>\n",
       "      <td>NaN</td>\n",
       "      <td>NaN</td>\n",
       "      <td>NaN</td>\n",
       "      <td>NaN</td>\n",
       "      <td>NaN</td>\n",
       "      <td>NaN</td>\n",
       "      <td>NaN</td>\n",
       "      <td>NaN</td>\n",
       "      <td>NaN</td>\n",
       "    </tr>\n",
       "    <tr>\n",
       "      <th>3</th>\n",
       "      <td>73560</td>\n",
       "      <td>142203.069917</td>\n",
       "      <td>125966.366442</td>\n",
       "      <td>1</td>\n",
       "      <td>54.0</td>\n",
       "      <td>2.0</td>\n",
       "      <td>2.0</td>\n",
       "      <td>21.0</td>\n",
       "      <td>3.0</td>\n",
       "      <td>1.0</td>\n",
       "      <td>...</td>\n",
       "      <td>NaN</td>\n",
       "      <td>NaN</td>\n",
       "      <td>NaN</td>\n",
       "      <td>NaN</td>\n",
       "      <td>NaN</td>\n",
       "      <td>NaN</td>\n",
       "      <td>NaN</td>\n",
       "      <td>NaN</td>\n",
       "      <td>NaN</td>\n",
       "      <td>NaN</td>\n",
       "    </tr>\n",
       "    <tr>\n",
       "      <th>4</th>\n",
       "      <td>73561</td>\n",
       "      <td>59052.357033</td>\n",
       "      <td>39004.892993</td>\n",
       "      <td>1</td>\n",
       "      <td>63.0</td>\n",
       "      <td>2.0</td>\n",
       "      <td>2.0</td>\n",
       "      <td>18.0</td>\n",
       "      <td>1.0</td>\n",
       "      <td>1.0</td>\n",
       "      <td>...</td>\n",
       "      <td>NaN</td>\n",
       "      <td>2.0</td>\n",
       "      <td>NaN</td>\n",
       "      <td>2.0</td>\n",
       "      <td>NaN</td>\n",
       "      <td>2.0</td>\n",
       "      <td>NaN</td>\n",
       "      <td>2.0</td>\n",
       "      <td>NaN</td>\n",
       "      <td>2.0</td>\n",
       "    </tr>\n",
       "  </tbody>\n",
       "</table>\n",
       "<p>5 rows × 168 columns</p>\n",
       "</div>"
      ],
      "text/plain": [
       "    SEQN         WTDRD1         WTDR2D  DR1DRSTZ  DR1EXMER  DRABF  DRDINT  \\\n",
       "0  73557   16888.327864   12930.890649         1      49.0    2.0     2.0   \n",
       "1  73558   17932.143865   12684.148869         1      59.0    2.0     2.0   \n",
       "2  73559   59641.812930   39394.236709         1      49.0    2.0     2.0   \n",
       "3  73560  142203.069917  125966.366442         1      54.0    2.0     2.0   \n",
       "4  73561   59052.357033   39004.892993         1      63.0    2.0     2.0   \n",
       "\n",
       "   DR1DBIH  DR1DAY  DR1LANG   ...     DRD370QQ  DRD370R  DRD370RQ  DRD370S  \\\n",
       "0      6.0     2.0      1.0   ...          NaN      NaN       NaN      NaN   \n",
       "1      4.0     1.0      1.0   ...          NaN      2.0       NaN      2.0   \n",
       "2     18.0     6.0      1.0   ...          NaN      NaN       NaN      NaN   \n",
       "3     21.0     3.0      1.0   ...          NaN      NaN       NaN      NaN   \n",
       "4     18.0     1.0      1.0   ...          NaN      2.0       NaN      2.0   \n",
       "\n",
       "   DRD370SQ  DRD370T  DRD370TQ  DRD370U  DRD370UQ  DRD370V  \n",
       "0       NaN      NaN       NaN      NaN       NaN      NaN  \n",
       "1       NaN      2.0       NaN      2.0       NaN      2.0  \n",
       "2       NaN      NaN       NaN      NaN       NaN      NaN  \n",
       "3       NaN      NaN       NaN      NaN       NaN      NaN  \n",
       "4       NaN      2.0       NaN      2.0       NaN      2.0  \n",
       "\n",
       "[5 rows x 168 columns]"
      ]
     },
     "execution_count": 5,
     "metadata": {},
     "output_type": "execute_result"
    }
   ],
   "source": [
    "data1.head()"
   ]
  },
  {
   "cell_type": "code",
   "execution_count": 6,
   "metadata": {},
   "outputs": [],
   "source": [
    "data2=pd.read_csv('examination.csv')"
   ]
  },
  {
   "cell_type": "code",
   "execution_count": 7,
   "metadata": {},
   "outputs": [],
   "source": [
    "data3=pd.read_csv('labs.csv')"
   ]
  },
  {
   "cell_type": "code",
   "execution_count": 8,
   "metadata": {},
   "outputs": [
    {
     "ename": "UnicodeDecodeError",
     "evalue": "'utf-8' codec can't decode byte 0xf6 in position 18: invalid start byte",
     "output_type": "error",
     "traceback": [
      "\u001b[1;31m---------------------------------------------------------------------------\u001b[0m",
      "\u001b[1;31mUnicodeDecodeError\u001b[0m                        Traceback (most recent call last)",
      "\u001b[1;32mpandas\\_libs\\parsers.pyx\u001b[0m in \u001b[0;36mpandas._libs.parsers.TextReader._convert_tokens\u001b[1;34m()\u001b[0m\n",
      "\u001b[1;32mpandas\\_libs\\parsers.pyx\u001b[0m in \u001b[0;36mpandas._libs.parsers.TextReader._convert_with_dtype\u001b[1;34m()\u001b[0m\n",
      "\u001b[1;32mpandas\\_libs\\parsers.pyx\u001b[0m in \u001b[0;36mpandas._libs.parsers.TextReader._string_convert\u001b[1;34m()\u001b[0m\n",
      "\u001b[1;32mpandas\\_libs\\parsers.pyx\u001b[0m in \u001b[0;36mpandas._libs.parsers._string_box_utf8\u001b[1;34m()\u001b[0m\n",
      "\u001b[1;31mUnicodeDecodeError\u001b[0m: 'utf-8' codec can't decode byte 0xf6 in position 18: invalid start byte",
      "\nDuring handling of the above exception, another exception occurred:\n",
      "\u001b[1;31mUnicodeDecodeError\u001b[0m                        Traceback (most recent call last)",
      "\u001b[1;32m<ipython-input-8-54b15adbb571>\u001b[0m in \u001b[0;36m<module>\u001b[1;34m\u001b[0m\n\u001b[1;32m----> 1\u001b[1;33m \u001b[0mdata4\u001b[0m\u001b[1;33m=\u001b[0m\u001b[0mpd\u001b[0m\u001b[1;33m.\u001b[0m\u001b[0mread_csv\u001b[0m\u001b[1;33m(\u001b[0m\u001b[1;34m'medications.csv'\u001b[0m\u001b[1;33m)\u001b[0m\u001b[1;33m\u001b[0m\u001b[1;33m\u001b[0m\u001b[0m\n\u001b[0m",
      "\u001b[1;32m~\\Anaconda\\lib\\site-packages\\pandas\\io\\parsers.py\u001b[0m in \u001b[0;36mparser_f\u001b[1;34m(filepath_or_buffer, sep, delimiter, header, names, index_col, usecols, squeeze, prefix, mangle_dupe_cols, dtype, engine, converters, true_values, false_values, skipinitialspace, skiprows, nrows, na_values, keep_default_na, na_filter, verbose, skip_blank_lines, parse_dates, infer_datetime_format, keep_date_col, date_parser, dayfirst, iterator, chunksize, compression, thousands, decimal, lineterminator, quotechar, quoting, escapechar, comment, encoding, dialect, tupleize_cols, error_bad_lines, warn_bad_lines, skipfooter, doublequote, delim_whitespace, low_memory, memory_map, float_precision)\u001b[0m\n\u001b[0;32m    676\u001b[0m                     skip_blank_lines=skip_blank_lines)\n\u001b[0;32m    677\u001b[0m \u001b[1;33m\u001b[0m\u001b[0m\n\u001b[1;32m--> 678\u001b[1;33m         \u001b[1;32mreturn\u001b[0m \u001b[0m_read\u001b[0m\u001b[1;33m(\u001b[0m\u001b[0mfilepath_or_buffer\u001b[0m\u001b[1;33m,\u001b[0m \u001b[0mkwds\u001b[0m\u001b[1;33m)\u001b[0m\u001b[1;33m\u001b[0m\u001b[1;33m\u001b[0m\u001b[0m\n\u001b[0m\u001b[0;32m    679\u001b[0m \u001b[1;33m\u001b[0m\u001b[0m\n\u001b[0;32m    680\u001b[0m     \u001b[0mparser_f\u001b[0m\u001b[1;33m.\u001b[0m\u001b[0m__name__\u001b[0m \u001b[1;33m=\u001b[0m \u001b[0mname\u001b[0m\u001b[1;33m\u001b[0m\u001b[1;33m\u001b[0m\u001b[0m\n",
      "\u001b[1;32m~\\Anaconda\\lib\\site-packages\\pandas\\io\\parsers.py\u001b[0m in \u001b[0;36m_read\u001b[1;34m(filepath_or_buffer, kwds)\u001b[0m\n\u001b[0;32m    444\u001b[0m \u001b[1;33m\u001b[0m\u001b[0m\n\u001b[0;32m    445\u001b[0m     \u001b[1;32mtry\u001b[0m\u001b[1;33m:\u001b[0m\u001b[1;33m\u001b[0m\u001b[1;33m\u001b[0m\u001b[0m\n\u001b[1;32m--> 446\u001b[1;33m         \u001b[0mdata\u001b[0m \u001b[1;33m=\u001b[0m \u001b[0mparser\u001b[0m\u001b[1;33m.\u001b[0m\u001b[0mread\u001b[0m\u001b[1;33m(\u001b[0m\u001b[0mnrows\u001b[0m\u001b[1;33m)\u001b[0m\u001b[1;33m\u001b[0m\u001b[1;33m\u001b[0m\u001b[0m\n\u001b[0m\u001b[0;32m    447\u001b[0m     \u001b[1;32mfinally\u001b[0m\u001b[1;33m:\u001b[0m\u001b[1;33m\u001b[0m\u001b[1;33m\u001b[0m\u001b[0m\n\u001b[0;32m    448\u001b[0m         \u001b[0mparser\u001b[0m\u001b[1;33m.\u001b[0m\u001b[0mclose\u001b[0m\u001b[1;33m(\u001b[0m\u001b[1;33m)\u001b[0m\u001b[1;33m\u001b[0m\u001b[1;33m\u001b[0m\u001b[0m\n",
      "\u001b[1;32m~\\Anaconda\\lib\\site-packages\\pandas\\io\\parsers.py\u001b[0m in \u001b[0;36mread\u001b[1;34m(self, nrows)\u001b[0m\n\u001b[0;32m   1034\u001b[0m                 \u001b[1;32mraise\u001b[0m \u001b[0mValueError\u001b[0m\u001b[1;33m(\u001b[0m\u001b[1;34m'skipfooter not supported for iteration'\u001b[0m\u001b[1;33m)\u001b[0m\u001b[1;33m\u001b[0m\u001b[1;33m\u001b[0m\u001b[0m\n\u001b[0;32m   1035\u001b[0m \u001b[1;33m\u001b[0m\u001b[0m\n\u001b[1;32m-> 1036\u001b[1;33m         \u001b[0mret\u001b[0m \u001b[1;33m=\u001b[0m \u001b[0mself\u001b[0m\u001b[1;33m.\u001b[0m\u001b[0m_engine\u001b[0m\u001b[1;33m.\u001b[0m\u001b[0mread\u001b[0m\u001b[1;33m(\u001b[0m\u001b[0mnrows\u001b[0m\u001b[1;33m)\u001b[0m\u001b[1;33m\u001b[0m\u001b[1;33m\u001b[0m\u001b[0m\n\u001b[0m\u001b[0;32m   1037\u001b[0m \u001b[1;33m\u001b[0m\u001b[0m\n\u001b[0;32m   1038\u001b[0m         \u001b[1;31m# May alter columns / col_dict\u001b[0m\u001b[1;33m\u001b[0m\u001b[1;33m\u001b[0m\u001b[1;33m\u001b[0m\u001b[0m\n",
      "\u001b[1;32m~\\Anaconda\\lib\\site-packages\\pandas\\io\\parsers.py\u001b[0m in \u001b[0;36mread\u001b[1;34m(self, nrows)\u001b[0m\n\u001b[0;32m   1846\u001b[0m     \u001b[1;32mdef\u001b[0m \u001b[0mread\u001b[0m\u001b[1;33m(\u001b[0m\u001b[0mself\u001b[0m\u001b[1;33m,\u001b[0m \u001b[0mnrows\u001b[0m\u001b[1;33m=\u001b[0m\u001b[1;32mNone\u001b[0m\u001b[1;33m)\u001b[0m\u001b[1;33m:\u001b[0m\u001b[1;33m\u001b[0m\u001b[1;33m\u001b[0m\u001b[0m\n\u001b[0;32m   1847\u001b[0m         \u001b[1;32mtry\u001b[0m\u001b[1;33m:\u001b[0m\u001b[1;33m\u001b[0m\u001b[1;33m\u001b[0m\u001b[0m\n\u001b[1;32m-> 1848\u001b[1;33m             \u001b[0mdata\u001b[0m \u001b[1;33m=\u001b[0m \u001b[0mself\u001b[0m\u001b[1;33m.\u001b[0m\u001b[0m_reader\u001b[0m\u001b[1;33m.\u001b[0m\u001b[0mread\u001b[0m\u001b[1;33m(\u001b[0m\u001b[0mnrows\u001b[0m\u001b[1;33m)\u001b[0m\u001b[1;33m\u001b[0m\u001b[1;33m\u001b[0m\u001b[0m\n\u001b[0m\u001b[0;32m   1849\u001b[0m         \u001b[1;32mexcept\u001b[0m \u001b[0mStopIteration\u001b[0m\u001b[1;33m:\u001b[0m\u001b[1;33m\u001b[0m\u001b[1;33m\u001b[0m\u001b[0m\n\u001b[0;32m   1850\u001b[0m             \u001b[1;32mif\u001b[0m \u001b[0mself\u001b[0m\u001b[1;33m.\u001b[0m\u001b[0m_first_chunk\u001b[0m\u001b[1;33m:\u001b[0m\u001b[1;33m\u001b[0m\u001b[1;33m\u001b[0m\u001b[0m\n",
      "\u001b[1;32mpandas\\_libs\\parsers.pyx\u001b[0m in \u001b[0;36mpandas._libs.parsers.TextReader.read\u001b[1;34m()\u001b[0m\n",
      "\u001b[1;32mpandas\\_libs\\parsers.pyx\u001b[0m in \u001b[0;36mpandas._libs.parsers.TextReader._read_low_memory\u001b[1;34m()\u001b[0m\n",
      "\u001b[1;32mpandas\\_libs\\parsers.pyx\u001b[0m in \u001b[0;36mpandas._libs.parsers.TextReader._read_rows\u001b[1;34m()\u001b[0m\n",
      "\u001b[1;32mpandas\\_libs\\parsers.pyx\u001b[0m in \u001b[0;36mpandas._libs.parsers.TextReader._convert_column_data\u001b[1;34m()\u001b[0m\n",
      "\u001b[1;32mpandas\\_libs\\parsers.pyx\u001b[0m in \u001b[0;36mpandas._libs.parsers.TextReader._convert_tokens\u001b[1;34m()\u001b[0m\n",
      "\u001b[1;32mpandas\\_libs\\parsers.pyx\u001b[0m in \u001b[0;36mpandas._libs.parsers.TextReader._convert_with_dtype\u001b[1;34m()\u001b[0m\n",
      "\u001b[1;32mpandas\\_libs\\parsers.pyx\u001b[0m in \u001b[0;36mpandas._libs.parsers.TextReader._string_convert\u001b[1;34m()\u001b[0m\n",
      "\u001b[1;32mpandas\\_libs\\parsers.pyx\u001b[0m in \u001b[0;36mpandas._libs.parsers._string_box_utf8\u001b[1;34m()\u001b[0m\n",
      "\u001b[1;31mUnicodeDecodeError\u001b[0m: 'utf-8' codec can't decode byte 0xf6 in position 18: invalid start byte"
     ]
    }
   ],
   "source": [
    "data4=pd.read_csv('medications.csv')"
   ]
  },
  {
   "cell_type": "code",
   "execution_count": 9,
   "metadata": {},
   "outputs": [
    {
     "data": {
      "text/html": [
       "<div>\n",
       "<style scoped>\n",
       "    .dataframe tbody tr th:only-of-type {\n",
       "        vertical-align: middle;\n",
       "    }\n",
       "\n",
       "    .dataframe tbody tr th {\n",
       "        vertical-align: top;\n",
       "    }\n",
       "\n",
       "    .dataframe thead th {\n",
       "        text-align: right;\n",
       "    }\n",
       "</style>\n",
       "<table border=\"1\" class=\"dataframe\">\n",
       "  <thead>\n",
       "    <tr style=\"text-align: right;\">\n",
       "      <th></th>\n",
       "      <th>SEQN</th>\n",
       "      <th>SDDSRVYR</th>\n",
       "      <th>RIDSTATR</th>\n",
       "      <th>RIAGENDR</th>\n",
       "      <th>RIDAGEYR</th>\n",
       "      <th>RIDAGEMN</th>\n",
       "      <th>RIDRETH1</th>\n",
       "      <th>RIDRETH3</th>\n",
       "      <th>RIDEXMON</th>\n",
       "      <th>RIDEXAGM</th>\n",
       "      <th>...</th>\n",
       "      <th>DMDHREDU</th>\n",
       "      <th>DMDHRMAR</th>\n",
       "      <th>DMDHSEDU</th>\n",
       "      <th>WTINT2YR</th>\n",
       "      <th>WTMEC2YR</th>\n",
       "      <th>SDMVPSU</th>\n",
       "      <th>SDMVSTRA</th>\n",
       "      <th>INDHHIN2</th>\n",
       "      <th>INDFMIN2</th>\n",
       "      <th>INDFMPIR</th>\n",
       "    </tr>\n",
       "  </thead>\n",
       "  <tbody>\n",
       "    <tr>\n",
       "      <th>0</th>\n",
       "      <td>73557</td>\n",
       "      <td>8</td>\n",
       "      <td>2</td>\n",
       "      <td>1</td>\n",
       "      <td>69</td>\n",
       "      <td>NaN</td>\n",
       "      <td>4</td>\n",
       "      <td>4</td>\n",
       "      <td>1.0</td>\n",
       "      <td>NaN</td>\n",
       "      <td>...</td>\n",
       "      <td>3.0</td>\n",
       "      <td>4.0</td>\n",
       "      <td>NaN</td>\n",
       "      <td>13281.237386</td>\n",
       "      <td>13481.042095</td>\n",
       "      <td>1</td>\n",
       "      <td>112</td>\n",
       "      <td>4.0</td>\n",
       "      <td>4.0</td>\n",
       "      <td>0.84</td>\n",
       "    </tr>\n",
       "    <tr>\n",
       "      <th>1</th>\n",
       "      <td>73558</td>\n",
       "      <td>8</td>\n",
       "      <td>2</td>\n",
       "      <td>1</td>\n",
       "      <td>54</td>\n",
       "      <td>NaN</td>\n",
       "      <td>3</td>\n",
       "      <td>3</td>\n",
       "      <td>1.0</td>\n",
       "      <td>NaN</td>\n",
       "      <td>...</td>\n",
       "      <td>3.0</td>\n",
       "      <td>1.0</td>\n",
       "      <td>1.0</td>\n",
       "      <td>23682.057386</td>\n",
       "      <td>24471.769625</td>\n",
       "      <td>1</td>\n",
       "      <td>108</td>\n",
       "      <td>7.0</td>\n",
       "      <td>7.0</td>\n",
       "      <td>1.78</td>\n",
       "    </tr>\n",
       "    <tr>\n",
       "      <th>2</th>\n",
       "      <td>73559</td>\n",
       "      <td>8</td>\n",
       "      <td>2</td>\n",
       "      <td>1</td>\n",
       "      <td>72</td>\n",
       "      <td>NaN</td>\n",
       "      <td>3</td>\n",
       "      <td>3</td>\n",
       "      <td>2.0</td>\n",
       "      <td>NaN</td>\n",
       "      <td>...</td>\n",
       "      <td>4.0</td>\n",
       "      <td>1.0</td>\n",
       "      <td>3.0</td>\n",
       "      <td>57214.803319</td>\n",
       "      <td>57193.285376</td>\n",
       "      <td>1</td>\n",
       "      <td>109</td>\n",
       "      <td>10.0</td>\n",
       "      <td>10.0</td>\n",
       "      <td>4.51</td>\n",
       "    </tr>\n",
       "    <tr>\n",
       "      <th>3</th>\n",
       "      <td>73560</td>\n",
       "      <td>8</td>\n",
       "      <td>2</td>\n",
       "      <td>1</td>\n",
       "      <td>9</td>\n",
       "      <td>NaN</td>\n",
       "      <td>3</td>\n",
       "      <td>3</td>\n",
       "      <td>1.0</td>\n",
       "      <td>119.0</td>\n",
       "      <td>...</td>\n",
       "      <td>3.0</td>\n",
       "      <td>1.0</td>\n",
       "      <td>4.0</td>\n",
       "      <td>55201.178592</td>\n",
       "      <td>55766.512438</td>\n",
       "      <td>2</td>\n",
       "      <td>109</td>\n",
       "      <td>9.0</td>\n",
       "      <td>9.0</td>\n",
       "      <td>2.52</td>\n",
       "    </tr>\n",
       "    <tr>\n",
       "      <th>4</th>\n",
       "      <td>73561</td>\n",
       "      <td>8</td>\n",
       "      <td>2</td>\n",
       "      <td>2</td>\n",
       "      <td>73</td>\n",
       "      <td>NaN</td>\n",
       "      <td>3</td>\n",
       "      <td>3</td>\n",
       "      <td>1.0</td>\n",
       "      <td>NaN</td>\n",
       "      <td>...</td>\n",
       "      <td>5.0</td>\n",
       "      <td>1.0</td>\n",
       "      <td>5.0</td>\n",
       "      <td>63709.667069</td>\n",
       "      <td>65541.871229</td>\n",
       "      <td>2</td>\n",
       "      <td>116</td>\n",
       "      <td>15.0</td>\n",
       "      <td>15.0</td>\n",
       "      <td>5.00</td>\n",
       "    </tr>\n",
       "  </tbody>\n",
       "</table>\n",
       "<p>5 rows × 47 columns</p>\n",
       "</div>"
      ],
      "text/plain": [
       "    SEQN  SDDSRVYR  RIDSTATR  RIAGENDR  RIDAGEYR  RIDAGEMN  RIDRETH1  \\\n",
       "0  73557         8         2         1        69       NaN         4   \n",
       "1  73558         8         2         1        54       NaN         3   \n",
       "2  73559         8         2         1        72       NaN         3   \n",
       "3  73560         8         2         1         9       NaN         3   \n",
       "4  73561         8         2         2        73       NaN         3   \n",
       "\n",
       "   RIDRETH3  RIDEXMON  RIDEXAGM    ...     DMDHREDU  DMDHRMAR  DMDHSEDU  \\\n",
       "0         4       1.0       NaN    ...          3.0       4.0       NaN   \n",
       "1         3       1.0       NaN    ...          3.0       1.0       1.0   \n",
       "2         3       2.0       NaN    ...          4.0       1.0       3.0   \n",
       "3         3       1.0     119.0    ...          3.0       1.0       4.0   \n",
       "4         3       1.0       NaN    ...          5.0       1.0       5.0   \n",
       "\n",
       "       WTINT2YR      WTMEC2YR  SDMVPSU  SDMVSTRA  INDHHIN2  INDFMIN2  INDFMPIR  \n",
       "0  13281.237386  13481.042095        1       112       4.0       4.0      0.84  \n",
       "1  23682.057386  24471.769625        1       108       7.0       7.0      1.78  \n",
       "2  57214.803319  57193.285376        1       109      10.0      10.0      4.51  \n",
       "3  55201.178592  55766.512438        2       109       9.0       9.0      2.52  \n",
       "4  63709.667069  65541.871229        2       116      15.0      15.0      5.00  \n",
       "\n",
       "[5 rows x 47 columns]"
      ]
     },
     "execution_count": 9,
     "metadata": {},
     "output_type": "execute_result"
    }
   ],
   "source": [
    "data.head()"
   ]
  },
  {
   "cell_type": "code",
   "execution_count": 10,
   "metadata": {},
   "outputs": [],
   "source": [
    "data4=pd.read_csv('questionnaire.csv')"
   ]
  },
  {
   "cell_type": "code",
   "execution_count": 11,
   "metadata": {},
   "outputs": [
    {
     "name": "stdout",
     "output_type": "stream",
     "text": [
      "<class 'pandas.core.frame.DataFrame'>\n",
      "RangeIndex: 10175 entries, 0 to 10174\n",
      "Columns: 953 entries, SEQN to WHQ520\n",
      "dtypes: float64(944), int64(7), object(2)\n",
      "memory usage: 74.0+ MB\n"
     ]
    }
   ],
   "source": [
    "data4.info()"
   ]
  },
  {
   "cell_type": "code",
   "execution_count": 12,
   "metadata": {},
   "outputs": [
    {
     "data": {
      "text/html": [
       "<div>\n",
       "<style scoped>\n",
       "    .dataframe tbody tr th:only-of-type {\n",
       "        vertical-align: middle;\n",
       "    }\n",
       "\n",
       "    .dataframe tbody tr th {\n",
       "        vertical-align: top;\n",
       "    }\n",
       "\n",
       "    .dataframe thead th {\n",
       "        text-align: right;\n",
       "    }\n",
       "</style>\n",
       "<table border=\"1\" class=\"dataframe\">\n",
       "  <thead>\n",
       "    <tr style=\"text-align: right;\">\n",
       "      <th></th>\n",
       "      <th>SEQN</th>\n",
       "      <th>SDDSRVYR</th>\n",
       "      <th>RIDSTATR</th>\n",
       "      <th>RIAGENDR</th>\n",
       "      <th>RIDAGEYR</th>\n",
       "      <th>RIDAGEMN</th>\n",
       "      <th>RIDRETH1</th>\n",
       "      <th>RIDRETH3</th>\n",
       "      <th>RIDEXMON</th>\n",
       "      <th>RIDEXAGM</th>\n",
       "      <th>...</th>\n",
       "      <th>DMDHREDU</th>\n",
       "      <th>DMDHRMAR</th>\n",
       "      <th>DMDHSEDU</th>\n",
       "      <th>WTINT2YR</th>\n",
       "      <th>WTMEC2YR</th>\n",
       "      <th>SDMVPSU</th>\n",
       "      <th>SDMVSTRA</th>\n",
       "      <th>INDHHIN2</th>\n",
       "      <th>INDFMIN2</th>\n",
       "      <th>INDFMPIR</th>\n",
       "    </tr>\n",
       "  </thead>\n",
       "  <tbody>\n",
       "    <tr>\n",
       "      <th>0</th>\n",
       "      <td>73557</td>\n",
       "      <td>8</td>\n",
       "      <td>2</td>\n",
       "      <td>1</td>\n",
       "      <td>69</td>\n",
       "      <td>NaN</td>\n",
       "      <td>4</td>\n",
       "      <td>4</td>\n",
       "      <td>1.0</td>\n",
       "      <td>NaN</td>\n",
       "      <td>...</td>\n",
       "      <td>3.0</td>\n",
       "      <td>4.0</td>\n",
       "      <td>NaN</td>\n",
       "      <td>13281.237386</td>\n",
       "      <td>13481.042095</td>\n",
       "      <td>1</td>\n",
       "      <td>112</td>\n",
       "      <td>4.0</td>\n",
       "      <td>4.0</td>\n",
       "      <td>0.84</td>\n",
       "    </tr>\n",
       "    <tr>\n",
       "      <th>1</th>\n",
       "      <td>73558</td>\n",
       "      <td>8</td>\n",
       "      <td>2</td>\n",
       "      <td>1</td>\n",
       "      <td>54</td>\n",
       "      <td>NaN</td>\n",
       "      <td>3</td>\n",
       "      <td>3</td>\n",
       "      <td>1.0</td>\n",
       "      <td>NaN</td>\n",
       "      <td>...</td>\n",
       "      <td>3.0</td>\n",
       "      <td>1.0</td>\n",
       "      <td>1.0</td>\n",
       "      <td>23682.057386</td>\n",
       "      <td>24471.769625</td>\n",
       "      <td>1</td>\n",
       "      <td>108</td>\n",
       "      <td>7.0</td>\n",
       "      <td>7.0</td>\n",
       "      <td>1.78</td>\n",
       "    </tr>\n",
       "    <tr>\n",
       "      <th>2</th>\n",
       "      <td>73559</td>\n",
       "      <td>8</td>\n",
       "      <td>2</td>\n",
       "      <td>1</td>\n",
       "      <td>72</td>\n",
       "      <td>NaN</td>\n",
       "      <td>3</td>\n",
       "      <td>3</td>\n",
       "      <td>2.0</td>\n",
       "      <td>NaN</td>\n",
       "      <td>...</td>\n",
       "      <td>4.0</td>\n",
       "      <td>1.0</td>\n",
       "      <td>3.0</td>\n",
       "      <td>57214.803319</td>\n",
       "      <td>57193.285376</td>\n",
       "      <td>1</td>\n",
       "      <td>109</td>\n",
       "      <td>10.0</td>\n",
       "      <td>10.0</td>\n",
       "      <td>4.51</td>\n",
       "    </tr>\n",
       "    <tr>\n",
       "      <th>3</th>\n",
       "      <td>73560</td>\n",
       "      <td>8</td>\n",
       "      <td>2</td>\n",
       "      <td>1</td>\n",
       "      <td>9</td>\n",
       "      <td>NaN</td>\n",
       "      <td>3</td>\n",
       "      <td>3</td>\n",
       "      <td>1.0</td>\n",
       "      <td>119.0</td>\n",
       "      <td>...</td>\n",
       "      <td>3.0</td>\n",
       "      <td>1.0</td>\n",
       "      <td>4.0</td>\n",
       "      <td>55201.178592</td>\n",
       "      <td>55766.512438</td>\n",
       "      <td>2</td>\n",
       "      <td>109</td>\n",
       "      <td>9.0</td>\n",
       "      <td>9.0</td>\n",
       "      <td>2.52</td>\n",
       "    </tr>\n",
       "    <tr>\n",
       "      <th>4</th>\n",
       "      <td>73561</td>\n",
       "      <td>8</td>\n",
       "      <td>2</td>\n",
       "      <td>2</td>\n",
       "      <td>73</td>\n",
       "      <td>NaN</td>\n",
       "      <td>3</td>\n",
       "      <td>3</td>\n",
       "      <td>1.0</td>\n",
       "      <td>NaN</td>\n",
       "      <td>...</td>\n",
       "      <td>5.0</td>\n",
       "      <td>1.0</td>\n",
       "      <td>5.0</td>\n",
       "      <td>63709.667069</td>\n",
       "      <td>65541.871229</td>\n",
       "      <td>2</td>\n",
       "      <td>116</td>\n",
       "      <td>15.0</td>\n",
       "      <td>15.0</td>\n",
       "      <td>5.00</td>\n",
       "    </tr>\n",
       "  </tbody>\n",
       "</table>\n",
       "<p>5 rows × 47 columns</p>\n",
       "</div>"
      ],
      "text/plain": [
       "    SEQN  SDDSRVYR  RIDSTATR  RIAGENDR  RIDAGEYR  RIDAGEMN  RIDRETH1  \\\n",
       "0  73557         8         2         1        69       NaN         4   \n",
       "1  73558         8         2         1        54       NaN         3   \n",
       "2  73559         8         2         1        72       NaN         3   \n",
       "3  73560         8         2         1         9       NaN         3   \n",
       "4  73561         8         2         2        73       NaN         3   \n",
       "\n",
       "   RIDRETH3  RIDEXMON  RIDEXAGM    ...     DMDHREDU  DMDHRMAR  DMDHSEDU  \\\n",
       "0         4       1.0       NaN    ...          3.0       4.0       NaN   \n",
       "1         3       1.0       NaN    ...          3.0       1.0       1.0   \n",
       "2         3       2.0       NaN    ...          4.0       1.0       3.0   \n",
       "3         3       1.0     119.0    ...          3.0       1.0       4.0   \n",
       "4         3       1.0       NaN    ...          5.0       1.0       5.0   \n",
       "\n",
       "       WTINT2YR      WTMEC2YR  SDMVPSU  SDMVSTRA  INDHHIN2  INDFMIN2  INDFMPIR  \n",
       "0  13281.237386  13481.042095        1       112       4.0       4.0      0.84  \n",
       "1  23682.057386  24471.769625        1       108       7.0       7.0      1.78  \n",
       "2  57214.803319  57193.285376        1       109      10.0      10.0      4.51  \n",
       "3  55201.178592  55766.512438        2       109       9.0       9.0      2.52  \n",
       "4  63709.667069  65541.871229        2       116      15.0      15.0      5.00  \n",
       "\n",
       "[5 rows x 47 columns]"
      ]
     },
     "execution_count": 12,
     "metadata": {},
     "output_type": "execute_result"
    }
   ],
   "source": [
    "data.head()"
   ]
  },
  {
   "cell_type": "code",
   "execution_count": 135,
   "metadata": {},
   "outputs": [],
   "source": [
    "mydata=data.filter(['SEQN', 'RIAGENDR','DMDMARTL','INDHHIN2', 'INDFMIN2','DMDEDUC2','DMDHHSZA','DMDHHSZB','DMDHRGND', 'DMDHRMAR','RIDAGEYR'], axis=1) #selected all the columns i need from 'data' into 'mydata' "
   ]
  },
  {
   "cell_type": "code",
   "execution_count": 136,
   "metadata": {},
   "outputs": [
    {
     "name": "stdout",
     "output_type": "stream",
     "text": [
      "<class 'pandas.core.frame.DataFrame'>\n",
      "RangeIndex: 10175 entries, 0 to 10174\n",
      "Data columns (total 11 columns):\n",
      "SEQN        10175 non-null int64\n",
      "RIAGENDR    10175 non-null int64\n",
      "DMDMARTL    5769 non-null float64\n",
      "INDHHIN2    10042 non-null float64\n",
      "INDFMIN2    10052 non-null float64\n",
      "DMDEDUC2    5769 non-null float64\n",
      "DMDHHSZA    10175 non-null int64\n",
      "DMDHHSZB    10175 non-null int64\n",
      "DMDHRGND    10175 non-null int64\n",
      "DMDHRMAR    10052 non-null float64\n",
      "RIDAGEYR    10175 non-null int64\n",
      "dtypes: float64(5), int64(6)\n",
      "memory usage: 874.5 KB\n"
     ]
    }
   ],
   "source": [
    "mydata.info()"
   ]
  },
  {
   "cell_type": "code",
   "execution_count": 137,
   "metadata": {},
   "outputs": [],
   "source": [
    "mydata2=data4.filter(['SEQN','MCQ010','MCQ053', 'MCQ203', 'MCQ040', 'HUQ010', 'ECD070A', 'ECD070B', 'WHQ030E', 'IND235','WHQ030M','IMQ011','IMQ020'], axis=1) #selected all the columns i need from 'data4' into 'mydata2'"
   ]
  },
  {
   "cell_type": "code",
   "execution_count": 138,
   "metadata": {},
   "outputs": [
    {
     "name": "stdout",
     "output_type": "stream",
     "text": [
      "<class 'pandas.core.frame.DataFrame'>\n",
      "RangeIndex: 10175 entries, 0 to 10174\n",
      "Data columns (total 13 columns):\n",
      "SEQN       10175 non-null int64\n",
      "MCQ010     9769 non-null float64\n",
      "MCQ053     9769 non-null float64\n",
      "MCQ203     8472 non-null float64\n",
      "MCQ040     939 non-null float64\n",
      "HUQ010     10175 non-null int64\n",
      "ECD070A    3710 non-null float64\n",
      "ECD070B    3710 non-null float64\n",
      "WHQ030E    3042 non-null float64\n",
      "IND235     9806 non-null float64\n",
      "WHQ030M    1478 non-null float64\n",
      "IMQ011     9507 non-null float64\n",
      "IMQ020     10175 non-null int64\n",
      "dtypes: float64(10), int64(3)\n",
      "memory usage: 1.0 MB\n"
     ]
    }
   ],
   "source": [
    "mydata2.info()"
   ]
  },
  {
   "cell_type": "code",
   "execution_count": 139,
   "metadata": {},
   "outputs": [
    {
     "data": {
      "text/html": [
       "<div>\n",
       "<style scoped>\n",
       "    .dataframe tbody tr th:only-of-type {\n",
       "        vertical-align: middle;\n",
       "    }\n",
       "\n",
       "    .dataframe tbody tr th {\n",
       "        vertical-align: top;\n",
       "    }\n",
       "\n",
       "    .dataframe thead th {\n",
       "        text-align: right;\n",
       "    }\n",
       "</style>\n",
       "<table border=\"1\" class=\"dataframe\">\n",
       "  <thead>\n",
       "    <tr style=\"text-align: right;\">\n",
       "      <th></th>\n",
       "      <th>SEQN</th>\n",
       "      <th>MCQ010</th>\n",
       "      <th>MCQ053</th>\n",
       "      <th>MCQ203</th>\n",
       "      <th>MCQ040</th>\n",
       "      <th>HUQ010</th>\n",
       "      <th>ECD070A</th>\n",
       "      <th>ECD070B</th>\n",
       "      <th>WHQ030E</th>\n",
       "      <th>IND235</th>\n",
       "      <th>WHQ030M</th>\n",
       "      <th>IMQ011</th>\n",
       "      <th>IMQ020</th>\n",
       "    </tr>\n",
       "  </thead>\n",
       "  <tbody>\n",
       "    <tr>\n",
       "      <th>0</th>\n",
       "      <td>73557</td>\n",
       "      <td>2.0</td>\n",
       "      <td>2.0</td>\n",
       "      <td>2.0</td>\n",
       "      <td>NaN</td>\n",
       "      <td>2</td>\n",
       "      <td>NaN</td>\n",
       "      <td>NaN</td>\n",
       "      <td>NaN</td>\n",
       "      <td>4.0</td>\n",
       "      <td>NaN</td>\n",
       "      <td>3.0</td>\n",
       "      <td>3</td>\n",
       "    </tr>\n",
       "    <tr>\n",
       "      <th>1</th>\n",
       "      <td>73558</td>\n",
       "      <td>1.0</td>\n",
       "      <td>2.0</td>\n",
       "      <td>2.0</td>\n",
       "      <td>1.0</td>\n",
       "      <td>4</td>\n",
       "      <td>NaN</td>\n",
       "      <td>NaN</td>\n",
       "      <td>NaN</td>\n",
       "      <td>5.0</td>\n",
       "      <td>NaN</td>\n",
       "      <td>3.0</td>\n",
       "      <td>3</td>\n",
       "    </tr>\n",
       "    <tr>\n",
       "      <th>2</th>\n",
       "      <td>73559</td>\n",
       "      <td>2.0</td>\n",
       "      <td>2.0</td>\n",
       "      <td>2.0</td>\n",
       "      <td>NaN</td>\n",
       "      <td>3</td>\n",
       "      <td>NaN</td>\n",
       "      <td>NaN</td>\n",
       "      <td>NaN</td>\n",
       "      <td>10.0</td>\n",
       "      <td>NaN</td>\n",
       "      <td>3.0</td>\n",
       "      <td>3</td>\n",
       "    </tr>\n",
       "    <tr>\n",
       "      <th>3</th>\n",
       "      <td>73560</td>\n",
       "      <td>2.0</td>\n",
       "      <td>2.0</td>\n",
       "      <td>2.0</td>\n",
       "      <td>NaN</td>\n",
       "      <td>2</td>\n",
       "      <td>6.0</td>\n",
       "      <td>0.0</td>\n",
       "      <td>3.0</td>\n",
       "      <td>9.0</td>\n",
       "      <td>3.0</td>\n",
       "      <td>1.0</td>\n",
       "      <td>1</td>\n",
       "    </tr>\n",
       "    <tr>\n",
       "      <th>4</th>\n",
       "      <td>73561</td>\n",
       "      <td>2.0</td>\n",
       "      <td>2.0</td>\n",
       "      <td>2.0</td>\n",
       "      <td>NaN</td>\n",
       "      <td>5</td>\n",
       "      <td>NaN</td>\n",
       "      <td>NaN</td>\n",
       "      <td>NaN</td>\n",
       "      <td>11.0</td>\n",
       "      <td>NaN</td>\n",
       "      <td>3.0</td>\n",
       "      <td>3</td>\n",
       "    </tr>\n",
       "  </tbody>\n",
       "</table>\n",
       "</div>"
      ],
      "text/plain": [
       "    SEQN  MCQ010  MCQ053  MCQ203  MCQ040  HUQ010  ECD070A  ECD070B  WHQ030E  \\\n",
       "0  73557     2.0     2.0     2.0     NaN       2      NaN      NaN      NaN   \n",
       "1  73558     1.0     2.0     2.0     1.0       4      NaN      NaN      NaN   \n",
       "2  73559     2.0     2.0     2.0     NaN       3      NaN      NaN      NaN   \n",
       "3  73560     2.0     2.0     2.0     NaN       2      6.0      0.0      3.0   \n",
       "4  73561     2.0     2.0     2.0     NaN       5      NaN      NaN      NaN   \n",
       "\n",
       "   IND235  WHQ030M  IMQ011  IMQ020  \n",
       "0     4.0      NaN     3.0       3  \n",
       "1     5.0      NaN     3.0       3  \n",
       "2    10.0      NaN     3.0       3  \n",
       "3     9.0      3.0     1.0       1  \n",
       "4    11.0      NaN     3.0       3  "
      ]
     },
     "execution_count": 139,
     "metadata": {},
     "output_type": "execute_result"
    }
   ],
   "source": [
    "mydata2.head()"
   ]
  },
  {
   "cell_type": "code",
   "execution_count": 140,
   "metadata": {},
   "outputs": [],
   "source": [
    "merged_data = pd.merge(mydata, mydata2, on='SEQN', how='inner') # i merged my new dataframes (mydata and mydata2) into 'merged_data'"
   ]
  },
  {
   "cell_type": "code",
   "execution_count": 141,
   "metadata": {},
   "outputs": [
    {
     "name": "stdout",
     "output_type": "stream",
     "text": [
      "<class 'pandas.core.frame.DataFrame'>\n",
      "Int64Index: 10175 entries, 0 to 10174\n",
      "Data columns (total 23 columns):\n",
      "SEQN        10175 non-null int64\n",
      "RIAGENDR    10175 non-null int64\n",
      "DMDMARTL    5769 non-null float64\n",
      "INDHHIN2    10042 non-null float64\n",
      "INDFMIN2    10052 non-null float64\n",
      "DMDEDUC2    5769 non-null float64\n",
      "DMDHHSZA    10175 non-null int64\n",
      "DMDHHSZB    10175 non-null int64\n",
      "DMDHRGND    10175 non-null int64\n",
      "DMDHRMAR    10052 non-null float64\n",
      "RIDAGEYR    10175 non-null int64\n",
      "MCQ010      9769 non-null float64\n",
      "MCQ053      9769 non-null float64\n",
      "MCQ203      8472 non-null float64\n",
      "MCQ040      939 non-null float64\n",
      "HUQ010      10175 non-null int64\n",
      "ECD070A     3710 non-null float64\n",
      "ECD070B     3710 non-null float64\n",
      "WHQ030E     3042 non-null float64\n",
      "IND235      9806 non-null float64\n",
      "WHQ030M     1478 non-null float64\n",
      "IMQ011      9507 non-null float64\n",
      "IMQ020      10175 non-null int64\n",
      "dtypes: float64(15), int64(8)\n",
      "memory usage: 1.9 MB\n"
     ]
    }
   ],
   "source": [
    "merged_data.info()"
   ]
  },
  {
   "cell_type": "code",
   "execution_count": 142,
   "metadata": {
    "scrolled": true
   },
   "outputs": [
    {
     "data": {
      "text/html": [
       "<div>\n",
       "<style scoped>\n",
       "    .dataframe tbody tr th:only-of-type {\n",
       "        vertical-align: middle;\n",
       "    }\n",
       "\n",
       "    .dataframe tbody tr th {\n",
       "        vertical-align: top;\n",
       "    }\n",
       "\n",
       "    .dataframe thead th {\n",
       "        text-align: right;\n",
       "    }\n",
       "</style>\n",
       "<table border=\"1\" class=\"dataframe\">\n",
       "  <thead>\n",
       "    <tr style=\"text-align: right;\">\n",
       "      <th></th>\n",
       "      <th>SEQN</th>\n",
       "      <th>RIAGENDR</th>\n",
       "      <th>DMDMARTL</th>\n",
       "      <th>INDHHIN2</th>\n",
       "      <th>INDFMIN2</th>\n",
       "      <th>DMDEDUC2</th>\n",
       "      <th>DMDHHSZA</th>\n",
       "      <th>DMDHHSZB</th>\n",
       "      <th>DMDHRGND</th>\n",
       "      <th>DMDHRMAR</th>\n",
       "      <th>...</th>\n",
       "      <th>MCQ203</th>\n",
       "      <th>MCQ040</th>\n",
       "      <th>HUQ010</th>\n",
       "      <th>ECD070A</th>\n",
       "      <th>ECD070B</th>\n",
       "      <th>WHQ030E</th>\n",
       "      <th>IND235</th>\n",
       "      <th>WHQ030M</th>\n",
       "      <th>IMQ011</th>\n",
       "      <th>IMQ020</th>\n",
       "    </tr>\n",
       "  </thead>\n",
       "  <tbody>\n",
       "    <tr>\n",
       "      <th>0</th>\n",
       "      <td>73557</td>\n",
       "      <td>1</td>\n",
       "      <td>4.0</td>\n",
       "      <td>4.0</td>\n",
       "      <td>4.0</td>\n",
       "      <td>3.0</td>\n",
       "      <td>0</td>\n",
       "      <td>0</td>\n",
       "      <td>1</td>\n",
       "      <td>4.0</td>\n",
       "      <td>...</td>\n",
       "      <td>2.0</td>\n",
       "      <td>NaN</td>\n",
       "      <td>2</td>\n",
       "      <td>NaN</td>\n",
       "      <td>NaN</td>\n",
       "      <td>NaN</td>\n",
       "      <td>4.0</td>\n",
       "      <td>NaN</td>\n",
       "      <td>3.0</td>\n",
       "      <td>3</td>\n",
       "    </tr>\n",
       "    <tr>\n",
       "      <th>1</th>\n",
       "      <td>73558</td>\n",
       "      <td>1</td>\n",
       "      <td>1.0</td>\n",
       "      <td>7.0</td>\n",
       "      <td>7.0</td>\n",
       "      <td>3.0</td>\n",
       "      <td>0</td>\n",
       "      <td>2</td>\n",
       "      <td>1</td>\n",
       "      <td>1.0</td>\n",
       "      <td>...</td>\n",
       "      <td>2.0</td>\n",
       "      <td>1.0</td>\n",
       "      <td>4</td>\n",
       "      <td>NaN</td>\n",
       "      <td>NaN</td>\n",
       "      <td>NaN</td>\n",
       "      <td>5.0</td>\n",
       "      <td>NaN</td>\n",
       "      <td>3.0</td>\n",
       "      <td>3</td>\n",
       "    </tr>\n",
       "    <tr>\n",
       "      <th>2</th>\n",
       "      <td>73559</td>\n",
       "      <td>1</td>\n",
       "      <td>1.0</td>\n",
       "      <td>10.0</td>\n",
       "      <td>10.0</td>\n",
       "      <td>4.0</td>\n",
       "      <td>0</td>\n",
       "      <td>0</td>\n",
       "      <td>1</td>\n",
       "      <td>1.0</td>\n",
       "      <td>...</td>\n",
       "      <td>2.0</td>\n",
       "      <td>NaN</td>\n",
       "      <td>3</td>\n",
       "      <td>NaN</td>\n",
       "      <td>NaN</td>\n",
       "      <td>NaN</td>\n",
       "      <td>10.0</td>\n",
       "      <td>NaN</td>\n",
       "      <td>3.0</td>\n",
       "      <td>3</td>\n",
       "    </tr>\n",
       "    <tr>\n",
       "      <th>3</th>\n",
       "      <td>73560</td>\n",
       "      <td>1</td>\n",
       "      <td>NaN</td>\n",
       "      <td>9.0</td>\n",
       "      <td>9.0</td>\n",
       "      <td>NaN</td>\n",
       "      <td>0</td>\n",
       "      <td>2</td>\n",
       "      <td>1</td>\n",
       "      <td>1.0</td>\n",
       "      <td>...</td>\n",
       "      <td>2.0</td>\n",
       "      <td>NaN</td>\n",
       "      <td>2</td>\n",
       "      <td>6.0</td>\n",
       "      <td>0.0</td>\n",
       "      <td>3.0</td>\n",
       "      <td>9.0</td>\n",
       "      <td>3.0</td>\n",
       "      <td>1.0</td>\n",
       "      <td>1</td>\n",
       "    </tr>\n",
       "    <tr>\n",
       "      <th>4</th>\n",
       "      <td>73561</td>\n",
       "      <td>2</td>\n",
       "      <td>1.0</td>\n",
       "      <td>15.0</td>\n",
       "      <td>15.0</td>\n",
       "      <td>5.0</td>\n",
       "      <td>0</td>\n",
       "      <td>0</td>\n",
       "      <td>1</td>\n",
       "      <td>1.0</td>\n",
       "      <td>...</td>\n",
       "      <td>2.0</td>\n",
       "      <td>NaN</td>\n",
       "      <td>5</td>\n",
       "      <td>NaN</td>\n",
       "      <td>NaN</td>\n",
       "      <td>NaN</td>\n",
       "      <td>11.0</td>\n",
       "      <td>NaN</td>\n",
       "      <td>3.0</td>\n",
       "      <td>3</td>\n",
       "    </tr>\n",
       "  </tbody>\n",
       "</table>\n",
       "<p>5 rows × 23 columns</p>\n",
       "</div>"
      ],
      "text/plain": [
       "    SEQN  RIAGENDR  DMDMARTL  INDHHIN2  INDFMIN2  DMDEDUC2  DMDHHSZA  \\\n",
       "0  73557         1       4.0       4.0       4.0       3.0         0   \n",
       "1  73558         1       1.0       7.0       7.0       3.0         0   \n",
       "2  73559         1       1.0      10.0      10.0       4.0         0   \n",
       "3  73560         1       NaN       9.0       9.0       NaN         0   \n",
       "4  73561         2       1.0      15.0      15.0       5.0         0   \n",
       "\n",
       "   DMDHHSZB  DMDHRGND  DMDHRMAR   ...    MCQ203  MCQ040  HUQ010  ECD070A  \\\n",
       "0         0         1       4.0   ...       2.0     NaN       2      NaN   \n",
       "1         2         1       1.0   ...       2.0     1.0       4      NaN   \n",
       "2         0         1       1.0   ...       2.0     NaN       3      NaN   \n",
       "3         2         1       1.0   ...       2.0     NaN       2      6.0   \n",
       "4         0         1       1.0   ...       2.0     NaN       5      NaN   \n",
       "\n",
       "   ECD070B  WHQ030E  IND235  WHQ030M  IMQ011  IMQ020  \n",
       "0      NaN      NaN     4.0      NaN     3.0       3  \n",
       "1      NaN      NaN     5.0      NaN     3.0       3  \n",
       "2      NaN      NaN    10.0      NaN     3.0       3  \n",
       "3      0.0      3.0     9.0      3.0     1.0       1  \n",
       "4      NaN      NaN    11.0      NaN     3.0       3  \n",
       "\n",
       "[5 rows x 23 columns]"
      ]
     },
     "execution_count": 142,
     "metadata": {},
     "output_type": "execute_result"
    }
   ],
   "source": [
    "merged_data.head()"
   ]
  },
  {
   "cell_type": "code",
   "execution_count": 143,
   "metadata": {},
   "outputs": [
    {
     "data": {
      "text/html": [
       "<div>\n",
       "<style scoped>\n",
       "    .dataframe tbody tr th:only-of-type {\n",
       "        vertical-align: middle;\n",
       "    }\n",
       "\n",
       "    .dataframe tbody tr th {\n",
       "        vertical-align: top;\n",
       "    }\n",
       "\n",
       "    .dataframe thead th {\n",
       "        text-align: right;\n",
       "    }\n",
       "</style>\n",
       "<table border=\"1\" class=\"dataframe\">\n",
       "  <thead>\n",
       "    <tr style=\"text-align: right;\">\n",
       "      <th></th>\n",
       "      <th>SEQN</th>\n",
       "      <th>RIAGENDR</th>\n",
       "      <th>DMDMARTL</th>\n",
       "      <th>INDHHIN2</th>\n",
       "      <th>INDFMIN2</th>\n",
       "      <th>DMDEDUC2</th>\n",
       "      <th>DMDHHSZA</th>\n",
       "      <th>DMDHHSZB</th>\n",
       "      <th>DMDHRGND</th>\n",
       "      <th>DMDHRMAR</th>\n",
       "      <th>...</th>\n",
       "      <th>MCQ203</th>\n",
       "      <th>MCQ040</th>\n",
       "      <th>HUQ010</th>\n",
       "      <th>ECD070A</th>\n",
       "      <th>ECD070B</th>\n",
       "      <th>WHQ030E</th>\n",
       "      <th>IND235</th>\n",
       "      <th>WHQ030M</th>\n",
       "      <th>IMQ011</th>\n",
       "      <th>IMQ020</th>\n",
       "    </tr>\n",
       "  </thead>\n",
       "  <tbody>\n",
       "    <tr>\n",
       "      <th>10170</th>\n",
       "      <td>83727</td>\n",
       "      <td>1</td>\n",
       "      <td>5.0</td>\n",
       "      <td>77.0</td>\n",
       "      <td>77.0</td>\n",
       "      <td>5.0</td>\n",
       "      <td>0</td>\n",
       "      <td>0</td>\n",
       "      <td>2</td>\n",
       "      <td>NaN</td>\n",
       "      <td>...</td>\n",
       "      <td>2.0</td>\n",
       "      <td>NaN</td>\n",
       "      <td>4</td>\n",
       "      <td>NaN</td>\n",
       "      <td>NaN</td>\n",
       "      <td>NaN</td>\n",
       "      <td>NaN</td>\n",
       "      <td>NaN</td>\n",
       "      <td>3.0</td>\n",
       "      <td>3</td>\n",
       "    </tr>\n",
       "    <tr>\n",
       "      <th>10171</th>\n",
       "      <td>83728</td>\n",
       "      <td>2</td>\n",
       "      <td>NaN</td>\n",
       "      <td>8.0</td>\n",
       "      <td>8.0</td>\n",
       "      <td>NaN</td>\n",
       "      <td>1</td>\n",
       "      <td>1</td>\n",
       "      <td>1</td>\n",
       "      <td>1.0</td>\n",
       "      <td>...</td>\n",
       "      <td>NaN</td>\n",
       "      <td>NaN</td>\n",
       "      <td>2</td>\n",
       "      <td>6.0</td>\n",
       "      <td>7.0</td>\n",
       "      <td>2.0</td>\n",
       "      <td>12.0</td>\n",
       "      <td>NaN</td>\n",
       "      <td>1.0</td>\n",
       "      <td>2</td>\n",
       "    </tr>\n",
       "    <tr>\n",
       "      <th>10172</th>\n",
       "      <td>83729</td>\n",
       "      <td>2</td>\n",
       "      <td>3.0</td>\n",
       "      <td>7.0</td>\n",
       "      <td>7.0</td>\n",
       "      <td>5.0</td>\n",
       "      <td>0</td>\n",
       "      <td>0</td>\n",
       "      <td>2</td>\n",
       "      <td>3.0</td>\n",
       "      <td>...</td>\n",
       "      <td>2.0</td>\n",
       "      <td>NaN</td>\n",
       "      <td>3</td>\n",
       "      <td>NaN</td>\n",
       "      <td>NaN</td>\n",
       "      <td>NaN</td>\n",
       "      <td>6.0</td>\n",
       "      <td>NaN</td>\n",
       "      <td>1.0</td>\n",
       "      <td>1</td>\n",
       "    </tr>\n",
       "    <tr>\n",
       "      <th>10173</th>\n",
       "      <td>83730</td>\n",
       "      <td>1</td>\n",
       "      <td>NaN</td>\n",
       "      <td>6.0</td>\n",
       "      <td>6.0</td>\n",
       "      <td>NaN</td>\n",
       "      <td>1</td>\n",
       "      <td>1</td>\n",
       "      <td>2</td>\n",
       "      <td>1.0</td>\n",
       "      <td>...</td>\n",
       "      <td>2.0</td>\n",
       "      <td>NaN</td>\n",
       "      <td>1</td>\n",
       "      <td>8.0</td>\n",
       "      <td>3.0</td>\n",
       "      <td>3.0</td>\n",
       "      <td>5.0</td>\n",
       "      <td>NaN</td>\n",
       "      <td>1.0</td>\n",
       "      <td>1</td>\n",
       "    </tr>\n",
       "    <tr>\n",
       "      <th>10174</th>\n",
       "      <td>83731</td>\n",
       "      <td>1</td>\n",
       "      <td>NaN</td>\n",
       "      <td>15.0</td>\n",
       "      <td>15.0</td>\n",
       "      <td>NaN</td>\n",
       "      <td>0</td>\n",
       "      <td>2</td>\n",
       "      <td>1</td>\n",
       "      <td>1.0</td>\n",
       "      <td>...</td>\n",
       "      <td>2.0</td>\n",
       "      <td>NaN</td>\n",
       "      <td>2</td>\n",
       "      <td>2.0</td>\n",
       "      <td>12.0</td>\n",
       "      <td>3.0</td>\n",
       "      <td>12.0</td>\n",
       "      <td>3.0</td>\n",
       "      <td>1.0</td>\n",
       "      <td>1</td>\n",
       "    </tr>\n",
       "  </tbody>\n",
       "</table>\n",
       "<p>5 rows × 23 columns</p>\n",
       "</div>"
      ],
      "text/plain": [
       "        SEQN  RIAGENDR  DMDMARTL  INDHHIN2  INDFMIN2  DMDEDUC2  DMDHHSZA  \\\n",
       "10170  83727         1       5.0      77.0      77.0       5.0         0   \n",
       "10171  83728         2       NaN       8.0       8.0       NaN         1   \n",
       "10172  83729         2       3.0       7.0       7.0       5.0         0   \n",
       "10173  83730         1       NaN       6.0       6.0       NaN         1   \n",
       "10174  83731         1       NaN      15.0      15.0       NaN         0   \n",
       "\n",
       "       DMDHHSZB  DMDHRGND  DMDHRMAR   ...    MCQ203  MCQ040  HUQ010  ECD070A  \\\n",
       "10170         0         2       NaN   ...       2.0     NaN       4      NaN   \n",
       "10171         1         1       1.0   ...       NaN     NaN       2      6.0   \n",
       "10172         0         2       3.0   ...       2.0     NaN       3      NaN   \n",
       "10173         1         2       1.0   ...       2.0     NaN       1      8.0   \n",
       "10174         2         1       1.0   ...       2.0     NaN       2      2.0   \n",
       "\n",
       "       ECD070B  WHQ030E  IND235  WHQ030M  IMQ011  IMQ020  \n",
       "10170      NaN      NaN     NaN      NaN     3.0       3  \n",
       "10171      7.0      2.0    12.0      NaN     1.0       2  \n",
       "10172      NaN      NaN     6.0      NaN     1.0       1  \n",
       "10173      3.0      3.0     5.0      NaN     1.0       1  \n",
       "10174     12.0      3.0    12.0      3.0     1.0       1  \n",
       "\n",
       "[5 rows x 23 columns]"
      ]
     },
     "execution_count": 143,
     "metadata": {},
     "output_type": "execute_result"
    }
   ],
   "source": [
    "merged_data.tail()"
   ]
  },
  {
   "cell_type": "code",
   "execution_count": 144,
   "metadata": {},
   "outputs": [],
   "source": [
    "merged_data.rename(columns={'RIAGENDR': 'Gender', 'DMDMARTL': 'Marital_Stat', 'INDHHIN2': 'Family_income', 'INDFMIN2': 'HH_income', 'DMDEDUC2': 'Highest_Edu','DMDHHSZA': 'No_of_children(0-5)','DMDHHSZB': 'No_of_children(6-17)', 'DMDHRGND': 'HH_ref_Person_Gender', 'DMDHRMAR': 'HH_ref_person_MS', 'RIDAGEYR':'Age_in_years','MCQ010': 'Asthma_ever', 'MCQ053': 'Anemia_ever', 'MCQ203': 'Jaundice', 'MCQ040': 'Asthma_12M', 'HUQ010': 'General_health', 'ECD070A': 'Birth_weightA','ECD070B': 'Birth_weightB','WHQ030E': 'Present_weight', 'IND235': 'M_Family_income', 'WHQ030M': 'Present_Weight(Y)', 'IMQ011': 'Immunization_HA','IMQ020': 'Immunization_HB'}, inplace=True)\n",
    "#renamed selected column names in my merged data"
   ]
  },
  {
   "cell_type": "code",
   "execution_count": 145,
   "metadata": {},
   "outputs": [
    {
     "name": "stdout",
     "output_type": "stream",
     "text": [
      "<class 'pandas.core.frame.DataFrame'>\n",
      "Int64Index: 10175 entries, 0 to 10174\n",
      "Data columns (total 23 columns):\n",
      "SEQN                    10175 non-null int64\n",
      "Gender                  10175 non-null int64\n",
      "Marital_Stat            5769 non-null float64\n",
      "Family_income           10042 non-null float64\n",
      "HH_income               10052 non-null float64\n",
      "Highest_Edu             5769 non-null float64\n",
      "No_of_children(0-5)     10175 non-null int64\n",
      "No_of_children(6-17)    10175 non-null int64\n",
      "HH_ref_Person_Gender    10175 non-null int64\n",
      "HH_ref_person_MS        10052 non-null float64\n",
      "Age_in_years            10175 non-null int64\n",
      "Asthma_ever             9769 non-null float64\n",
      "Anemia_ever             9769 non-null float64\n",
      "Jaundice                8472 non-null float64\n",
      "Asthma_12M              939 non-null float64\n",
      "General_health          10175 non-null int64\n",
      "Birth_weightA           3710 non-null float64\n",
      "Birth_weightB           3710 non-null float64\n",
      "Present_weight          3042 non-null float64\n",
      "M_Family_income         9806 non-null float64\n",
      "Present_Weight(Y)       1478 non-null float64\n",
      "Immunization_HA         9507 non-null float64\n",
      "Immunization_HB         10175 non-null int64\n",
      "dtypes: float64(15), int64(8)\n",
      "memory usage: 1.9 MB\n"
     ]
    }
   ],
   "source": [
    "merged_data.info()"
   ]
  },
  {
   "cell_type": "code",
   "execution_count": 146,
   "metadata": {},
   "outputs": [],
   "source": [
    "import matplotlib.pyplot as plt"
   ]
  },
  {
   "cell_type": "code",
   "execution_count": 147,
   "metadata": {},
   "outputs": [
    {
     "data": {
      "text/plain": [
       "<matplotlib.axes._subplots.AxesSubplot at 0x21dc59a8128>"
      ]
     },
     "execution_count": 147,
     "metadata": {},
     "output_type": "execute_result"
    },
    {
     "data": {
      "image/png": "[encoded data removed]",
      "text/plain": [
       "<Figure size 432x288 with 1 Axes>"
      ]
     },
     "metadata": {
      "needs_background": "light"
     },
     "output_type": "display_data"
    }
   ],
   "source": [
    "merged_data.plot(kind='hist')"
   ]
  },
  {
   "cell_type": "code",
   "execution_count": 148,
   "metadata": {},
   "outputs": [
    {
     "name": "stdout",
     "output_type": "stream",
     "text": [
      "        SEQN  Gender  Marital_Stat  Family_income  HH_income  Highest_Edu  \\\n",
      "0      73557       1           4.0            4.0        4.0          3.0   \n",
      "1      73558       1           1.0            7.0        7.0          3.0   \n",
      "2      73559       1           1.0           10.0       10.0          4.0   \n",
      "3      73560       1           NaN            9.0        9.0          NaN   \n",
      "4      73561       2           1.0           15.0       15.0          5.0   \n",
      "5      73562       1           3.0            9.0        9.0          4.0   \n",
      "6      73563       1           NaN           15.0       15.0          NaN   \n",
      "7      73564       2           2.0           10.0       10.0          5.0   \n",
      "8      73565       1           1.0           15.0       15.0          3.0   \n",
      "9      73566       2           3.0            4.0        4.0          3.0   \n",
      "10     73567       1           2.0            3.0        3.0          2.0   \n",
      "11     73568       2           5.0           15.0       15.0          5.0   \n",
      "12     73569       2           NaN           77.0       77.0          NaN   \n",
      "13     73570       2           NaN            5.0        5.0          NaN   \n",
      "14     73571       1           1.0           14.0       14.0          5.0   \n",
      "15     73572       2           NaN            2.0        2.0          NaN   \n",
      "16     73573       1           NaN            8.0        8.0          NaN   \n",
      "17     73574       2           1.0            8.0        8.0          5.0   \n",
      "18     73575       1           NaN            3.0        3.0          NaN   \n",
      "19     73576       1           NaN            8.0        8.0          NaN   \n",
      "20     73577       1           6.0            5.0        2.0          1.0   \n",
      "21     73578       1           NaN            5.0        5.0          NaN   \n",
      "22     73579       2           NaN           10.0       10.0          NaN   \n",
      "23     73580       2           1.0           12.0       12.0          3.0   \n",
      "24     73581       1           1.0           15.0       15.0          5.0   \n",
      "25     73582       2           6.0            3.0        3.0          4.0   \n",
      "26     73583       2           NaN           15.0       15.0          NaN   \n",
      "27     73584       1           NaN            9.0        9.0          NaN   \n",
      "28     73585       1           1.0            7.0        7.0          4.0   \n",
      "29     73586       2           NaN            6.0        6.0          NaN   \n",
      "...      ...     ...           ...            ...        ...          ...   \n",
      "10145  83702       2           2.0            7.0        7.0          4.0   \n",
      "10146  83703       1           1.0           99.0       99.0          2.0   \n",
      "10147  83704       1           NaN            1.0        1.0          NaN   \n",
      "10148  83705       2           6.0            4.0        4.0          3.0   \n",
      "10149  83706       2           NaN            6.0        6.0          NaN   \n",
      "10150  83707       1           NaN           12.0        3.0          NaN   \n",
      "10151  83708       1           3.0            5.0        5.0          3.0   \n",
      "10152  83709       1           5.0           15.0       15.0          2.0   \n",
      "10153  83710       2           NaN            1.0        1.0          NaN   \n",
      "10154  83711       2           1.0            7.0        7.0          3.0   \n",
      "10155  83712       1           1.0            9.0        9.0          2.0   \n",
      "10156  83713       1           1.0            6.0        6.0          4.0   \n",
      "10157  83714       2           NaN            6.0        6.0          NaN   \n",
      "10158  83715       1           5.0            3.0        3.0          1.0   \n",
      "10159  83716       1           NaN           15.0       15.0          NaN   \n",
      "10160  83717       2           2.0            6.0        6.0          1.0   \n",
      "10161  83718       2           2.0            NaN        NaN          3.0   \n",
      "10162  83719       1           NaN            8.0        8.0          NaN   \n",
      "10163  83720       1           5.0            8.0        8.0          4.0   \n",
      "10164  83721       1           1.0           15.0       15.0          5.0   \n",
      "10165  83722       1           NaN            7.0        7.0          NaN   \n",
      "10166  83723       1           1.0           10.0       10.0          2.0   \n",
      "10167  83724       1           1.0            8.0        8.0          3.0   \n",
      "10168  83725       1           NaN            6.0        6.0          NaN   \n",
      "10169  83726       1           4.0            9.0        9.0          1.0   \n",
      "10170  83727       1           5.0           77.0       77.0          5.0   \n",
      "10171  83728       2           NaN            8.0        8.0          NaN   \n",
      "10172  83729       2           3.0            7.0        7.0          5.0   \n",
      "10173  83730       1           NaN            6.0        6.0          NaN   \n",
      "10174  83731       1           NaN           15.0       15.0          NaN   \n",
      "\n",
      "       No_of_children(0-5)  No_of_children(6-17)  HH_ref_Person_Gender  \\\n",
      "0                        0                     0                     1   \n",
      "1                        0                     2                     1   \n",
      "2                        0                     0                     1   \n",
      "3                        0                     2                     1   \n",
      "4                        0                     0                     1   \n",
      "5                        0                     0                     1   \n",
      "6                        1                     0                     1   \n",
      "7                        0                     0                     2   \n",
      "8                        1                     1                     1   \n",
      "9                        3                     0                     2   \n",
      "10                       0                     0                     1   \n",
      "11                       0                     0                     2   \n",
      "12                       2                     0                     2   \n",
      "13                       0                     3                     2   \n",
      "14                       0                     0                     1   \n",
      "15                       0                     2                     2   \n",
      "16                       1                     2                     1   \n",
      "17                       1                     1                     2   \n",
      "18                       1                     0                     2   \n",
      "19                       2                     2                     2   \n",
      "20                       3                     2                     2   \n",
      "21                       0                     2                     2   \n",
      "22                       0                     2                     2   \n",
      "23                       0                     3                     2   \n",
      "24                       0                     1                     1   \n",
      "25                       1                     0                     2   \n",
      "26                       0                     1                     1   \n",
      "27                       0                     1                     2   \n",
      "28                       0                     0                     1   \n",
      "29                       2                     0                     1   \n",
      "...                    ...                   ...                   ...   \n",
      "10145                    0                     0                     2   \n",
      "10146                    2                     1                     2   \n",
      "10147                    0                     2                     2   \n",
      "10148                    1                     2                     1   \n",
      "10149                    1                     2                     2   \n",
      "10150                    0                     0                     2   \n",
      "10151                    0                     0                     1   \n",
      "10152                    0                     1                     2   \n",
      "10153                    2                     0                     2   \n",
      "10154                    0                     2                     1   \n",
      "10155                    2                     0                     1   \n",
      "10156                    1                     1                     2   \n",
      "10157                    1                     0                     1   \n",
      "10158                    0                     0                     1   \n",
      "10159                    0                     3                     2   \n",
      "10160                    3                     0                     2   \n",
      "10161                    0                     0                     2   \n",
      "10162                    1                     0                     1   \n",
      "10163                    0                     0                     1   \n",
      "10164                    0                     0                     2   \n",
      "10165                    3                     1                     2   \n",
      "10166                    0                     1                     1   \n",
      "10167                    0                     0                     1   \n",
      "10168                    2                     2                     1   \n",
      "10169                    0                     0                     1   \n",
      "10170                    0                     0                     2   \n",
      "10171                    1                     1                     1   \n",
      "10172                    0                     0                     2   \n",
      "10173                    1                     1                     2   \n",
      "10174                    0                     2                     1   \n",
      "\n",
      "       HH_ref_person_MS       ...         Jaundice  Asthma_12M  \\\n",
      "0                   4.0       ...              2.0         NaN   \n",
      "1                   1.0       ...              2.0         1.0   \n",
      "2                   1.0       ...              2.0         NaN   \n",
      "3                   1.0       ...              2.0         NaN   \n",
      "4                   1.0       ...              2.0         NaN   \n",
      "5                   3.0       ...              2.0         NaN   \n",
      "6                   1.0       ...              NaN         NaN   \n",
      "7                   2.0       ...              2.0         NaN   \n",
      "8                   1.0       ...              2.0         NaN   \n",
      "9                   3.0       ...              2.0         NaN   \n",
      "10                  2.0       ...              2.0         NaN   \n",
      "11                  5.0       ...              2.0         NaN   \n",
      "12                  1.0       ...              NaN         NaN   \n",
      "13                  3.0       ...              2.0         NaN   \n",
      "14                  1.0       ...              2.0         NaN   \n",
      "15                  5.0       ...              2.0         2.0   \n",
      "16                  1.0       ...              2.0         2.0   \n",
      "17                  1.0       ...              2.0         NaN   \n",
      "18                  NaN       ...              NaN         NaN   \n",
      "19                 77.0       ...              2.0         NaN   \n",
      "20                  6.0       ...              2.0         NaN   \n",
      "21                  1.0       ...              2.0         NaN   \n",
      "22                  1.0       ...              2.0         NaN   \n",
      "23                  1.0       ...              2.0         NaN   \n",
      "24                  1.0       ...              2.0         NaN   \n",
      "25                  6.0       ...              2.0         NaN   \n",
      "26                  1.0       ...              2.0         NaN   \n",
      "27                  1.0       ...              2.0         NaN   \n",
      "28                  1.0       ...              2.0         NaN   \n",
      "29                  1.0       ...              NaN         NaN   \n",
      "...                 ...       ...              ...         ...   \n",
      "10145               2.0       ...              2.0         NaN   \n",
      "10146               1.0       ...              2.0         NaN   \n",
      "10147               1.0       ...              2.0         NaN   \n",
      "10148               6.0       ...              2.0         NaN   \n",
      "10149               5.0       ...              2.0         NaN   \n",
      "10150               NaN       ...              2.0         NaN   \n",
      "10151               3.0       ...              2.0         NaN   \n",
      "10152               1.0       ...              2.0         NaN   \n",
      "10153               5.0       ...              NaN         NaN   \n",
      "10154               1.0       ...              2.0         2.0   \n",
      "10155               1.0       ...              2.0         NaN   \n",
      "10156               1.0       ...              2.0         NaN   \n",
      "10157               6.0       ...              2.0         NaN   \n",
      "10158               5.0       ...              2.0         NaN   \n",
      "10159               1.0       ...              2.0         NaN   \n",
      "10160               1.0       ...              2.0         NaN   \n",
      "10161               2.0       ...              2.0         NaN   \n",
      "10162               6.0       ...              NaN         NaN   \n",
      "10163               5.0       ...              2.0         NaN   \n",
      "10164               1.0       ...              2.0         NaN   \n",
      "10165               6.0       ...              NaN         NaN   \n",
      "10166               1.0       ...              1.0         NaN   \n",
      "10167               1.0       ...              2.0         NaN   \n",
      "10168               4.0       ...              2.0         NaN   \n",
      "10169               3.0       ...              2.0         NaN   \n",
      "10170               NaN       ...              2.0         NaN   \n",
      "10171               1.0       ...              NaN         NaN   \n",
      "10172               3.0       ...              2.0         NaN   \n",
      "10173               1.0       ...              2.0         NaN   \n",
      "10174               1.0       ...              2.0         NaN   \n",
      "\n",
      "       General_health  Birth_weightA  Birth_weightB  Present_weight  \\\n",
      "0                   2            NaN            NaN             NaN   \n",
      "1                   4            NaN            NaN             NaN   \n",
      "2                   3            NaN            NaN             NaN   \n",
      "3                   2            6.0            0.0             3.0   \n",
      "4                   5            NaN            NaN             NaN   \n",
      "5                   5            NaN            NaN             NaN   \n",
      "6                   1            7.0           12.0             NaN   \n",
      "7                   3            NaN            NaN             NaN   \n",
      "8                   2            NaN            NaN             NaN   \n",
      "9                   4            NaN            NaN             NaN   \n",
      "10                  3            NaN            NaN             NaN   \n",
      "11                  1            NaN            NaN             NaN   \n",
      "12                  1            9.0           14.0             NaN   \n",
      "13                  1            6.0           14.0             3.0   \n",
      "14                  3            NaN            NaN             NaN   \n",
      "15                  3            6.0           13.0             3.0   \n",
      "16                  2            9.0            6.0             3.0   \n",
      "17                  1            NaN            NaN             NaN   \n",
      "18                  1            6.0            2.0             NaN   \n",
      "19                  1            NaN            NaN             NaN   \n",
      "20                  3            NaN            NaN             NaN   \n",
      "21                  2            NaN            NaN             NaN   \n",
      "22                  1            7.0            2.0             3.0   \n",
      "23                  2            NaN            NaN             NaN   \n",
      "24                  2            NaN            NaN             NaN   \n",
      "25                  2            NaN            NaN             NaN   \n",
      "26                  2            6.0           10.0             2.0   \n",
      "27                  3            7.0           15.0             1.0   \n",
      "28                  1            NaN            NaN             NaN   \n",
      "29                  2            3.0            7.0             3.0   \n",
      "...               ...            ...            ...             ...   \n",
      "10145               2            NaN            NaN             NaN   \n",
      "10146               3            NaN            NaN             NaN   \n",
      "10147               3            8.0            1.0             1.0   \n",
      "10148               3            NaN            NaN             NaN   \n",
      "10149               3            6.0           12.0             2.0   \n",
      "10150               5            NaN            NaN             NaN   \n",
      "10151               4            NaN            NaN             NaN   \n",
      "10152               2            NaN            NaN             NaN   \n",
      "10153               1            7.0            7.0             2.0   \n",
      "10154               3            NaN            NaN             NaN   \n",
      "10155               2            NaN            NaN             NaN   \n",
      "10156               3            NaN            NaN             NaN   \n",
      "10157               3            NaN            NaN             NaN   \n",
      "10158               4            NaN            NaN             NaN   \n",
      "10159               1            NaN            NaN             NaN   \n",
      "10160               4            NaN            NaN             NaN   \n",
      "10161               4            NaN            NaN             NaN   \n",
      "10162               1            6.0            6.0             3.0   \n",
      "10163               1            NaN            NaN             NaN   \n",
      "10164               2            NaN            NaN             NaN   \n",
      "10165               1            8.0            6.0             NaN   \n",
      "10166               3            NaN            NaN             NaN   \n",
      "10167               2            NaN            NaN             NaN   \n",
      "10168               1            7.0            3.0             3.0   \n",
      "10169               4            NaN            NaN             NaN   \n",
      "10170               4            NaN            NaN             NaN   \n",
      "10171               2            6.0            7.0             2.0   \n",
      "10172               3            NaN            NaN             NaN   \n",
      "10173               1            8.0            3.0             3.0   \n",
      "10174               2            2.0           12.0             3.0   \n",
      "\n",
      "       M_Family_income  Present_Weight(Y)  Immunization_HA  Immunization_HB  \n",
      "0                  4.0                NaN              3.0                3  \n",
      "1                  5.0                NaN              3.0                3  \n",
      "2                 10.0                NaN              3.0                3  \n",
      "3                  9.0                3.0              1.0                1  \n",
      "4                 11.0                NaN              3.0                3  \n",
      "5                 10.0                NaN              9.0                9  \n",
      "6                 12.0                NaN              NaN                2  \n",
      "7                  8.0                NaN              3.0                3  \n",
      "8                 12.0                NaN              3.0                3  \n",
      "9                  4.0                NaN              3.0                3  \n",
      "10                 3.0                NaN              3.0                3  \n",
      "11                 9.0                NaN              3.0                1  \n",
      "12                 NaN                NaN              NaN                1  \n",
      "13                 5.0                3.0              1.0                1  \n",
      "14                12.0                NaN              3.0                3  \n",
      "15                 3.0                1.0              3.0                3  \n",
      "16                 8.0                3.0              1.0                1  \n",
      "17                12.0                NaN              1.0                1  \n",
      "18                 3.0                NaN              NaN                1  \n",
      "19                 5.0                NaN              1.0                1  \n",
      "20                 2.0                NaN              3.0                3  \n",
      "21                99.0                NaN              1.0                1  \n",
      "22                 4.0                3.0              1.0                1  \n",
      "23                77.0                NaN              1.0                1  \n",
      "24                12.0                NaN              1.0                1  \n",
      "25                 6.0                NaN              1.0                1  \n",
      "26                11.0                NaN              9.0                9  \n",
      "27                 8.0                1.0              9.0                1  \n",
      "28                10.0                NaN              3.0                1  \n",
      "29                 6.0                NaN              1.0                1  \n",
      "...                ...                ...              ...              ...  \n",
      "10145              7.0                NaN              3.0                3  \n",
      "10146             99.0                NaN              9.0                9  \n",
      "10147              1.0                1.0              1.0                1  \n",
      "10148              7.0                NaN              9.0                9  \n",
      "10149              4.0                NaN              3.0                2  \n",
      "10150              7.0                NaN              1.0                1  \n",
      "10151              5.0                NaN              3.0                3  \n",
      "10152              7.0                NaN              3.0                3  \n",
      "10153              4.0                NaN              1.0                9  \n",
      "10154              7.0                NaN              3.0                3  \n",
      "10155              7.0                NaN              3.0                3  \n",
      "10156              7.0                NaN              3.0                3  \n",
      "10157              4.0                NaN              1.0                1  \n",
      "10158              2.0                NaN              3.0                3  \n",
      "10159             10.0                NaN              1.0                1  \n",
      "10160              5.0                NaN              3.0                3  \n",
      "10161              NaN                NaN              9.0                9  \n",
      "10162              6.0                NaN              1.0                1  \n",
      "10163              8.0                NaN              1.0                1  \n",
      "10164             12.0                NaN              1.0                1  \n",
      "10165              3.0                NaN              NaN                2  \n",
      "10166              8.0                NaN              1.0                1  \n",
      "10167              8.0                NaN              3.0                3  \n",
      "10168              3.0                NaN              1.0                1  \n",
      "10169              7.0                NaN              9.0                3  \n",
      "10170              NaN                NaN              3.0                3  \n",
      "10171             12.0                NaN              1.0                2  \n",
      "10172              6.0                NaN              1.0                1  \n",
      "10173              5.0                NaN              1.0                1  \n",
      "10174             12.0                3.0              1.0                1  \n",
      "\n",
      "[10175 rows x 23 columns]\n"
     ]
    }
   ],
   "source": [
    "print(merged_data)"
   ]
  },
  {
   "cell_type": "code",
   "execution_count": 149,
   "metadata": {
    "scrolled": true
   },
   "outputs": [],
   "source": [
    "female_data = merged_data.loc[merged_data['Gender']== 2].count() #Total number of data for all columns by females only"
   ]
  },
  {
   "cell_type": "code",
   "execution_count": 150,
   "metadata": {},
   "outputs": [],
   "source": [
    "marital_data= merged_data.loc[merged_data['Marital_Stat']== 1].count() "
   ]
  },
  {
   "cell_type": "code",
   "execution_count": 151,
   "metadata": {},
   "outputs": [],
   "source": [
    "sample= merged_data.groupby('Marital_Stat')['Gender'].count() #TESTING THIS-Total number of male(1) and female(2) paritcipants who are either married, widowed,Divorced, Seperated,Never married,and living with partner"
   ]
  },
  {
   "cell_type": "code",
   "execution_count": 152,
   "metadata": {
    "scrolled": false
   },
   "outputs": [
    {
     "data": {
      "text/plain": [
       "<matplotlib.axes._subplots.AxesSubplot at 0x21dcd6f6ef0>"
      ]
     },
     "execution_count": 152,
     "metadata": {},
     "output_type": "execute_result"
    },
    {
     "data": {
      "image/png": "[encoded data removed]",
      "text/plain": [
       "<Figure size 432x288 with 1 Axes>"
      ]
     },
     "metadata": {
      "needs_background": "light"
     },
     "output_type": "display_data"
    }
   ],
   "source": [
    "sample.plot.bar()"
   ]
  },
  {
   "cell_type": "code",
   "execution_count": 153,
   "metadata": {},
   "outputs": [
    {
     "data": {
      "text/plain": [
       "<Figure size 432x288 with 0 Axes>"
      ]
     },
     "metadata": {},
     "output_type": "display_data"
    }
   ],
   "source": [
    "plt.savefig('marital_status.jpeg')"
   ]
  },
  {
   "cell_type": "code",
   "execution_count": 154,
   "metadata": {},
   "outputs": [
    {
     "data": {
      "text/plain": [
       "Highest_Edu\n",
       "1.0     455\n",
       "2.0     791\n",
       "3.0    1303\n",
       "4.0    1770\n",
       "5.0    1443\n",
       "7.0       2\n",
       "9.0       5\n",
       "Name: Gender, dtype: int64"
      ]
     },
     "execution_count": 154,
     "metadata": {},
     "output_type": "execute_result"
    }
   ],
   "source": [
    "merged_data.groupby('Highest_Edu')['Gender'].count() #educational attainment of participants"
   ]
  },
  {
   "cell_type": "code",
   "execution_count": 155,
   "metadata": {},
   "outputs": [],
   "source": [
    "sample1=merged_data.groupby('Highest_Edu')['Gender'].count()"
   ]
  },
  {
   "cell_type": "code",
   "execution_count": 156,
   "metadata": {},
   "outputs": [
    {
     "data": {
      "text/plain": [
       "<matplotlib.axes._subplots.AxesSubplot at 0x21dcd8ac5c0>"
      ]
     },
     "execution_count": 156,
     "metadata": {},
     "output_type": "execute_result"
    },
    {
     "data": {
      "image/png": "[encoded data removed]",
      "text/plain": [
       "<Figure size 432x288 with 1 Axes>"
      ]
     },
     "metadata": {
      "needs_background": "light"
     },
     "output_type": "display_data"
    }
   ],
   "source": [
    "sample1.plot.bar()"
   ]
  },
  {
   "cell_type": "code",
   "execution_count": 157,
   "metadata": {},
   "outputs": [
    {
     "data": {
      "text/plain": [
       "<Figure size 432x288 with 0 Axes>"
      ]
     },
     "metadata": {},
     "output_type": "display_data"
    }
   ],
   "source": [
    "plt.savefig('participant_edu.jpeg')"
   ]
  },
  {
   "cell_type": "code",
   "execution_count": 158,
   "metadata": {},
   "outputs": [
    {
     "name": "stdout",
     "output_type": "stream",
     "text": [
      "<class 'pandas.core.frame.DataFrame'>\n",
      "Int64Index: 10175 entries, 0 to 10174\n",
      "Data columns (total 23 columns):\n",
      "SEQN                    10175 non-null int64\n",
      "Gender                  10175 non-null int64\n",
      "Marital_Stat            5769 non-null float64\n",
      "Family_income           10042 non-null float64\n",
      "HH_income               10052 non-null float64\n",
      "Highest_Edu             5769 non-null float64\n",
      "No_of_children(0-5)     10175 non-null int64\n",
      "No_of_children(6-17)    10175 non-null int64\n",
      "HH_ref_Person_Gender    10175 non-null int64\n",
      "HH_ref_person_MS        10052 non-null float64\n",
      "Age_in_years            10175 non-null int64\n",
      "Asthma_ever             9769 non-null float64\n",
      "Anemia_ever             9769 non-null float64\n",
      "Jaundice                8472 non-null float64\n",
      "Asthma_12M              939 non-null float64\n",
      "General_health          10175 non-null int64\n",
      "Birth_weightA           3710 non-null float64\n",
      "Birth_weightB           3710 non-null float64\n",
      "Present_weight          3042 non-null float64\n",
      "M_Family_income         9806 non-null float64\n",
      "Present_Weight(Y)       1478 non-null float64\n",
      "Immunization_HA         9507 non-null float64\n",
      "Immunization_HB         10175 non-null int64\n",
      "dtypes: float64(15), int64(8)\n",
      "memory usage: 1.9 MB\n"
     ]
    }
   ],
   "source": [
    "merged_data.info()"
   ]
  },
  {
   "cell_type": "code",
   "execution_count": 159,
   "metadata": {},
   "outputs": [],
   "source": [
    "import seaborn as sns"
   ]
  },
  {
   "cell_type": "code",
   "execution_count": 160,
   "metadata": {},
   "outputs": [
    {
     "data": {
      "text/plain": [
       "<matplotlib.axes._subplots.AxesSubplot at 0x21dcd8c4f60>"
      ]
     },
     "execution_count": 160,
     "metadata": {},
     "output_type": "execute_result"
    },
    {
     "data": {
      "image/png": "[encoded data removed]",
      "text/plain": [
       "<Figure size 432x288 with 1 Axes>"
      ]
     },
     "metadata": {
      "needs_background": "light"
     },
     "output_type": "display_data"
    }
   ],
   "source": [
    "sns.barplot(x='No_of_children(0-5)',y='Highest_Edu',hue='Gender',data=merged_data)"
   ]
  },
  {
   "cell_type": "code",
   "execution_count": 161,
   "metadata": {},
   "outputs": [
    {
     "data": {
      "text/plain": [
       "<seaborn.axisgrid.JointGrid at 0x21dcd8c49e8>"
      ]
     },
     "execution_count": 161,
     "metadata": {},
     "output_type": "execute_result"
    },
    {
     "data": {
      "image/png": "[encoded data removed]",
      "text/plain": [
       "<Figure size 432x432 with 3 Axes>"
      ]
     },
     "metadata": {
      "needs_background": "light"
     },
     "output_type": "display_data"
    }
   ],
   "source": [
    "sns.jointplot('No_of_children(0-5)', 'General_health',data=merged_data, kind='scatter')#No of children with their different levels of health status"
   ]
  },
  {
   "cell_type": "code",
   "execution_count": 162,
   "metadata": {},
   "outputs": [
    {
     "ename": "SyntaxError",
     "evalue": "positional argument follows keyword argument (<ipython-input-162-920b0c2949e6>, line 1)",
     "output_type": "error",
     "traceback": [
      "\u001b[1;36m  File \u001b[1;32m\"<ipython-input-162-920b0c2949e6>\"\u001b[1;36m, line \u001b[1;32m1\u001b[0m\n\u001b[1;33m    sns.barplot(x='No_of_children(0-5)',y='General_health',hue='Gender','Highest_Edu',data=merged_data)\u001b[0m\n\u001b[1;37m                                                                       ^\u001b[0m\n\u001b[1;31mSyntaxError\u001b[0m\u001b[1;31m:\u001b[0m positional argument follows keyword argument\n"
     ]
    }
   ],
   "source": [
    "sns.barplot(x='No_of_children(0-5)',y='General_health',hue='Gender','Highest_Edu',data=merged_data)"
   ]
  },
  {
   "cell_type": "code",
   "execution_count": 163,
   "metadata": {},
   "outputs": [],
   "source": [
    "y_column=['No_of_children(0-5)', 'No_of_children(6-17)']"
   ]
  },
  {
   "cell_type": "code",
   "execution_count": 165,
   "metadata": {},
   "outputs": [
    {
     "data": {
      "text/plain": [
       "<matplotlib.axes._subplots.AxesSubplot at 0x21dcc4daa90>"
      ]
     },
     "execution_count": 165,
     "metadata": {},
     "output_type": "execute_result"
    },
    {
     "data": {
      "image/png": "[encoded data removed]",
      "text/plain": [
       "<Figure size 432x288 with 1 Axes>"
      ]
     },
     "metadata": {
      "needs_background": "light"
     },
     "output_type": "display_data"
    }
   ],
   "source": [
    "merged_data.plot.hist(x='General_health', y=y_column)\n"
   ]
  },
  {
   "cell_type": "code",
   "execution_count": 166,
   "metadata": {},
   "outputs": [],
   "source": [
    "sample2=merged_data.groupby('General_health')['No_of_children(0-5)'].count() #General health status of children(0-5) in text"
   ]
  },
  {
   "cell_type": "code",
   "execution_count": 167,
   "metadata": {},
   "outputs": [
    {
     "data": {
      "text/plain": [
       "<matplotlib.axes._subplots.AxesSubplot at 0x21dcda39a90>"
      ]
     },
     "execution_count": 167,
     "metadata": {},
     "output_type": "execute_result"
    },
    {
     "data": {
      "image/png": "[encoded data removed]",
      "text/plain": [
       "<Figure size 432x288 with 1 Axes>"
      ]
     },
     "metadata": {
      "needs_background": "light"
     },
     "output_type": "display_data"
    }
   ],
   "source": [
    "sample2.plot.bar(title=' General health status of children 0-5 years')# General health status of children in graph"
   ]
  },
  {
   "cell_type": "code",
   "execution_count": 168,
   "metadata": {},
   "outputs": [
    {
     "data": {
      "text/plain": [
       "<Figure size 432x288 with 0 Axes>"
      ]
     },
     "metadata": {},
     "output_type": "display_data"
    }
   ],
   "source": [
    "plt.savefig('General_Health(0-5).jpeg')"
   ]
  },
  {
   "cell_type": "code",
   "execution_count": 169,
   "metadata": {},
   "outputs": [],
   "source": [
    "sample3=merged_data.groupby('General_health')['No_of_children(6-17)'].count()#General health status of children(6-17) in text"
   ]
  },
  {
   "cell_type": "code",
   "execution_count": 170,
   "metadata": {},
   "outputs": [
    {
     "data": {
      "text/plain": [
       "<matplotlib.axes._subplots.AxesSubplot at 0x21dcdcb29e8>"
      ]
     },
     "execution_count": 170,
     "metadata": {},
     "output_type": "execute_result"
    },
    {
     "data": {
      "image/png": "[encoded data removed]",
      "text/plain": [
       "<Figure size 432x288 with 1 Axes>"
      ]
     },
     "metadata": {
      "needs_background": "light"
     },
     "output_type": "display_data"
    }
   ],
   "source": [
    "sample3.plot.bar(title=' General health status of children 6-17 years') #General health status of children(6-17) in graph"
   ]
  },
  {
   "cell_type": "code",
   "execution_count": 171,
   "metadata": {},
   "outputs": [
    {
     "data": {
      "text/plain": [
       "<Figure size 432x288 with 0 Axes>"
      ]
     },
     "metadata": {},
     "output_type": "display_data"
    }
   ],
   "source": [
    "plt.savefig('General_Health(6-17).jpeg')"
   ]
  },
  {
   "cell_type": "code",
   "execution_count": 172,
   "metadata": {},
   "outputs": [],
   "source": [
    "sample4=merged_data.groupby('Present_weight') ['No_of_children(0-5)'].count()#Weight status of children 5 years and below in text"
   ]
  },
  {
   "cell_type": "code",
   "execution_count": 173,
   "metadata": {},
   "outputs": [
    {
     "data": {
      "text/plain": [
       "<matplotlib.axes._subplots.AxesSubplot at 0x21dcda73860>"
      ]
     },
     "execution_count": 173,
     "metadata": {},
     "output_type": "execute_result"
    },
    {
     "data": {
      "image/png": "[encoded data removed]",
      "text/plain": [
       "<Figure size 432x288 with 1 Axes>"
      ]
     },
     "metadata": {
      "needs_background": "light"
     },
     "output_type": "display_data"
    }
   ],
   "source": [
    "sample4.plot.bar(title='Weight status of children 5 years and below')"
   ]
  },
  {
   "cell_type": "code",
   "execution_count": 174,
   "metadata": {},
   "outputs": [
    {
     "data": {
      "text/plain": [
       "<Figure size 432x288 with 0 Axes>"
      ]
     },
     "metadata": {},
     "output_type": "display_data"
    }
   ],
   "source": [
    "plt.savefig('weight(0-5yrs).jpeg')"
   ]
  },
  {
   "cell_type": "code",
   "execution_count": 216,
   "metadata": {},
   "outputs": [
    {
     "data": {
      "text/plain": [
       "<matplotlib.axes._subplots.AxesSubplot at 0x21dd86dc5c0>"
      ]
     },
     "execution_count": 216,
     "metadata": {},
     "output_type": "execute_result"
    },
    {
     "data": {
      "image/png": "[encoded data removed]",
      "text/plain": [
       "<Figure size 432x288 with 1 Axes>"
      ]
     },
     "metadata": {
      "needs_background": "light"
     },
     "output_type": "display_data"
    }
   ],
   "source": [
    "sns.barplot(x='M_Family_income',y='General_health',hue='No_of_children(0-5)',data=merged_data)\n",
    "#The relationship between general health status of children(0-5) in the household and their monthly family income"
   ]
  },
  {
   "cell_type": "code",
   "execution_count": 217,
   "metadata": {},
   "outputs": [
    {
     "data": {
      "text/plain": [
       "<Figure size 432x288 with 0 Axes>"
      ]
     },
     "metadata": {},
     "output_type": "display_data"
    }
   ],
   "source": [
    "plt.savefig('income-health(0-5).jpeg')"
   ]
  },
  {
   "cell_type": "code",
   "execution_count": 189,
   "metadata": {
    "scrolled": true
   },
   "outputs": [],
   "source": [
    "age=merged_data.groupby('Age_in_years') ['General_health'].count()"
   ]
  },
  {
   "cell_type": "code",
   "execution_count": 221,
   "metadata": {},
   "outputs": [
    {
     "data": {
      "text/plain": [
       "<matplotlib.axes._subplots.AxesSubplot at 0x21dd8c4bcf8>"
      ]
     },
     "execution_count": 221,
     "metadata": {},
     "output_type": "execute_result"
    },
    {
     "data": {
      "image/png": "[encoded data removed]",
      "text/plain": [
       "<Figure size 432x288 with 1 Axes>"
      ]
     },
     "metadata": {
      "needs_background": "light"
     },
     "output_type": "display_data"
    }
   ],
   "source": [
    "sns.barplot(x='M_Family_income',y='General_health',hue='No_of_children(6-17)',data=merged_data)\n",
    "#The relationship between general health status of children(6-17) in the household  their monthly family income"
   ]
  },
  {
   "cell_type": "code",
   "execution_count": 222,
   "metadata": {},
   "outputs": [
    {
     "data": {
      "text/plain": [
       "<Figure size 432x288 with 0 Axes>"
      ]
     },
     "metadata": {},
     "output_type": "display_data"
    }
   ],
   "source": [
    "plt.savefig('Income_health(6-17).jpeg')"
   ]
  },
  {
   "cell_type": "code",
   "execution_count": 219,
   "metadata": {},
   "outputs": [
    {
     "data": {
      "text/plain": [
       "<seaborn.axisgrid.FacetGrid at 0x21dd8b3af28>"
      ]
     },
     "execution_count": 219,
     "metadata": {},
     "output_type": "execute_result"
    },
    {
     "data": {
      "image/png": "[encoded data removed]",
      "text/plain": [
       "<Figure size 720x360 with 2 Axes>"
      ]
     },
     "metadata": {
      "needs_background": "light"
     },
     "output_type": "display_data"
    }
   ],
   "source": [
    "sns.lmplot(x='Highest_Edu',y='No_of_children(0-5)', data=merged_data,col='Gender')\n",
    "#Women who had no child(0-5) in their household have higher educational level than the other women"
   ]
  },
  {
   "cell_type": "code",
   "execution_count": 220,
   "metadata": {},
   "outputs": [
    {
     "data": {
      "text/plain": [
       "<Figure size 432x288 with 0 Axes>"
      ]
     },
     "metadata": {},
     "output_type": "display_data"
    }
   ],
   "source": [
    "plt.savefig('Women_edustat.jpeg')"
   ]
  },
  {
   "cell_type": "code",
   "execution_count": 207,
   "metadata": {},
   "outputs": [
    {
     "data": {
      "text/plain": [
       "<seaborn.axisgrid.FacetGrid at 0x21dd0e5a198>"
      ]
     },
     "execution_count": 207,
     "metadata": {},
     "output_type": "execute_result"
    },
    {
     "data": {
      "image/png": "[encoded data removed]",
      "text/plain": [
       "<Figure size 720x360 with 2 Axes>"
      ]
     },
     "metadata": {
      "needs_background": "light"
     },
     "output_type": "display_data"
    }
   ],
   "source": [
    "sns.lmplot(x='Highest_Edu',y='No_of_children(6-17)', data=merged_data,col='Gender')\n",
    "#Women who had no child(6-17) in their household have higher educational level than the other women"
   ]
  },
  {
   "cell_type": "code",
   "execution_count": 213,
   "metadata": {},
   "outputs": [
    {
     "data": {
      "text/plain": [
       "<seaborn.axisgrid.FacetGrid at 0x21dd804c780>"
      ]
     },
     "execution_count": 213,
     "metadata": {},
     "output_type": "execute_result"
    },
    {
     "data": {
      "image/png": "[encoded data removed]",
      "text/plain": [
       "<Figure size 825.75x360 with 2 Axes>"
      ]
     },
     "metadata": {
      "needs_background": "light"
     },
     "output_type": "display_data"
    }
   ],
   "source": [
    "sns.lmplot(x='Highest_Edu',y='General_health',hue='No_of_children(0-5)', data=merged_data,col='Gender') \n",
    "#Relationship between mother's educational status and health status of children(0-5years)"
   ]
  },
  {
   "cell_type": "code",
   "execution_count": 223,
   "metadata": {},
   "outputs": [
    {
     "data": {
      "text/plain": [
       "<seaborn.axisgrid.FacetGrid at 0x21dd86c25c0>"
      ]
     },
     "execution_count": 223,
     "metadata": {},
     "output_type": "execute_result"
    },
    {
     "data": {
      "image/png": "[encoded data removed]",
      "text/plain": [
       "<Figure size 825.75x360 with 2 Axes>"
      ]
     },
     "metadata": {
      "needs_background": "light"
     },
     "output_type": "display_data"
    }
   ],
   "source": [
    "sns.lmplot(x='Highest_Edu',y='Immunization_HA',hue='No_of_children(0-5)', data=merged_data,col='Gender') #RELATIONSHIP BETWEEN IMMUNIZATION STATUS(Hepatitis A) AND EDUCATION OF WOMEN"
   ]
  },
  {
   "cell_type": "code",
   "execution_count": 224,
   "metadata": {},
   "outputs": [
    {
     "data": {
      "text/plain": [
       "<seaborn.axisgrid.FacetGrid at 0x21dd8f1bb00>"
      ]
     },
     "execution_count": 224,
     "metadata": {},
     "output_type": "execute_result"
    },
    {
     "data": {
      "image/png": "[encoded data removed]",
      "text/plain": [
       "<Figure size 825.75x360 with 2 Axes>"
      ]
     },
     "metadata": {
      "needs_background": "light"
     },
     "output_type": "display_data"
    }
   ],
   "source": [
    "sns.lmplot(x='Highest_Edu',y='Immunization_HB',hue='No_of_children(0-5)', data=merged_data,col='Gender') #RELATIONSHIP BETWEEN IMMUNIZATION STATUS(Hepatitis B) AND EDUCATION OF WOMEN"
   ]
  },
  {
   "cell_type": "code",
   "execution_count": null,
   "metadata": {},
   "outputs": [],
   "source": []
  }
 ],
 "metadata": {
  "kernelspec": {
   "display_name": "Python 3",
   "language": "python",
   "name": "python3"
  },
  "language_info": {
   "codemirror_mode": {
    "name": "ipython",
    "version": 3
   },
   "file_extension": ".py",
   "mimetype": "text/x-python",
   "name": "python",
   "nbconvert_exporter": "python",
   "pygments_lexer": "ipython3",
   "version": "3.7.1"
  }
 },
 "nbformat": 4,
 "nbformat_minor": 2
}
