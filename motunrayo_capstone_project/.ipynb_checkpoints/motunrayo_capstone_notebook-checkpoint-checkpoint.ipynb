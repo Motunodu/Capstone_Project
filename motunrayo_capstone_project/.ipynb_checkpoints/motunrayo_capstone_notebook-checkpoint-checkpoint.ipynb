{
 "cells": [
  {
   "cell_type": "code",
   "execution_count": 1,
   "metadata": {},
   "outputs": [],
   "source": [
    "import pandas as pd\n",
    "import numpy as np\n",
    "import matplotlib.pyplot as plt\n",
    "import seaborn as sns"
   ]
  },
  {
   "cell_type": "code",
   "execution_count": 2,
   "metadata": {},
   "outputs": [],
   "source": [
    "data = pd.read_csv('demographic.csv')"
   ]
  },
  {
   "cell_type": "code",
   "execution_count": 3,
   "metadata": {},
   "outputs": [
    {
     "name": "stdout",
     "output_type": "stream",
     "text": [
      "<class 'pandas.core.frame.DataFrame'>\n",
      "RangeIndex: 10175 entries, 0 to 10174\n",
      "Data columns (total 47 columns):\n",
      "SEQN        10175 non-null int64\n",
      "SDDSRVYR    10175 non-null int64\n",
      "RIDSTATR    10175 non-null int64\n",
      "RIAGENDR    10175 non-null int64\n",
      "RIDAGEYR    10175 non-null int64\n",
      "RIDAGEMN    673 non-null float64\n",
      "RIDRETH1    10175 non-null int64\n",
      "RIDRETH3    10175 non-null int64\n",
      "RIDEXMON    9813 non-null float64\n",
      "RIDEXAGM    4213 non-null float64\n",
      "DMQMILIZ    6261 non-null float64\n",
      "DMQADFC     543 non-null float64\n",
      "DMDBORN4    10175 non-null int64\n",
      "DMDCITZN    10171 non-null float64\n",
      "DMDYRSUS    1908 non-null float64\n",
      "DMDEDUC3    2803 non-null float64\n",
      "DMDEDUC2    5769 non-null float64\n",
      "DMDMARTL    5769 non-null float64\n",
      "RIDEXPRG    1309 non-null float64\n",
      "SIALANG     10175 non-null int64\n",
      "SIAPROXY    10174 non-null float64\n",
      "SIAINTRP    10175 non-null int64\n",
      "FIALANG     10054 non-null float64\n",
      "FIAPROXY    10054 non-null float64\n",
      "FIAINTRP    10054 non-null float64\n",
      "MIALANG     7311 non-null float64\n",
      "MIAPROXY    7312 non-null float64\n",
      "MIAINTRP    7313 non-null float64\n",
      "AIALANGA    6317 non-null float64\n",
      "DMDHHSIZ    10175 non-null int64\n",
      "DMDFMSIZ    10175 non-null int64\n",
      "DMDHHSZA    10175 non-null int64\n",
      "DMDHHSZB    10175 non-null int64\n",
      "DMDHHSZE    10175 non-null int64\n",
      "DMDHRGND    10175 non-null int64\n",
      "DMDHRAGE    10175 non-null int64\n",
      "DMDHRBR4    9878 non-null float64\n",
      "DMDHREDU    9881 non-null float64\n",
      "DMDHRMAR    10052 non-null float64\n",
      "DMDHSEDU    5342 non-null float64\n",
      "WTINT2YR    10175 non-null float64\n",
      "WTMEC2YR    10175 non-null float64\n",
      "SDMVPSU     10175 non-null int64\n",
      "SDMVSTRA    10175 non-null int64\n",
      "INDHHIN2    10042 non-null float64\n",
      "INDFMIN2    10052 non-null float64\n",
      "INDFMPIR    9390 non-null float64\n",
      "dtypes: float64(28), int64(19)\n",
      "memory usage: 3.6 MB\n"
     ]
    }
   ],
   "source": [
    "data.info()"
   ]
  },
  {
   "cell_type": "code",
   "execution_count": 4,
   "metadata": {},
   "outputs": [],
   "source": [
    "data1 = pd.read_csv('diet.csv')"
   ]
  },
  {
   "cell_type": "code",
   "execution_count": 5,
   "metadata": {},
   "outputs": [
    {
     "data": {
      "text/html": [
       "<div>\n",
       "<style scoped>\n",
       "    .dataframe tbody tr th:only-of-type {\n",
       "        vertical-align: middle;\n",
       "    }\n",
       "\n",
       "    .dataframe tbody tr th {\n",
       "        vertical-align: top;\n",
       "    }\n",
       "\n",
       "    .dataframe thead th {\n",
       "        text-align: right;\n",
       "    }\n",
       "</style>\n",
       "<table border=\"1\" class=\"dataframe\">\n",
       "  <thead>\n",
       "    <tr style=\"text-align: right;\">\n",
       "      <th></th>\n",
       "      <th>SEQN</th>\n",
       "      <th>WTDRD1</th>\n",
       "      <th>WTDR2D</th>\n",
       "      <th>DR1DRSTZ</th>\n",
       "      <th>DR1EXMER</th>\n",
       "      <th>DRABF</th>\n",
       "      <th>DRDINT</th>\n",
       "      <th>DR1DBIH</th>\n",
       "      <th>DR1DAY</th>\n",
       "      <th>DR1LANG</th>\n",
       "      <th>...</th>\n",
       "      <th>DRD370QQ</th>\n",
       "      <th>DRD370R</th>\n",
       "      <th>DRD370RQ</th>\n",
       "      <th>DRD370S</th>\n",
       "      <th>DRD370SQ</th>\n",
       "      <th>DRD370T</th>\n",
       "      <th>DRD370TQ</th>\n",
       "      <th>DRD370U</th>\n",
       "      <th>DRD370UQ</th>\n",
       "      <th>DRD370V</th>\n",
       "    </tr>\n",
       "  </thead>\n",
       "  <tbody>\n",
       "    <tr>\n",
       "      <th>0</th>\n",
       "      <td>73557</td>\n",
       "      <td>16888.327864</td>\n",
       "      <td>12930.890649</td>\n",
       "      <td>1</td>\n",
       "      <td>49.0</td>\n",
       "      <td>2.0</td>\n",
       "      <td>2.0</td>\n",
       "      <td>6.0</td>\n",
       "      <td>2.0</td>\n",
       "      <td>1.0</td>\n",
       "      <td>...</td>\n",
       "      <td>NaN</td>\n",
       "      <td>NaN</td>\n",
       "      <td>NaN</td>\n",
       "      <td>NaN</td>\n",
       "      <td>NaN</td>\n",
       "      <td>NaN</td>\n",
       "      <td>NaN</td>\n",
       "      <td>NaN</td>\n",
       "      <td>NaN</td>\n",
       "      <td>NaN</td>\n",
       "    </tr>\n",
       "    <tr>\n",
       "      <th>1</th>\n",
       "      <td>73558</td>\n",
       "      <td>17932.143865</td>\n",
       "      <td>12684.148869</td>\n",
       "      <td>1</td>\n",
       "      <td>59.0</td>\n",
       "      <td>2.0</td>\n",
       "      <td>2.0</td>\n",
       "      <td>4.0</td>\n",
       "      <td>1.0</td>\n",
       "      <td>1.0</td>\n",
       "      <td>...</td>\n",
       "      <td>NaN</td>\n",
       "      <td>2.0</td>\n",
       "      <td>NaN</td>\n",
       "      <td>2.0</td>\n",
       "      <td>NaN</td>\n",
       "      <td>2.0</td>\n",
       "      <td>NaN</td>\n",
       "      <td>2.0</td>\n",
       "      <td>NaN</td>\n",
       "      <td>2.0</td>\n",
       "    </tr>\n",
       "    <tr>\n",
       "      <th>2</th>\n",
       "      <td>73559</td>\n",
       "      <td>59641.812930</td>\n",
       "      <td>39394.236709</td>\n",
       "      <td>1</td>\n",
       "      <td>49.0</td>\n",
       "      <td>2.0</td>\n",
       "      <td>2.0</td>\n",
       "      <td>18.0</td>\n",
       "      <td>6.0</td>\n",
       "      <td>1.0</td>\n",
       "      <td>...</td>\n",
       "      <td>NaN</td>\n",
       "      <td>NaN</td>\n",
       "      <td>NaN</td>\n",
       "      <td>NaN</td>\n",
       "      <td>NaN</td>\n",
       "      <td>NaN</td>\n",
       "      <td>NaN</td>\n",
       "      <td>NaN</td>\n",
       "      <td>NaN</td>\n",
       "      <td>NaN</td>\n",
       "    </tr>\n",
       "    <tr>\n",
       "      <th>3</th>\n",
       "      <td>73560</td>\n",
       "      <td>142203.069917</td>\n",
       "      <td>125966.366442</td>\n",
       "      <td>1</td>\n",
       "      <td>54.0</td>\n",
       "      <td>2.0</td>\n",
       "      <td>2.0</td>\n",
       "      <td>21.0</td>\n",
       "      <td>3.0</td>\n",
       "      <td>1.0</td>\n",
       "      <td>...</td>\n",
       "      <td>NaN</td>\n",
       "      <td>NaN</td>\n",
       "      <td>NaN</td>\n",
       "      <td>NaN</td>\n",
       "      <td>NaN</td>\n",
       "      <td>NaN</td>\n",
       "      <td>NaN</td>\n",
       "      <td>NaN</td>\n",
       "      <td>NaN</td>\n",
       "      <td>NaN</td>\n",
       "    </tr>\n",
       "    <tr>\n",
       "      <th>4</th>\n",
       "      <td>73561</td>\n",
       "      <td>59052.357033</td>\n",
       "      <td>39004.892993</td>\n",
       "      <td>1</td>\n",
       "      <td>63.0</td>\n",
       "      <td>2.0</td>\n",
       "      <td>2.0</td>\n",
       "      <td>18.0</td>\n",
       "      <td>1.0</td>\n",
       "      <td>1.0</td>\n",
       "      <td>...</td>\n",
       "      <td>NaN</td>\n",
       "      <td>2.0</td>\n",
       "      <td>NaN</td>\n",
       "      <td>2.0</td>\n",
       "      <td>NaN</td>\n",
       "      <td>2.0</td>\n",
       "      <td>NaN</td>\n",
       "      <td>2.0</td>\n",
       "      <td>NaN</td>\n",
       "      <td>2.0</td>\n",
       "    </tr>\n",
       "  </tbody>\n",
       "</table>\n",
       "<p>5 rows × 168 columns</p>\n",
       "</div>"
      ],
      "text/plain": [
       "    SEQN         WTDRD1         WTDR2D  DR1DRSTZ  DR1EXMER  DRABF  DRDINT  \\\n",
       "0  73557   16888.327864   12930.890649         1      49.0    2.0     2.0   \n",
       "1  73558   17932.143865   12684.148869         1      59.0    2.0     2.0   \n",
       "2  73559   59641.812930   39394.236709         1      49.0    2.0     2.0   \n",
       "3  73560  142203.069917  125966.366442         1      54.0    2.0     2.0   \n",
       "4  73561   59052.357033   39004.892993         1      63.0    2.0     2.0   \n",
       "\n",
       "   DR1DBIH  DR1DAY  DR1LANG   ...     DRD370QQ  DRD370R  DRD370RQ  DRD370S  \\\n",
       "0      6.0     2.0      1.0   ...          NaN      NaN       NaN      NaN   \n",
       "1      4.0     1.0      1.0   ...          NaN      2.0       NaN      2.0   \n",
       "2     18.0     6.0      1.0   ...          NaN      NaN       NaN      NaN   \n",
       "3     21.0     3.0      1.0   ...          NaN      NaN       NaN      NaN   \n",
       "4     18.0     1.0      1.0   ...          NaN      2.0       NaN      2.0   \n",
       "\n",
       "   DRD370SQ  DRD370T  DRD370TQ  DRD370U  DRD370UQ  DRD370V  \n",
       "0       NaN      NaN       NaN      NaN       NaN      NaN  \n",
       "1       NaN      2.0       NaN      2.0       NaN      2.0  \n",
       "2       NaN      NaN       NaN      NaN       NaN      NaN  \n",
       "3       NaN      NaN       NaN      NaN       NaN      NaN  \n",
       "4       NaN      2.0       NaN      2.0       NaN      2.0  \n",
       "\n",
       "[5 rows x 168 columns]"
      ]
     },
     "execution_count": 5,
     "metadata": {},
     "output_type": "execute_result"
    }
   ],
   "source": [
    "data1.head()"
   ]
  },
  {
   "cell_type": "code",
   "execution_count": 6,
   "metadata": {
    "scrolled": true
   },
   "outputs": [],
   "source": [
    "data2 = pd.read_csv('examination.csv')"
   ]
  },
  {
   "cell_type": "code",
   "execution_count": 7,
   "metadata": {},
   "outputs": [],
   "source": [
    "data3 = pd.read_csv('labs.csv')"
   ]
  },
  {
   "cell_type": "code",
   "execution_count": 8,
   "metadata": {},
   "outputs": [
    {
     "data": {
      "text/html": [
       "<div>\n",
       "<style scoped>\n",
       "    .dataframe tbody tr th:only-of-type {\n",
       "        vertical-align: middle;\n",
       "    }\n",
       "\n",
       "    .dataframe tbody tr th {\n",
       "        vertical-align: top;\n",
       "    }\n",
       "\n",
       "    .dataframe thead th {\n",
       "        text-align: right;\n",
       "    }\n",
       "</style>\n",
       "<table border=\"1\" class=\"dataframe\">\n",
       "  <thead>\n",
       "    <tr style=\"text-align: right;\">\n",
       "      <th></th>\n",
       "      <th>SEQN</th>\n",
       "      <th>SDDSRVYR</th>\n",
       "      <th>RIDSTATR</th>\n",
       "      <th>RIAGENDR</th>\n",
       "      <th>RIDAGEYR</th>\n",
       "      <th>RIDAGEMN</th>\n",
       "      <th>RIDRETH1</th>\n",
       "      <th>RIDRETH3</th>\n",
       "      <th>RIDEXMON</th>\n",
       "      <th>RIDEXAGM</th>\n",
       "      <th>...</th>\n",
       "      <th>DMDHREDU</th>\n",
       "      <th>DMDHRMAR</th>\n",
       "      <th>DMDHSEDU</th>\n",
       "      <th>WTINT2YR</th>\n",
       "      <th>WTMEC2YR</th>\n",
       "      <th>SDMVPSU</th>\n",
       "      <th>SDMVSTRA</th>\n",
       "      <th>INDHHIN2</th>\n",
       "      <th>INDFMIN2</th>\n",
       "      <th>INDFMPIR</th>\n",
       "    </tr>\n",
       "  </thead>\n",
       "  <tbody>\n",
       "    <tr>\n",
       "      <th>0</th>\n",
       "      <td>73557</td>\n",
       "      <td>8</td>\n",
       "      <td>2</td>\n",
       "      <td>1</td>\n",
       "      <td>69</td>\n",
       "      <td>NaN</td>\n",
       "      <td>4</td>\n",
       "      <td>4</td>\n",
       "      <td>1.0</td>\n",
       "      <td>NaN</td>\n",
       "      <td>...</td>\n",
       "      <td>3.0</td>\n",
       "      <td>4.0</td>\n",
       "      <td>NaN</td>\n",
       "      <td>13281.237386</td>\n",
       "      <td>13481.042095</td>\n",
       "      <td>1</td>\n",
       "      <td>112</td>\n",
       "      <td>4.0</td>\n",
       "      <td>4.0</td>\n",
       "      <td>0.84</td>\n",
       "    </tr>\n",
       "    <tr>\n",
       "      <th>1</th>\n",
       "      <td>73558</td>\n",
       "      <td>8</td>\n",
       "      <td>2</td>\n",
       "      <td>1</td>\n",
       "      <td>54</td>\n",
       "      <td>NaN</td>\n",
       "      <td>3</td>\n",
       "      <td>3</td>\n",
       "      <td>1.0</td>\n",
       "      <td>NaN</td>\n",
       "      <td>...</td>\n",
       "      <td>3.0</td>\n",
       "      <td>1.0</td>\n",
       "      <td>1.0</td>\n",
       "      <td>23682.057386</td>\n",
       "      <td>24471.769625</td>\n",
       "      <td>1</td>\n",
       "      <td>108</td>\n",
       "      <td>7.0</td>\n",
       "      <td>7.0</td>\n",
       "      <td>1.78</td>\n",
       "    </tr>\n",
       "    <tr>\n",
       "      <th>2</th>\n",
       "      <td>73559</td>\n",
       "      <td>8</td>\n",
       "      <td>2</td>\n",
       "      <td>1</td>\n",
       "      <td>72</td>\n",
       "      <td>NaN</td>\n",
       "      <td>3</td>\n",
       "      <td>3</td>\n",
       "      <td>2.0</td>\n",
       "      <td>NaN</td>\n",
       "      <td>...</td>\n",
       "      <td>4.0</td>\n",
       "      <td>1.0</td>\n",
       "      <td>3.0</td>\n",
       "      <td>57214.803319</td>\n",
       "      <td>57193.285376</td>\n",
       "      <td>1</td>\n",
       "      <td>109</td>\n",
       "      <td>10.0</td>\n",
       "      <td>10.0</td>\n",
       "      <td>4.51</td>\n",
       "    </tr>\n",
       "    <tr>\n",
       "      <th>3</th>\n",
       "      <td>73560</td>\n",
       "      <td>8</td>\n",
       "      <td>2</td>\n",
       "      <td>1</td>\n",
       "      <td>9</td>\n",
       "      <td>NaN</td>\n",
       "      <td>3</td>\n",
       "      <td>3</td>\n",
       "      <td>1.0</td>\n",
       "      <td>119.0</td>\n",
       "      <td>...</td>\n",
       "      <td>3.0</td>\n",
       "      <td>1.0</td>\n",
       "      <td>4.0</td>\n",
       "      <td>55201.178592</td>\n",
       "      <td>55766.512438</td>\n",
       "      <td>2</td>\n",
       "      <td>109</td>\n",
       "      <td>9.0</td>\n",
       "      <td>9.0</td>\n",
       "      <td>2.52</td>\n",
       "    </tr>\n",
       "    <tr>\n",
       "      <th>4</th>\n",
       "      <td>73561</td>\n",
       "      <td>8</td>\n",
       "      <td>2</td>\n",
       "      <td>2</td>\n",
       "      <td>73</td>\n",
       "      <td>NaN</td>\n",
       "      <td>3</td>\n",
       "      <td>3</td>\n",
       "      <td>1.0</td>\n",
       "      <td>NaN</td>\n",
       "      <td>...</td>\n",
       "      <td>5.0</td>\n",
       "      <td>1.0</td>\n",
       "      <td>5.0</td>\n",
       "      <td>63709.667069</td>\n",
       "      <td>65541.871229</td>\n",
       "      <td>2</td>\n",
       "      <td>116</td>\n",
       "      <td>15.0</td>\n",
       "      <td>15.0</td>\n",
       "      <td>5.00</td>\n",
       "    </tr>\n",
       "  </tbody>\n",
       "</table>\n",
       "<p>5 rows × 47 columns</p>\n",
       "</div>"
      ],
      "text/plain": [
       "    SEQN  SDDSRVYR  RIDSTATR  RIAGENDR  RIDAGEYR  RIDAGEMN  RIDRETH1  \\\n",
       "0  73557         8         2         1        69       NaN         4   \n",
       "1  73558         8         2         1        54       NaN         3   \n",
       "2  73559         8         2         1        72       NaN         3   \n",
       "3  73560         8         2         1         9       NaN         3   \n",
       "4  73561         8         2         2        73       NaN         3   \n",
       "\n",
       "   RIDRETH3  RIDEXMON  RIDEXAGM    ...     DMDHREDU  DMDHRMAR  DMDHSEDU  \\\n",
       "0         4       1.0       NaN    ...          3.0       4.0       NaN   \n",
       "1         3       1.0       NaN    ...          3.0       1.0       1.0   \n",
       "2         3       2.0       NaN    ...          4.0       1.0       3.0   \n",
       "3         3       1.0     119.0    ...          3.0       1.0       4.0   \n",
       "4         3       1.0       NaN    ...          5.0       1.0       5.0   \n",
       "\n",
       "       WTINT2YR      WTMEC2YR  SDMVPSU  SDMVSTRA  INDHHIN2  INDFMIN2  INDFMPIR  \n",
       "0  13281.237386  13481.042095        1       112       4.0       4.0      0.84  \n",
       "1  23682.057386  24471.769625        1       108       7.0       7.0      1.78  \n",
       "2  57214.803319  57193.285376        1       109      10.0      10.0      4.51  \n",
       "3  55201.178592  55766.512438        2       109       9.0       9.0      2.52  \n",
       "4  63709.667069  65541.871229        2       116      15.0      15.0      5.00  \n",
       "\n",
       "[5 rows x 47 columns]"
      ]
     },
     "execution_count": 8,
     "metadata": {},
     "output_type": "execute_result"
    }
   ],
   "source": [
    "data.head()"
   ]
  },
  {
   "cell_type": "code",
   "execution_count": 9,
   "metadata": {},
   "outputs": [],
   "source": [
    "data4 = pd.read_csv('questionnaire.csv')"
   ]
  },
  {
   "cell_type": "code",
   "execution_count": 10,
   "metadata": {},
   "outputs": [
    {
     "name": "stdout",
     "output_type": "stream",
     "text": [
      "<class 'pandas.core.frame.DataFrame'>\n",
      "RangeIndex: 10175 entries, 0 to 10174\n",
      "Columns: 953 entries, SEQN to WHQ520\n",
      "dtypes: float64(944), int64(7), object(2)\n",
      "memory usage: 74.0+ MB\n"
     ]
    }
   ],
   "source": [
    "data4.info()"
   ]
  },
  {
   "cell_type": "code",
   "execution_count": 11,
   "metadata": {},
   "outputs": [
    {
     "data": {
      "text/html": [
       "<div>\n",
       "<style scoped>\n",
       "    .dataframe tbody tr th:only-of-type {\n",
       "        vertical-align: middle;\n",
       "    }\n",
       "\n",
       "    .dataframe tbody tr th {\n",
       "        vertical-align: top;\n",
       "    }\n",
       "\n",
       "    .dataframe thead th {\n",
       "        text-align: right;\n",
       "    }\n",
       "</style>\n",
       "<table border=\"1\" class=\"dataframe\">\n",
       "  <thead>\n",
       "    <tr style=\"text-align: right;\">\n",
       "      <th></th>\n",
       "      <th>SEQN</th>\n",
       "      <th>SDDSRVYR</th>\n",
       "      <th>RIDSTATR</th>\n",
       "      <th>RIAGENDR</th>\n",
       "      <th>RIDAGEYR</th>\n",
       "      <th>RIDAGEMN</th>\n",
       "      <th>RIDRETH1</th>\n",
       "      <th>RIDRETH3</th>\n",
       "      <th>RIDEXMON</th>\n",
       "      <th>RIDEXAGM</th>\n",
       "      <th>...</th>\n",
       "      <th>DMDHREDU</th>\n",
       "      <th>DMDHRMAR</th>\n",
       "      <th>DMDHSEDU</th>\n",
       "      <th>WTINT2YR</th>\n",
       "      <th>WTMEC2YR</th>\n",
       "      <th>SDMVPSU</th>\n",
       "      <th>SDMVSTRA</th>\n",
       "      <th>INDHHIN2</th>\n",
       "      <th>INDFMIN2</th>\n",
       "      <th>INDFMPIR</th>\n",
       "    </tr>\n",
       "  </thead>\n",
       "  <tbody>\n",
       "    <tr>\n",
       "      <th>0</th>\n",
       "      <td>73557</td>\n",
       "      <td>8</td>\n",
       "      <td>2</td>\n",
       "      <td>1</td>\n",
       "      <td>69</td>\n",
       "      <td>NaN</td>\n",
       "      <td>4</td>\n",
       "      <td>4</td>\n",
       "      <td>1.0</td>\n",
       "      <td>NaN</td>\n",
       "      <td>...</td>\n",
       "      <td>3.0</td>\n",
       "      <td>4.0</td>\n",
       "      <td>NaN</td>\n",
       "      <td>13281.237386</td>\n",
       "      <td>13481.042095</td>\n",
       "      <td>1</td>\n",
       "      <td>112</td>\n",
       "      <td>4.0</td>\n",
       "      <td>4.0</td>\n",
       "      <td>0.84</td>\n",
       "    </tr>\n",
       "    <tr>\n",
       "      <th>1</th>\n",
       "      <td>73558</td>\n",
       "      <td>8</td>\n",
       "      <td>2</td>\n",
       "      <td>1</td>\n",
       "      <td>54</td>\n",
       "      <td>NaN</td>\n",
       "      <td>3</td>\n",
       "      <td>3</td>\n",
       "      <td>1.0</td>\n",
       "      <td>NaN</td>\n",
       "      <td>...</td>\n",
       "      <td>3.0</td>\n",
       "      <td>1.0</td>\n",
       "      <td>1.0</td>\n",
       "      <td>23682.057386</td>\n",
       "      <td>24471.769625</td>\n",
       "      <td>1</td>\n",
       "      <td>108</td>\n",
       "      <td>7.0</td>\n",
       "      <td>7.0</td>\n",
       "      <td>1.78</td>\n",
       "    </tr>\n",
       "    <tr>\n",
       "      <th>2</th>\n",
       "      <td>73559</td>\n",
       "      <td>8</td>\n",
       "      <td>2</td>\n",
       "      <td>1</td>\n",
       "      <td>72</td>\n",
       "      <td>NaN</td>\n",
       "      <td>3</td>\n",
       "      <td>3</td>\n",
       "      <td>2.0</td>\n",
       "      <td>NaN</td>\n",
       "      <td>...</td>\n",
       "      <td>4.0</td>\n",
       "      <td>1.0</td>\n",
       "      <td>3.0</td>\n",
       "      <td>57214.803319</td>\n",
       "      <td>57193.285376</td>\n",
       "      <td>1</td>\n",
       "      <td>109</td>\n",
       "      <td>10.0</td>\n",
       "      <td>10.0</td>\n",
       "      <td>4.51</td>\n",
       "    </tr>\n",
       "    <tr>\n",
       "      <th>3</th>\n",
       "      <td>73560</td>\n",
       "      <td>8</td>\n",
       "      <td>2</td>\n",
       "      <td>1</td>\n",
       "      <td>9</td>\n",
       "      <td>NaN</td>\n",
       "      <td>3</td>\n",
       "      <td>3</td>\n",
       "      <td>1.0</td>\n",
       "      <td>119.0</td>\n",
       "      <td>...</td>\n",
       "      <td>3.0</td>\n",
       "      <td>1.0</td>\n",
       "      <td>4.0</td>\n",
       "      <td>55201.178592</td>\n",
       "      <td>55766.512438</td>\n",
       "      <td>2</td>\n",
       "      <td>109</td>\n",
       "      <td>9.0</td>\n",
       "      <td>9.0</td>\n",
       "      <td>2.52</td>\n",
       "    </tr>\n",
       "    <tr>\n",
       "      <th>4</th>\n",
       "      <td>73561</td>\n",
       "      <td>8</td>\n",
       "      <td>2</td>\n",
       "      <td>2</td>\n",
       "      <td>73</td>\n",
       "      <td>NaN</td>\n",
       "      <td>3</td>\n",
       "      <td>3</td>\n",
       "      <td>1.0</td>\n",
       "      <td>NaN</td>\n",
       "      <td>...</td>\n",
       "      <td>5.0</td>\n",
       "      <td>1.0</td>\n",
       "      <td>5.0</td>\n",
       "      <td>63709.667069</td>\n",
       "      <td>65541.871229</td>\n",
       "      <td>2</td>\n",
       "      <td>116</td>\n",
       "      <td>15.0</td>\n",
       "      <td>15.0</td>\n",
       "      <td>5.00</td>\n",
       "    </tr>\n",
       "  </tbody>\n",
       "</table>\n",
       "<p>5 rows × 47 columns</p>\n",
       "</div>"
      ],
      "text/plain": [
       "    SEQN  SDDSRVYR  RIDSTATR  RIAGENDR  RIDAGEYR  RIDAGEMN  RIDRETH1  \\\n",
       "0  73557         8         2         1        69       NaN         4   \n",
       "1  73558         8         2         1        54       NaN         3   \n",
       "2  73559         8         2         1        72       NaN         3   \n",
       "3  73560         8         2         1         9       NaN         3   \n",
       "4  73561         8         2         2        73       NaN         3   \n",
       "\n",
       "   RIDRETH3  RIDEXMON  RIDEXAGM    ...     DMDHREDU  DMDHRMAR  DMDHSEDU  \\\n",
       "0         4       1.0       NaN    ...          3.0       4.0       NaN   \n",
       "1         3       1.0       NaN    ...          3.0       1.0       1.0   \n",
       "2         3       2.0       NaN    ...          4.0       1.0       3.0   \n",
       "3         3       1.0     119.0    ...          3.0       1.0       4.0   \n",
       "4         3       1.0       NaN    ...          5.0       1.0       5.0   \n",
       "\n",
       "       WTINT2YR      WTMEC2YR  SDMVPSU  SDMVSTRA  INDHHIN2  INDFMIN2  INDFMPIR  \n",
       "0  13281.237386  13481.042095        1       112       4.0       4.0      0.84  \n",
       "1  23682.057386  24471.769625        1       108       7.0       7.0      1.78  \n",
       "2  57214.803319  57193.285376        1       109      10.0      10.0      4.51  \n",
       "3  55201.178592  55766.512438        2       109       9.0       9.0      2.52  \n",
       "4  63709.667069  65541.871229        2       116      15.0      15.0      5.00  \n",
       "\n",
       "[5 rows x 47 columns]"
      ]
     },
     "execution_count": 11,
     "metadata": {},
     "output_type": "execute_result"
    }
   ],
   "source": [
    "data.head()"
   ]
  },
  {
   "cell_type": "code",
   "execution_count": 46,
   "metadata": {},
   "outputs": [],
   "source": [
    "mydata = data.filter(['SEQN', 'RIAGENDR','DMDHRGND','DMDMARTL','RIDRETH1','INDHHIN2', 'INDFMIN2','DMDHREDU','DMDEDUC2','DMDHHSZA','DMDHHSZB', 'DMDHRMAR','RIDAGEYR'], axis=1) #selected all the columns i need from 'data' into 'mydata' "
   ]
  },
  {
   "cell_type": "code",
   "execution_count": 47,
   "metadata": {},
   "outputs": [
    {
     "name": "stdout",
     "output_type": "stream",
     "text": [
      "<class 'pandas.core.frame.DataFrame'>\n",
      "RangeIndex: 10175 entries, 0 to 10174\n",
      "Data columns (total 13 columns):\n",
      "SEQN        10175 non-null int64\n",
      "RIAGENDR    10175 non-null int64\n",
      "DMDHRGND    10175 non-null int64\n",
      "DMDMARTL    5769 non-null float64\n",
      "RIDRETH1    10175 non-null int64\n",
      "INDHHIN2    10042 non-null float64\n",
      "INDFMIN2    10052 non-null float64\n",
      "DMDHREDU    9881 non-null float64\n",
      "DMDEDUC2    5769 non-null float64\n",
      "DMDHHSZA    10175 non-null int64\n",
      "DMDHHSZB    10175 non-null int64\n",
      "DMDHRMAR    10052 non-null float64\n",
      "RIDAGEYR    10175 non-null int64\n",
      "dtypes: float64(6), int64(7)\n",
      "memory usage: 1.0 MB\n"
     ]
    }
   ],
   "source": [
    "mydata.info()"
   ]
  },
  {
   "cell_type": "code",
   "execution_count": 48,
   "metadata": {},
   "outputs": [],
   "source": [
    "mydata2 = data4.filter(['SEQN','MCQ010','MCQ053', 'MCQ203', 'MCQ040', 'HUQ010', 'ECD070A', 'ECD070B', 'WHQ030E', 'IND235','WHQ030M','IMQ011','IMQ020'], axis=1) #selected all the columns i need from 'data4' into 'mydata2'"
   ]
  },
  {
   "cell_type": "code",
   "execution_count": 49,
   "metadata": {},
   "outputs": [
    {
     "name": "stdout",
     "output_type": "stream",
     "text": [
      "<class 'pandas.core.frame.DataFrame'>\n",
      "RangeIndex: 10175 entries, 0 to 10174\n",
      "Data columns (total 13 columns):\n",
      "SEQN       10175 non-null int64\n",
      "MCQ010     9769 non-null float64\n",
      "MCQ053     9769 non-null float64\n",
      "MCQ203     8472 non-null float64\n",
      "MCQ040     939 non-null float64\n",
      "HUQ010     10175 non-null int64\n",
      "ECD070A    3710 non-null float64\n",
      "ECD070B    3710 non-null float64\n",
      "WHQ030E    3042 non-null float64\n",
      "IND235     9806 non-null float64\n",
      "WHQ030M    1478 non-null float64\n",
      "IMQ011     9507 non-null float64\n",
      "IMQ020     10175 non-null int64\n",
      "dtypes: float64(10), int64(3)\n",
      "memory usage: 1.0 MB\n"
     ]
    }
   ],
   "source": [
    "mydata2.info()"
   ]
  },
  {
   "cell_type": "code",
   "execution_count": 50,
   "metadata": {},
   "outputs": [
    {
     "data": {
      "text/html": [
       "<div>\n",
       "<style scoped>\n",
       "    .dataframe tbody tr th:only-of-type {\n",
       "        vertical-align: middle;\n",
       "    }\n",
       "\n",
       "    .dataframe tbody tr th {\n",
       "        vertical-align: top;\n",
       "    }\n",
       "\n",
       "    .dataframe thead th {\n",
       "        text-align: right;\n",
       "    }\n",
       "</style>\n",
       "<table border=\"1\" class=\"dataframe\">\n",
       "  <thead>\n",
       "    <tr style=\"text-align: right;\">\n",
       "      <th></th>\n",
       "      <th>SEQN</th>\n",
       "      <th>MCQ010</th>\n",
       "      <th>MCQ053</th>\n",
       "      <th>MCQ203</th>\n",
       "      <th>MCQ040</th>\n",
       "      <th>HUQ010</th>\n",
       "      <th>ECD070A</th>\n",
       "      <th>ECD070B</th>\n",
       "      <th>WHQ030E</th>\n",
       "      <th>IND235</th>\n",
       "      <th>WHQ030M</th>\n",
       "      <th>IMQ011</th>\n",
       "      <th>IMQ020</th>\n",
       "    </tr>\n",
       "  </thead>\n",
       "  <tbody>\n",
       "    <tr>\n",
       "      <th>0</th>\n",
       "      <td>73557</td>\n",
       "      <td>2.0</td>\n",
       "      <td>2.0</td>\n",
       "      <td>2.0</td>\n",
       "      <td>NaN</td>\n",
       "      <td>2</td>\n",
       "      <td>NaN</td>\n",
       "      <td>NaN</td>\n",
       "      <td>NaN</td>\n",
       "      <td>4.0</td>\n",
       "      <td>NaN</td>\n",
       "      <td>3.0</td>\n",
       "      <td>3</td>\n",
       "    </tr>\n",
       "    <tr>\n",
       "      <th>1</th>\n",
       "      <td>73558</td>\n",
       "      <td>1.0</td>\n",
       "      <td>2.0</td>\n",
       "      <td>2.0</td>\n",
       "      <td>1.0</td>\n",
       "      <td>4</td>\n",
       "      <td>NaN</td>\n",
       "      <td>NaN</td>\n",
       "      <td>NaN</td>\n",
       "      <td>5.0</td>\n",
       "      <td>NaN</td>\n",
       "      <td>3.0</td>\n",
       "      <td>3</td>\n",
       "    </tr>\n",
       "    <tr>\n",
       "      <th>2</th>\n",
       "      <td>73559</td>\n",
       "      <td>2.0</td>\n",
       "      <td>2.0</td>\n",
       "      <td>2.0</td>\n",
       "      <td>NaN</td>\n",
       "      <td>3</td>\n",
       "      <td>NaN</td>\n",
       "      <td>NaN</td>\n",
       "      <td>NaN</td>\n",
       "      <td>10.0</td>\n",
       "      <td>NaN</td>\n",
       "      <td>3.0</td>\n",
       "      <td>3</td>\n",
       "    </tr>\n",
       "    <tr>\n",
       "      <th>3</th>\n",
       "      <td>73560</td>\n",
       "      <td>2.0</td>\n",
       "      <td>2.0</td>\n",
       "      <td>2.0</td>\n",
       "      <td>NaN</td>\n",
       "      <td>2</td>\n",
       "      <td>6.0</td>\n",
       "      <td>0.0</td>\n",
       "      <td>3.0</td>\n",
       "      <td>9.0</td>\n",
       "      <td>3.0</td>\n",
       "      <td>1.0</td>\n",
       "      <td>1</td>\n",
       "    </tr>\n",
       "    <tr>\n",
       "      <th>4</th>\n",
       "      <td>73561</td>\n",
       "      <td>2.0</td>\n",
       "      <td>2.0</td>\n",
       "      <td>2.0</td>\n",
       "      <td>NaN</td>\n",
       "      <td>5</td>\n",
       "      <td>NaN</td>\n",
       "      <td>NaN</td>\n",
       "      <td>NaN</td>\n",
       "      <td>11.0</td>\n",
       "      <td>NaN</td>\n",
       "      <td>3.0</td>\n",
       "      <td>3</td>\n",
       "    </tr>\n",
       "  </tbody>\n",
       "</table>\n",
       "</div>"
      ],
      "text/plain": [
       "    SEQN  MCQ010  MCQ053  MCQ203  MCQ040  HUQ010  ECD070A  ECD070B  WHQ030E  \\\n",
       "0  73557     2.0     2.0     2.0     NaN       2      NaN      NaN      NaN   \n",
       "1  73558     1.0     2.0     2.0     1.0       4      NaN      NaN      NaN   \n",
       "2  73559     2.0     2.0     2.0     NaN       3      NaN      NaN      NaN   \n",
       "3  73560     2.0     2.0     2.0     NaN       2      6.0      0.0      3.0   \n",
       "4  73561     2.0     2.0     2.0     NaN       5      NaN      NaN      NaN   \n",
       "\n",
       "   IND235  WHQ030M  IMQ011  IMQ020  \n",
       "0     4.0      NaN     3.0       3  \n",
       "1     5.0      NaN     3.0       3  \n",
       "2    10.0      NaN     3.0       3  \n",
       "3     9.0      3.0     1.0       1  \n",
       "4    11.0      NaN     3.0       3  "
      ]
     },
     "execution_count": 50,
     "metadata": {},
     "output_type": "execute_result"
    }
   ],
   "source": [
    "mydata2.head()"
   ]
  },
  {
   "cell_type": "code",
   "execution_count": 51,
   "metadata": {},
   "outputs": [],
   "source": [
    "health_data = pd.merge(mydata, mydata2, on='SEQN', how='inner') # i merged my new dataframes (mydata and mydata2) into 'merged_data'"
   ]
  },
  {
   "cell_type": "code",
   "execution_count": 52,
   "metadata": {},
   "outputs": [
    {
     "name": "stdout",
     "output_type": "stream",
     "text": [
      "<class 'pandas.core.frame.DataFrame'>\n",
      "Int64Index: 10175 entries, 0 to 10174\n",
      "Data columns (total 25 columns):\n",
      "SEQN        10175 non-null int64\n",
      "RIAGENDR    10175 non-null int64\n",
      "DMDHRGND    10175 non-null int64\n",
      "DMDMARTL    5769 non-null float64\n",
      "RIDRETH1    10175 non-null int64\n",
      "INDHHIN2    10042 non-null float64\n",
      "INDFMIN2    10052 non-null float64\n",
      "DMDHREDU    9881 non-null float64\n",
      "DMDEDUC2    5769 non-null float64\n",
      "DMDHHSZA    10175 non-null int64\n",
      "DMDHHSZB    10175 non-null int64\n",
      "DMDHRMAR    10052 non-null float64\n",
      "RIDAGEYR    10175 non-null int64\n",
      "MCQ010      9769 non-null float64\n",
      "MCQ053      9769 non-null float64\n",
      "MCQ203      8472 non-null float64\n",
      "MCQ040      939 non-null float64\n",
      "HUQ010      10175 non-null int64\n",
      "ECD070A     3710 non-null float64\n",
      "ECD070B     3710 non-null float64\n",
      "WHQ030E     3042 non-null float64\n",
      "IND235      9806 non-null float64\n",
      "WHQ030M     1478 non-null float64\n",
      "IMQ011      9507 non-null float64\n",
      "IMQ020      10175 non-null int64\n",
      "dtypes: float64(16), int64(9)\n",
      "memory usage: 2.0 MB\n"
     ]
    }
   ],
   "source": [
    "health_data.info()"
   ]
  },
  {
   "cell_type": "code",
   "execution_count": 53,
   "metadata": {
    "scrolled": true
   },
   "outputs": [
    {
     "data": {
      "text/html": [
       "<div>\n",
       "<style scoped>\n",
       "    .dataframe tbody tr th:only-of-type {\n",
       "        vertical-align: middle;\n",
       "    }\n",
       "\n",
       "    .dataframe tbody tr th {\n",
       "        vertical-align: top;\n",
       "    }\n",
       "\n",
       "    .dataframe thead th {\n",
       "        text-align: right;\n",
       "    }\n",
       "</style>\n",
       "<table border=\"1\" class=\"dataframe\">\n",
       "  <thead>\n",
       "    <tr style=\"text-align: right;\">\n",
       "      <th></th>\n",
       "      <th>SEQN</th>\n",
       "      <th>RIAGENDR</th>\n",
       "      <th>DMDHRGND</th>\n",
       "      <th>DMDMARTL</th>\n",
       "      <th>RIDRETH1</th>\n",
       "      <th>INDHHIN2</th>\n",
       "      <th>INDFMIN2</th>\n",
       "      <th>DMDHREDU</th>\n",
       "      <th>DMDEDUC2</th>\n",
       "      <th>DMDHHSZA</th>\n",
       "      <th>...</th>\n",
       "      <th>MCQ203</th>\n",
       "      <th>MCQ040</th>\n",
       "      <th>HUQ010</th>\n",
       "      <th>ECD070A</th>\n",
       "      <th>ECD070B</th>\n",
       "      <th>WHQ030E</th>\n",
       "      <th>IND235</th>\n",
       "      <th>WHQ030M</th>\n",
       "      <th>IMQ011</th>\n",
       "      <th>IMQ020</th>\n",
       "    </tr>\n",
       "  </thead>\n",
       "  <tbody>\n",
       "    <tr>\n",
       "      <th>0</th>\n",
       "      <td>73557</td>\n",
       "      <td>1</td>\n",
       "      <td>1</td>\n",
       "      <td>4.0</td>\n",
       "      <td>4</td>\n",
       "      <td>4.0</td>\n",
       "      <td>4.0</td>\n",
       "      <td>3.0</td>\n",
       "      <td>3.0</td>\n",
       "      <td>0</td>\n",
       "      <td>...</td>\n",
       "      <td>2.0</td>\n",
       "      <td>NaN</td>\n",
       "      <td>2</td>\n",
       "      <td>NaN</td>\n",
       "      <td>NaN</td>\n",
       "      <td>NaN</td>\n",
       "      <td>4.0</td>\n",
       "      <td>NaN</td>\n",
       "      <td>3.0</td>\n",
       "      <td>3</td>\n",
       "    </tr>\n",
       "    <tr>\n",
       "      <th>1</th>\n",
       "      <td>73558</td>\n",
       "      <td>1</td>\n",
       "      <td>1</td>\n",
       "      <td>1.0</td>\n",
       "      <td>3</td>\n",
       "      <td>7.0</td>\n",
       "      <td>7.0</td>\n",
       "      <td>3.0</td>\n",
       "      <td>3.0</td>\n",
       "      <td>0</td>\n",
       "      <td>...</td>\n",
       "      <td>2.0</td>\n",
       "      <td>1.0</td>\n",
       "      <td>4</td>\n",
       "      <td>NaN</td>\n",
       "      <td>NaN</td>\n",
       "      <td>NaN</td>\n",
       "      <td>5.0</td>\n",
       "      <td>NaN</td>\n",
       "      <td>3.0</td>\n",
       "      <td>3</td>\n",
       "    </tr>\n",
       "    <tr>\n",
       "      <th>2</th>\n",
       "      <td>73559</td>\n",
       "      <td>1</td>\n",
       "      <td>1</td>\n",
       "      <td>1.0</td>\n",
       "      <td>3</td>\n",
       "      <td>10.0</td>\n",
       "      <td>10.0</td>\n",
       "      <td>4.0</td>\n",
       "      <td>4.0</td>\n",
       "      <td>0</td>\n",
       "      <td>...</td>\n",
       "      <td>2.0</td>\n",
       "      <td>NaN</td>\n",
       "      <td>3</td>\n",
       "      <td>NaN</td>\n",
       "      <td>NaN</td>\n",
       "      <td>NaN</td>\n",
       "      <td>10.0</td>\n",
       "      <td>NaN</td>\n",
       "      <td>3.0</td>\n",
       "      <td>3</td>\n",
       "    </tr>\n",
       "    <tr>\n",
       "      <th>3</th>\n",
       "      <td>73560</td>\n",
       "      <td>1</td>\n",
       "      <td>1</td>\n",
       "      <td>NaN</td>\n",
       "      <td>3</td>\n",
       "      <td>9.0</td>\n",
       "      <td>9.0</td>\n",
       "      <td>3.0</td>\n",
       "      <td>NaN</td>\n",
       "      <td>0</td>\n",
       "      <td>...</td>\n",
       "      <td>2.0</td>\n",
       "      <td>NaN</td>\n",
       "      <td>2</td>\n",
       "      <td>6.0</td>\n",
       "      <td>0.0</td>\n",
       "      <td>3.0</td>\n",
       "      <td>9.0</td>\n",
       "      <td>3.0</td>\n",
       "      <td>1.0</td>\n",
       "      <td>1</td>\n",
       "    </tr>\n",
       "    <tr>\n",
       "      <th>4</th>\n",
       "      <td>73561</td>\n",
       "      <td>2</td>\n",
       "      <td>1</td>\n",
       "      <td>1.0</td>\n",
       "      <td>3</td>\n",
       "      <td>15.0</td>\n",
       "      <td>15.0</td>\n",
       "      <td>5.0</td>\n",
       "      <td>5.0</td>\n",
       "      <td>0</td>\n",
       "      <td>...</td>\n",
       "      <td>2.0</td>\n",
       "      <td>NaN</td>\n",
       "      <td>5</td>\n",
       "      <td>NaN</td>\n",
       "      <td>NaN</td>\n",
       "      <td>NaN</td>\n",
       "      <td>11.0</td>\n",
       "      <td>NaN</td>\n",
       "      <td>3.0</td>\n",
       "      <td>3</td>\n",
       "    </tr>\n",
       "  </tbody>\n",
       "</table>\n",
       "<p>5 rows × 25 columns</p>\n",
       "</div>"
      ],
      "text/plain": [
       "    SEQN  RIAGENDR  DMDHRGND  DMDMARTL  RIDRETH1  INDHHIN2  INDFMIN2  \\\n",
       "0  73557         1         1       4.0         4       4.0       4.0   \n",
       "1  73558         1         1       1.0         3       7.0       7.0   \n",
       "2  73559         1         1       1.0         3      10.0      10.0   \n",
       "3  73560         1         1       NaN         3       9.0       9.0   \n",
       "4  73561         2         1       1.0         3      15.0      15.0   \n",
       "\n",
       "   DMDHREDU  DMDEDUC2  DMDHHSZA   ...    MCQ203  MCQ040  HUQ010  ECD070A  \\\n",
       "0       3.0       3.0         0   ...       2.0     NaN       2      NaN   \n",
       "1       3.0       3.0         0   ...       2.0     1.0       4      NaN   \n",
       "2       4.0       4.0         0   ...       2.0     NaN       3      NaN   \n",
       "3       3.0       NaN         0   ...       2.0     NaN       2      6.0   \n",
       "4       5.0       5.0         0   ...       2.0     NaN       5      NaN   \n",
       "\n",
       "   ECD070B  WHQ030E  IND235  WHQ030M  IMQ011  IMQ020  \n",
       "0      NaN      NaN     4.0      NaN     3.0       3  \n",
       "1      NaN      NaN     5.0      NaN     3.0       3  \n",
       "2      NaN      NaN    10.0      NaN     3.0       3  \n",
       "3      0.0      3.0     9.0      3.0     1.0       1  \n",
       "4      NaN      NaN    11.0      NaN     3.0       3  \n",
       "\n",
       "[5 rows x 25 columns]"
      ]
     },
     "execution_count": 53,
     "metadata": {},
     "output_type": "execute_result"
    }
   ],
   "source": [
    "health_data.head()"
   ]
  },
  {
   "cell_type": "code",
   "execution_count": 54,
   "metadata": {},
   "outputs": [
    {
     "data": {
      "text/html": [
       "<div>\n",
       "<style scoped>\n",
       "    .dataframe tbody tr th:only-of-type {\n",
       "        vertical-align: middle;\n",
       "    }\n",
       "\n",
       "    .dataframe tbody tr th {\n",
       "        vertical-align: top;\n",
       "    }\n",
       "\n",
       "    .dataframe thead th {\n",
       "        text-align: right;\n",
       "    }\n",
       "</style>\n",
       "<table border=\"1\" class=\"dataframe\">\n",
       "  <thead>\n",
       "    <tr style=\"text-align: right;\">\n",
       "      <th></th>\n",
       "      <th>SEQN</th>\n",
       "      <th>RIAGENDR</th>\n",
       "      <th>DMDHRGND</th>\n",
       "      <th>DMDMARTL</th>\n",
       "      <th>RIDRETH1</th>\n",
       "      <th>INDHHIN2</th>\n",
       "      <th>INDFMIN2</th>\n",
       "      <th>DMDHREDU</th>\n",
       "      <th>DMDEDUC2</th>\n",
       "      <th>DMDHHSZA</th>\n",
       "      <th>...</th>\n",
       "      <th>MCQ203</th>\n",
       "      <th>MCQ040</th>\n",
       "      <th>HUQ010</th>\n",
       "      <th>ECD070A</th>\n",
       "      <th>ECD070B</th>\n",
       "      <th>WHQ030E</th>\n",
       "      <th>IND235</th>\n",
       "      <th>WHQ030M</th>\n",
       "      <th>IMQ011</th>\n",
       "      <th>IMQ020</th>\n",
       "    </tr>\n",
       "  </thead>\n",
       "  <tbody>\n",
       "    <tr>\n",
       "      <th>10170</th>\n",
       "      <td>83727</td>\n",
       "      <td>1</td>\n",
       "      <td>2</td>\n",
       "      <td>5.0</td>\n",
       "      <td>2</td>\n",
       "      <td>77.0</td>\n",
       "      <td>77.0</td>\n",
       "      <td>3.0</td>\n",
       "      <td>5.0</td>\n",
       "      <td>0</td>\n",
       "      <td>...</td>\n",
       "      <td>2.0</td>\n",
       "      <td>NaN</td>\n",
       "      <td>4</td>\n",
       "      <td>NaN</td>\n",
       "      <td>NaN</td>\n",
       "      <td>NaN</td>\n",
       "      <td>NaN</td>\n",
       "      <td>NaN</td>\n",
       "      <td>3.0</td>\n",
       "      <td>3</td>\n",
       "    </tr>\n",
       "    <tr>\n",
       "      <th>10171</th>\n",
       "      <td>83728</td>\n",
       "      <td>2</td>\n",
       "      <td>1</td>\n",
       "      <td>NaN</td>\n",
       "      <td>1</td>\n",
       "      <td>8.0</td>\n",
       "      <td>8.0</td>\n",
       "      <td>3.0</td>\n",
       "      <td>NaN</td>\n",
       "      <td>1</td>\n",
       "      <td>...</td>\n",
       "      <td>NaN</td>\n",
       "      <td>NaN</td>\n",
       "      <td>2</td>\n",
       "      <td>6.0</td>\n",
       "      <td>7.0</td>\n",
       "      <td>2.0</td>\n",
       "      <td>12.0</td>\n",
       "      <td>NaN</td>\n",
       "      <td>1.0</td>\n",
       "      <td>2</td>\n",
       "    </tr>\n",
       "    <tr>\n",
       "      <th>10172</th>\n",
       "      <td>83729</td>\n",
       "      <td>2</td>\n",
       "      <td>2</td>\n",
       "      <td>3.0</td>\n",
       "      <td>4</td>\n",
       "      <td>7.0</td>\n",
       "      <td>7.0</td>\n",
       "      <td>5.0</td>\n",
       "      <td>5.0</td>\n",
       "      <td>0</td>\n",
       "      <td>...</td>\n",
       "      <td>2.0</td>\n",
       "      <td>NaN</td>\n",
       "      <td>3</td>\n",
       "      <td>NaN</td>\n",
       "      <td>NaN</td>\n",
       "      <td>NaN</td>\n",
       "      <td>6.0</td>\n",
       "      <td>NaN</td>\n",
       "      <td>1.0</td>\n",
       "      <td>1</td>\n",
       "    </tr>\n",
       "    <tr>\n",
       "      <th>10173</th>\n",
       "      <td>83730</td>\n",
       "      <td>1</td>\n",
       "      <td>2</td>\n",
       "      <td>NaN</td>\n",
       "      <td>2</td>\n",
       "      <td>6.0</td>\n",
       "      <td>6.0</td>\n",
       "      <td>4.0</td>\n",
       "      <td>NaN</td>\n",
       "      <td>1</td>\n",
       "      <td>...</td>\n",
       "      <td>2.0</td>\n",
       "      <td>NaN</td>\n",
       "      <td>1</td>\n",
       "      <td>8.0</td>\n",
       "      <td>3.0</td>\n",
       "      <td>3.0</td>\n",
       "      <td>5.0</td>\n",
       "      <td>NaN</td>\n",
       "      <td>1.0</td>\n",
       "      <td>1</td>\n",
       "    </tr>\n",
       "    <tr>\n",
       "      <th>10174</th>\n",
       "      <td>83731</td>\n",
       "      <td>1</td>\n",
       "      <td>1</td>\n",
       "      <td>NaN</td>\n",
       "      <td>5</td>\n",
       "      <td>15.0</td>\n",
       "      <td>15.0</td>\n",
       "      <td>5.0</td>\n",
       "      <td>NaN</td>\n",
       "      <td>0</td>\n",
       "      <td>...</td>\n",
       "      <td>2.0</td>\n",
       "      <td>NaN</td>\n",
       "      <td>2</td>\n",
       "      <td>2.0</td>\n",
       "      <td>12.0</td>\n",
       "      <td>3.0</td>\n",
       "      <td>12.0</td>\n",
       "      <td>3.0</td>\n",
       "      <td>1.0</td>\n",
       "      <td>1</td>\n",
       "    </tr>\n",
       "  </tbody>\n",
       "</table>\n",
       "<p>5 rows × 25 columns</p>\n",
       "</div>"
      ],
      "text/plain": [
       "        SEQN  RIAGENDR  DMDHRGND  DMDMARTL  RIDRETH1  INDHHIN2  INDFMIN2  \\\n",
       "10170  83727         1         2       5.0         2      77.0      77.0   \n",
       "10171  83728         2         1       NaN         1       8.0       8.0   \n",
       "10172  83729         2         2       3.0         4       7.0       7.0   \n",
       "10173  83730         1         2       NaN         2       6.0       6.0   \n",
       "10174  83731         1         1       NaN         5      15.0      15.0   \n",
       "\n",
       "       DMDHREDU  DMDEDUC2  DMDHHSZA   ...    MCQ203  MCQ040  HUQ010  ECD070A  \\\n",
       "10170       3.0       5.0         0   ...       2.0     NaN       4      NaN   \n",
       "10171       3.0       NaN         1   ...       NaN     NaN       2      6.0   \n",
       "10172       5.0       5.0         0   ...       2.0     NaN       3      NaN   \n",
       "10173       4.0       NaN         1   ...       2.0     NaN       1      8.0   \n",
       "10174       5.0       NaN         0   ...       2.0     NaN       2      2.0   \n",
       "\n",
       "       ECD070B  WHQ030E  IND235  WHQ030M  IMQ011  IMQ020  \n",
       "10170      NaN      NaN     NaN      NaN     3.0       3  \n",
       "10171      7.0      2.0    12.0      NaN     1.0       2  \n",
       "10172      NaN      NaN     6.0      NaN     1.0       1  \n",
       "10173      3.0      3.0     5.0      NaN     1.0       1  \n",
       "10174     12.0      3.0    12.0      3.0     1.0       1  \n",
       "\n",
       "[5 rows x 25 columns]"
      ]
     },
     "execution_count": 54,
     "metadata": {},
     "output_type": "execute_result"
    }
   ],
   "source": [
    "health_data.tail()"
   ]
  },
  {
   "cell_type": "code",
   "execution_count": 55,
   "metadata": {},
   "outputs": [],
   "source": [
    "health_data.rename(columns = {'RIAGENDR': 'Gender','DMDHRGND':'Ref_gender',  'DMDMARTL': 'Marital_Stat', 'RIDRETH1': 'Race','INDHHIN2': 'Family_income', 'INDFMIN2': 'HH_income','DMDHREDU':'Ref_Edu', 'DMDEDUC2': 'Highest_Edu','DMDHHSZA': 'No_of_children(0-5)','DMDHHSZB': 'No_of_children(6-17)', 'DMDHRMAR': 'HH_ref_person_MS', 'RIDAGEYR':'Age_in_years','MCQ010': 'Asthma_ever', 'MCQ053': 'Anemia_ever', 'MCQ203': 'Jaundice', 'MCQ040': 'Asthma_12M', 'HUQ010': 'General_health', 'ECD070A': 'Birth_weightA','ECD070B': 'Birth_weightB','WHQ030E': 'Present_weight', 'IND235': 'M_Family_income', 'WHQ030M': 'Present_Weight(Y)', 'IMQ011': 'Immunization_HA','IMQ020': 'Immunization_HB'}, inplace=True)\n",
    "#renamed selected column names in my merged data"
   ]
  },
  {
   "cell_type": "code",
   "execution_count": 56,
   "metadata": {},
   "outputs": [
    {
     "name": "stdout",
     "output_type": "stream",
     "text": [
      "<class 'pandas.core.frame.DataFrame'>\n",
      "Int64Index: 10175 entries, 0 to 10174\n",
      "Data columns (total 25 columns):\n",
      "SEQN                    10175 non-null int64\n",
      "Gender                  10175 non-null int64\n",
      "Ref_gender              10175 non-null int64\n",
      "Marital_Stat            5769 non-null float64\n",
      "Race                    10175 non-null int64\n",
      "Family_income           10042 non-null float64\n",
      "HH_income               10052 non-null float64\n",
      "Ref_Edu                 9881 non-null float64\n",
      "Highest_Edu             5769 non-null float64\n",
      "No_of_children(0-5)     10175 non-null int64\n",
      "No_of_children(6-17)    10175 non-null int64\n",
      "HH_ref_person_MS        10052 non-null float64\n",
      "Age_in_years            10175 non-null int64\n",
      "Asthma_ever             9769 non-null float64\n",
      "Anemia_ever             9769 non-null float64\n",
      "Jaundice                8472 non-null float64\n",
      "Asthma_12M              939 non-null float64\n",
      "General_health          10175 non-null int64\n",
      "Birth_weightA           3710 non-null float64\n",
      "Birth_weightB           3710 non-null float64\n",
      "Present_weight          3042 non-null float64\n",
      "M_Family_income         9806 non-null float64\n",
      "Present_Weight(Y)       1478 non-null float64\n",
      "Immunization_HA         9507 non-null float64\n",
      "Immunization_HB         10175 non-null int64\n",
      "dtypes: float64(16), int64(9)\n",
      "memory usage: 2.0 MB\n"
     ]
    }
   ],
   "source": [
    "health_data.info()"
   ]
  },
  {
   "cell_type": "code",
   "execution_count": 57,
   "metadata": {},
   "outputs": [
    {
     "data": {
      "text/plain": [
       "<matplotlib.axes._subplots.AxesSubplot at 0x25774c089b0>"
      ]
     },
     "execution_count": 57,
     "metadata": {},
     "output_type": "execute_result"
    },
    {
     "data": {
      "image/png": "[encoded data removed]",
      "text/plain": [
       "<Figure size 432x288 with 1 Axes>"
      ]
     },
     "metadata": {
      "needs_background": "light"
     },
     "output_type": "display_data"
    }
   ],
   "source": [
    "health_data.plot(kind ='hist')"
   ]
  },
  {
   "cell_type": "code",
   "execution_count": 58,
   "metadata": {},
   "outputs": [
    {
     "name": "stdout",
     "output_type": "stream",
     "text": [
      "        SEQN  Gender  Ref_gender  Marital_Stat  Race  Family_income  \\\n",
      "0      73557       1           1           4.0     4            4.0   \n",
      "1      73558       1           1           1.0     3            7.0   \n",
      "2      73559       1           1           1.0     3           10.0   \n",
      "3      73560       1           1           NaN     3            9.0   \n",
      "4      73561       2           1           1.0     3           15.0   \n",
      "5      73562       1           1           3.0     1            9.0   \n",
      "6      73563       1           1           NaN     3           15.0   \n",
      "7      73564       2           2           2.0     3           10.0   \n",
      "8      73565       1           1           1.0     2           15.0   \n",
      "9      73566       2           2           3.0     3            4.0   \n",
      "10     73567       1           1           2.0     3            3.0   \n",
      "11     73568       2           2           5.0     3           15.0   \n",
      "12     73569       2           2           NaN     5           77.0   \n",
      "13     73570       2           2           NaN     5            5.0   \n",
      "14     73571       1           1           1.0     3           14.0   \n",
      "15     73572       2           2           NaN     4            2.0   \n",
      "16     73573       1           1           NaN     4            8.0   \n",
      "17     73574       2           2           1.0     5            8.0   \n",
      "18     73575       1           2           NaN     4            3.0   \n",
      "19     73576       1           2           NaN     4            8.0   \n",
      "20     73577       1           2           6.0     1            5.0   \n",
      "21     73578       1           2           NaN     1            5.0   \n",
      "22     73579       2           2           NaN     3           10.0   \n",
      "23     73580       2           2           1.0     4           12.0   \n",
      "24     73581       1           1           1.0     5           15.0   \n",
      "25     73582       2           2           6.0     4            3.0   \n",
      "26     73583       2           1           NaN     3           15.0   \n",
      "27     73584       1           2           NaN     3            9.0   \n",
      "28     73585       1           1           1.0     5            7.0   \n",
      "29     73586       2           1           NaN     5            6.0   \n",
      "...      ...     ...         ...           ...   ...            ...   \n",
      "10145  83702       2           2           2.0     3            7.0   \n",
      "10146  83703       1           2           1.0     1           99.0   \n",
      "10147  83704       1           2           NaN     3            1.0   \n",
      "10148  83705       2           1           6.0     2            4.0   \n",
      "10149  83706       2           2           NaN     4            6.0   \n",
      "10150  83707       1           2           NaN     1           12.0   \n",
      "10151  83708       1           1           3.0     3            5.0   \n",
      "10152  83709       1           2           5.0     3           15.0   \n",
      "10153  83710       2           2           NaN     4            1.0   \n",
      "10154  83711       2           1           1.0     3            7.0   \n",
      "10155  83712       1           1           1.0     3            9.0   \n",
      "10156  83713       1           2           1.0     5            6.0   \n",
      "10157  83714       2           1           NaN     3            6.0   \n",
      "10158  83715       1           1           5.0     3            3.0   \n",
      "10159  83716       1           2           NaN     3           15.0   \n",
      "10160  83717       2           2           2.0     1            6.0   \n",
      "10161  83718       2           2           2.0     4            NaN   \n",
      "10162  83719       1           1           NaN     1            8.0   \n",
      "10163  83720       1           1           5.0     4            8.0   \n",
      "10164  83721       1           2           1.0     3           15.0   \n",
      "10165  83722       1           2           NaN     5            7.0   \n",
      "10166  83723       1           1           1.0     1           10.0   \n",
      "10167  83724       1           1           1.0     3            8.0   \n",
      "10168  83725       1           1           NaN     1            6.0   \n",
      "10169  83726       1           1           4.0     1            9.0   \n",
      "10170  83727       1           2           5.0     2           77.0   \n",
      "10171  83728       2           1           NaN     1            8.0   \n",
      "10172  83729       2           2           3.0     4            7.0   \n",
      "10173  83730       1           2           NaN     2            6.0   \n",
      "10174  83731       1           1           NaN     5           15.0   \n",
      "\n",
      "       HH_income  Ref_Edu  Highest_Edu  No_of_children(0-5)       ...         \\\n",
      "0            4.0      3.0          3.0                    0       ...          \n",
      "1            7.0      3.0          3.0                    0       ...          \n",
      "2           10.0      4.0          4.0                    0       ...          \n",
      "3            9.0      3.0          NaN                    0       ...          \n",
      "4           15.0      5.0          5.0                    0       ...          \n",
      "5            9.0      4.0          4.0                    0       ...          \n",
      "6           15.0      5.0          NaN                    1       ...          \n",
      "7           10.0      5.0          5.0                    0       ...          \n",
      "8           15.0      3.0          3.0                    1       ...          \n",
      "9            4.0      3.0          3.0                    3       ...          \n",
      "10           3.0      2.0          2.0                    0       ...          \n",
      "11          15.0      5.0          5.0                    0       ...          \n",
      "12          77.0      4.0          NaN                    2       ...          \n",
      "13           5.0      5.0          NaN                    0       ...          \n",
      "14          14.0      5.0          5.0                    0       ...          \n",
      "15           2.0      4.0          NaN                    0       ...          \n",
      "16           8.0      3.0          NaN                    1       ...          \n",
      "17           8.0      5.0          5.0                    1       ...          \n",
      "18           3.0      2.0          NaN                    1       ...          \n",
      "19           8.0      4.0          NaN                    2       ...          \n",
      "20           2.0      3.0          1.0                    3       ...          \n",
      "21           5.0      3.0          NaN                    0       ...          \n",
      "22          10.0      5.0          NaN                    0       ...          \n",
      "23          12.0      3.0          3.0                    0       ...          \n",
      "24          15.0      5.0          5.0                    0       ...          \n",
      "25           3.0      4.0          4.0                    1       ...          \n",
      "26          15.0      5.0          NaN                    0       ...          \n",
      "27           9.0      4.0          NaN                    0       ...          \n",
      "28           7.0      4.0          4.0                    0       ...          \n",
      "29           6.0      4.0          NaN                    2       ...          \n",
      "...          ...      ...          ...                  ...       ...          \n",
      "10145        7.0      4.0          4.0                    0       ...          \n",
      "10146       99.0      2.0          2.0                    2       ...          \n",
      "10147        1.0      4.0          NaN                    0       ...          \n",
      "10148        4.0      3.0          3.0                    1       ...          \n",
      "10149        6.0      4.0          NaN                    1       ...          \n",
      "10150        3.0      2.0          NaN                    0       ...          \n",
      "10151        5.0      3.0          3.0                    0       ...          \n",
      "10152       15.0      1.0          2.0                    0       ...          \n",
      "10153        1.0      4.0          NaN                    2       ...          \n",
      "10154        7.0      4.0          3.0                    0       ...          \n",
      "10155        9.0      2.0          2.0                    2       ...          \n",
      "10156        6.0      4.0          4.0                    1       ...          \n",
      "10157        6.0      2.0          NaN                    1       ...          \n",
      "10158        3.0      1.0          1.0                    0       ...          \n",
      "10159       15.0      4.0          NaN                    0       ...          \n",
      "10160        6.0      3.0          1.0                    3       ...          \n",
      "10161        NaN      3.0          3.0                    0       ...          \n",
      "10162        8.0      3.0          NaN                    1       ...          \n",
      "10163        8.0      4.0          4.0                    0       ...          \n",
      "10164       15.0      5.0          5.0                    0       ...          \n",
      "10165        7.0      3.0          NaN                    3       ...          \n",
      "10166       10.0      2.0          2.0                    0       ...          \n",
      "10167        8.0      3.0          3.0                    0       ...          \n",
      "10168        6.0      4.0          NaN                    2       ...          \n",
      "10169        9.0      1.0          1.0                    0       ...          \n",
      "10170       77.0      3.0          5.0                    0       ...          \n",
      "10171        8.0      3.0          NaN                    1       ...          \n",
      "10172        7.0      5.0          5.0                    0       ...          \n",
      "10173        6.0      4.0          NaN                    1       ...          \n",
      "10174       15.0      5.0          NaN                    0       ...          \n",
      "\n",
      "       Jaundice  Asthma_12M  General_health  Birth_weightA  Birth_weightB  \\\n",
      "0           2.0         NaN               2            NaN            NaN   \n",
      "1           2.0         1.0               4            NaN            NaN   \n",
      "2           2.0         NaN               3            NaN            NaN   \n",
      "3           2.0         NaN               2            6.0            0.0   \n",
      "4           2.0         NaN               5            NaN            NaN   \n",
      "5           2.0         NaN               5            NaN            NaN   \n",
      "6           NaN         NaN               1            7.0           12.0   \n",
      "7           2.0         NaN               3            NaN            NaN   \n",
      "8           2.0         NaN               2            NaN            NaN   \n",
      "9           2.0         NaN               4            NaN            NaN   \n",
      "10          2.0         NaN               3            NaN            NaN   \n",
      "11          2.0         NaN               1            NaN            NaN   \n",
      "12          NaN         NaN               1            9.0           14.0   \n",
      "13          2.0         NaN               1            6.0           14.0   \n",
      "14          2.0         NaN               3            NaN            NaN   \n",
      "15          2.0         2.0               3            6.0           13.0   \n",
      "16          2.0         2.0               2            9.0            6.0   \n",
      "17          2.0         NaN               1            NaN            NaN   \n",
      "18          NaN         NaN               1            6.0            2.0   \n",
      "19          2.0         NaN               1            NaN            NaN   \n",
      "20          2.0         NaN               3            NaN            NaN   \n",
      "21          2.0         NaN               2            NaN            NaN   \n",
      "22          2.0         NaN               1            7.0            2.0   \n",
      "23          2.0         NaN               2            NaN            NaN   \n",
      "24          2.0         NaN               2            NaN            NaN   \n",
      "25          2.0         NaN               2            NaN            NaN   \n",
      "26          2.0         NaN               2            6.0           10.0   \n",
      "27          2.0         NaN               3            7.0           15.0   \n",
      "28          2.0         NaN               1            NaN            NaN   \n",
      "29          NaN         NaN               2            3.0            7.0   \n",
      "...         ...         ...             ...            ...            ...   \n",
      "10145       2.0         NaN               2            NaN            NaN   \n",
      "10146       2.0         NaN               3            NaN            NaN   \n",
      "10147       2.0         NaN               3            8.0            1.0   \n",
      "10148       2.0         NaN               3            NaN            NaN   \n",
      "10149       2.0         NaN               3            6.0           12.0   \n",
      "10150       2.0         NaN               5            NaN            NaN   \n",
      "10151       2.0         NaN               4            NaN            NaN   \n",
      "10152       2.0         NaN               2            NaN            NaN   \n",
      "10153       NaN         NaN               1            7.0            7.0   \n",
      "10154       2.0         2.0               3            NaN            NaN   \n",
      "10155       2.0         NaN               2            NaN            NaN   \n",
      "10156       2.0         NaN               3            NaN            NaN   \n",
      "10157       2.0         NaN               3            NaN            NaN   \n",
      "10158       2.0         NaN               4            NaN            NaN   \n",
      "10159       2.0         NaN               1            NaN            NaN   \n",
      "10160       2.0         NaN               4            NaN            NaN   \n",
      "10161       2.0         NaN               4            NaN            NaN   \n",
      "10162       NaN         NaN               1            6.0            6.0   \n",
      "10163       2.0         NaN               1            NaN            NaN   \n",
      "10164       2.0         NaN               2            NaN            NaN   \n",
      "10165       NaN         NaN               1            8.0            6.0   \n",
      "10166       1.0         NaN               3            NaN            NaN   \n",
      "10167       2.0         NaN               2            NaN            NaN   \n",
      "10168       2.0         NaN               1            7.0            3.0   \n",
      "10169       2.0         NaN               4            NaN            NaN   \n",
      "10170       2.0         NaN               4            NaN            NaN   \n",
      "10171       NaN         NaN               2            6.0            7.0   \n",
      "10172       2.0         NaN               3            NaN            NaN   \n",
      "10173       2.0         NaN               1            8.0            3.0   \n",
      "10174       2.0         NaN               2            2.0           12.0   \n",
      "\n",
      "       Present_weight  M_Family_income  Present_Weight(Y)  Immunization_HA  \\\n",
      "0                 NaN              4.0                NaN              3.0   \n",
      "1                 NaN              5.0                NaN              3.0   \n",
      "2                 NaN             10.0                NaN              3.0   \n",
      "3                 3.0              9.0                3.0              1.0   \n",
      "4                 NaN             11.0                NaN              3.0   \n",
      "5                 NaN             10.0                NaN              9.0   \n",
      "6                 NaN             12.0                NaN              NaN   \n",
      "7                 NaN              8.0                NaN              3.0   \n",
      "8                 NaN             12.0                NaN              3.0   \n",
      "9                 NaN              4.0                NaN              3.0   \n",
      "10                NaN              3.0                NaN              3.0   \n",
      "11                NaN              9.0                NaN              3.0   \n",
      "12                NaN              NaN                NaN              NaN   \n",
      "13                3.0              5.0                3.0              1.0   \n",
      "14                NaN             12.0                NaN              3.0   \n",
      "15                3.0              3.0                1.0              3.0   \n",
      "16                3.0              8.0                3.0              1.0   \n",
      "17                NaN             12.0                NaN              1.0   \n",
      "18                NaN              3.0                NaN              NaN   \n",
      "19                NaN              5.0                NaN              1.0   \n",
      "20                NaN              2.0                NaN              3.0   \n",
      "21                NaN             99.0                NaN              1.0   \n",
      "22                3.0              4.0                3.0              1.0   \n",
      "23                NaN             77.0                NaN              1.0   \n",
      "24                NaN             12.0                NaN              1.0   \n",
      "25                NaN              6.0                NaN              1.0   \n",
      "26                2.0             11.0                NaN              9.0   \n",
      "27                1.0              8.0                1.0              9.0   \n",
      "28                NaN             10.0                NaN              3.0   \n",
      "29                3.0              6.0                NaN              1.0   \n",
      "...               ...              ...                ...              ...   \n",
      "10145             NaN              7.0                NaN              3.0   \n",
      "10146             NaN             99.0                NaN              9.0   \n",
      "10147             1.0              1.0                1.0              1.0   \n",
      "10148             NaN              7.0                NaN              9.0   \n",
      "10149             2.0              4.0                NaN              3.0   \n",
      "10150             NaN              7.0                NaN              1.0   \n",
      "10151             NaN              5.0                NaN              3.0   \n",
      "10152             NaN              7.0                NaN              3.0   \n",
      "10153             2.0              4.0                NaN              1.0   \n",
      "10154             NaN              7.0                NaN              3.0   \n",
      "10155             NaN              7.0                NaN              3.0   \n",
      "10156             NaN              7.0                NaN              3.0   \n",
      "10157             NaN              4.0                NaN              1.0   \n",
      "10158             NaN              2.0                NaN              3.0   \n",
      "10159             NaN             10.0                NaN              1.0   \n",
      "10160             NaN              5.0                NaN              3.0   \n",
      "10161             NaN              NaN                NaN              9.0   \n",
      "10162             3.0              6.0                NaN              1.0   \n",
      "10163             NaN              8.0                NaN              1.0   \n",
      "10164             NaN             12.0                NaN              1.0   \n",
      "10165             NaN              3.0                NaN              NaN   \n",
      "10166             NaN              8.0                NaN              1.0   \n",
      "10167             NaN              8.0                NaN              3.0   \n",
      "10168             3.0              3.0                NaN              1.0   \n",
      "10169             NaN              7.0                NaN              9.0   \n",
      "10170             NaN              NaN                NaN              3.0   \n",
      "10171             2.0             12.0                NaN              1.0   \n",
      "10172             NaN              6.0                NaN              1.0   \n",
      "10173             3.0              5.0                NaN              1.0   \n",
      "10174             3.0             12.0                3.0              1.0   \n",
      "\n",
      "       Immunization_HB  \n",
      "0                    3  \n",
      "1                    3  \n",
      "2                    3  \n",
      "3                    1  \n",
      "4                    3  \n",
      "5                    9  \n",
      "6                    2  \n",
      "7                    3  \n",
      "8                    3  \n",
      "9                    3  \n",
      "10                   3  \n",
      "11                   1  \n",
      "12                   1  \n",
      "13                   1  \n",
      "14                   3  \n",
      "15                   3  \n",
      "16                   1  \n",
      "17                   1  \n",
      "18                   1  \n",
      "19                   1  \n",
      "20                   3  \n",
      "21                   1  \n",
      "22                   1  \n",
      "23                   1  \n",
      "24                   1  \n",
      "25                   1  \n",
      "26                   9  \n",
      "27                   1  \n",
      "28                   1  \n",
      "29                   1  \n",
      "...                ...  \n",
      "10145                3  \n",
      "10146                9  \n",
      "10147                1  \n",
      "10148                9  \n",
      "10149                2  \n",
      "10150                1  \n",
      "10151                3  \n",
      "10152                3  \n",
      "10153                9  \n",
      "10154                3  \n",
      "10155                3  \n",
      "10156                3  \n",
      "10157                1  \n",
      "10158                3  \n",
      "10159                1  \n",
      "10160                3  \n",
      "10161                9  \n",
      "10162                1  \n",
      "10163                1  \n",
      "10164                1  \n",
      "10165                2  \n",
      "10166                1  \n",
      "10167                3  \n",
      "10168                1  \n",
      "10169                3  \n",
      "10170                3  \n",
      "10171                2  \n",
      "10172                1  \n",
      "10173                1  \n",
      "10174                1  \n",
      "\n",
      "[10175 rows x 25 columns]\n"
     ]
    }
   ],
   "source": [
    "print(health_data)"
   ]
  },
  {
   "cell_type": "code",
   "execution_count": 59,
   "metadata": {},
   "outputs": [],
   "source": [
    "marital_data = health_data.loc[health_data['Marital_Stat']== 1].count() "
   ]
  },
  {
   "cell_type": "code",
   "execution_count": 60,
   "metadata": {},
   "outputs": [],
   "source": [
    "sample = health_data.groupby('Marital_Stat')['Gender'].count() #TESTING THIS-Total number of male(1) and female(2) paritcipants who are either married, widowed,Divorced, Seperated,Never married,and living with partner"
   ]
  },
  {
   "cell_type": "code",
   "execution_count": 61,
   "metadata": {
    "scrolled": false
   },
   "outputs": [
    {
     "data": {
      "text/plain": [
       "<matplotlib.axes._subplots.AxesSubplot at 0x257762655f8>"
      ]
     },
     "execution_count": 61,
     "metadata": {},
     "output_type": "execute_result"
    },
    {
     "data": {
      "image/png": "[encoded data removed]",
      "text/plain": [
       "<Figure size 432x288 with 1 Axes>"
      ]
     },
     "metadata": {
      "needs_background": "light"
     },
     "output_type": "display_data"
    }
   ],
   "source": [
    "sample.plot.bar()"
   ]
  },
  {
   "cell_type": "code",
   "execution_count": 62,
   "metadata": {},
   "outputs": [
    {
     "data": {
      "text/plain": [
       "<Figure size 432x288 with 0 Axes>"
      ]
     },
     "metadata": {},
     "output_type": "display_data"
    }
   ],
   "source": [
    "plt.savefig('marital_status.jpeg')"
   ]
  },
  {
   "cell_type": "code",
   "execution_count": 63,
   "metadata": {},
   "outputs": [
    {
     "data": {
      "text/plain": [
       "Highest_Edu\n",
       "1.0     455\n",
       "2.0     791\n",
       "3.0    1303\n",
       "4.0    1770\n",
       "5.0    1443\n",
       "7.0       2\n",
       "9.0       5\n",
       "Name: Gender, dtype: int64"
      ]
     },
     "execution_count": 63,
     "metadata": {},
     "output_type": "execute_result"
    }
   ],
   "source": [
    "health_data.groupby('Highest_Edu')['Gender'].count() #educational attainment of participants"
   ]
  },
  {
   "cell_type": "code",
   "execution_count": 64,
   "metadata": {},
   "outputs": [],
   "source": [
    "sample1 = health_data.groupby('Highest_Edu')['Gender'].count()"
   ]
  },
  {
   "cell_type": "code",
   "execution_count": 65,
   "metadata": {},
   "outputs": [
    {
     "data": {
      "text/plain": [
       "<matplotlib.axes._subplots.AxesSubplot at 0x25776127320>"
      ]
     },
     "execution_count": 65,
     "metadata": {},
     "output_type": "execute_result"
    },
    {
     "data": {
      "image/png": "[encoded data removed]",
      "text/plain": [
       "<Figure size 432x288 with 1 Axes>"
      ]
     },
     "metadata": {
      "needs_background": "light"
     },
     "output_type": "display_data"
    }
   ],
   "source": [
    "sample1.plot.bar()"
   ]
  },
  {
   "cell_type": "code",
   "execution_count": 66,
   "metadata": {},
   "outputs": [
    {
     "data": {
      "text/plain": [
       "<Figure size 432x288 with 0 Axes>"
      ]
     },
     "metadata": {},
     "output_type": "display_data"
    }
   ],
   "source": [
    "plt.savefig('participant_edu.jpeg')"
   ]
  },
  {
   "cell_type": "code",
   "execution_count": 67,
   "metadata": {},
   "outputs": [
    {
     "name": "stdout",
     "output_type": "stream",
     "text": [
      "<class 'pandas.core.frame.DataFrame'>\n",
      "Int64Index: 10175 entries, 0 to 10174\n",
      "Data columns (total 25 columns):\n",
      "SEQN                    10175 non-null int64\n",
      "Gender                  10175 non-null int64\n",
      "Ref_gender              10175 non-null int64\n",
      "Marital_Stat            5769 non-null float64\n",
      "Race                    10175 non-null int64\n",
      "Family_income           10042 non-null float64\n",
      "HH_income               10052 non-null float64\n",
      "Ref_Edu                 9881 non-null float64\n",
      "Highest_Edu             5769 non-null float64\n",
      "No_of_children(0-5)     10175 non-null int64\n",
      "No_of_children(6-17)    10175 non-null int64\n",
      "HH_ref_person_MS        10052 non-null float64\n",
      "Age_in_years            10175 non-null int64\n",
      "Asthma_ever             9769 non-null float64\n",
      "Anemia_ever             9769 non-null float64\n",
      "Jaundice                8472 non-null float64\n",
      "Asthma_12M              939 non-null float64\n",
      "General_health          10175 non-null int64\n",
      "Birth_weightA           3710 non-null float64\n",
      "Birth_weightB           3710 non-null float64\n",
      "Present_weight          3042 non-null float64\n",
      "M_Family_income         9806 non-null float64\n",
      "Present_Weight(Y)       1478 non-null float64\n",
      "Immunization_HA         9507 non-null float64\n",
      "Immunization_HB         10175 non-null int64\n",
      "dtypes: float64(16), int64(9)\n",
      "memory usage: 2.0 MB\n"
     ]
    }
   ],
   "source": [
    "health_data.info()"
   ]
  },
  {
   "cell_type": "code",
   "execution_count": 68,
   "metadata": {},
   "outputs": [],
   "source": [
    "children_data1 = health_data['children_age(0-5)'] = np.where(health_data ['Age_in_years']<=5, 'yes', 'no')\n"
   ]
  },
  {
   "cell_type": "code",
   "execution_count": 69,
   "metadata": {},
   "outputs": [],
   "source": [
    "children_data2 = health_data['children_age(0-17)'] = np.where(health_data ['Age_in_years']<=17, 'yes', 'no')"
   ]
  },
  {
   "cell_type": "code",
   "execution_count": 92,
   "metadata": {
    "scrolled": true
   },
   "outputs": [],
   "source": [
    "female_data = health_data['women-only'] = np.where(health_data['Ref_gender']==2, 'yes','no')"
   ]
  },
  {
   "cell_type": "code",
   "execution_count": 93,
   "metadata": {},
   "outputs": [
    {
     "name": "stdout",
     "output_type": "stream",
     "text": [
      "<class 'pandas.core.frame.DataFrame'>\n",
      "Int64Index: 10175 entries, 0 to 10174\n",
      "Data columns (total 29 columns):\n",
      "SEQN                    10175 non-null int64\n",
      "Gender                  10175 non-null int64\n",
      "Ref_gender              10175 non-null int64\n",
      "Marital_Stat            5769 non-null float64\n",
      "Race                    10175 non-null int64\n",
      "Family_income           10042 non-null float64\n",
      "HH_income               10052 non-null float64\n",
      "Ref_Edu                 9881 non-null float64\n",
      "Highest_Edu             5769 non-null float64\n",
      "No_of_children(0-5)     10175 non-null int64\n",
      "No_of_children(6-17)    10175 non-null int64\n",
      "HH_ref_person_MS        10052 non-null float64\n",
      "Age_in_years            10175 non-null int64\n",
      "Asthma_ever             9769 non-null float64\n",
      "Anemia_ever             9769 non-null float64\n",
      "Jaundice                8472 non-null float64\n",
      "Asthma_12M              939 non-null float64\n",
      "General_health          10175 non-null int64\n",
      "Birth_weightA           3710 non-null float64\n",
      "Birth_weightB           3710 non-null float64\n",
      "Present_weight          3042 non-null float64\n",
      "M_Family_income         9806 non-null float64\n",
      "Present_Weight(Y)       1478 non-null float64\n",
      "Immunization_HA         9507 non-null float64\n",
      "Immunization_HB         10175 non-null int64\n",
      "children_age(0-5)       10175 non-null object\n",
      "children_age(0-17)      10175 non-null object\n",
      "women                   10175 non-null object\n",
      "women-only              10175 non-null object\n",
      "dtypes: float64(16), int64(9), object(4)\n",
      "memory usage: 2.6+ MB\n"
     ]
    }
   ],
   "source": [
    "health_data.info()"
   ]
  },
  {
   "cell_type": "code",
   "execution_count": 94,
   "metadata": {},
   "outputs": [
    {
     "data": {
      "text/html": [
       "<div>\n",
       "<style scoped>\n",
       "    .dataframe tbody tr th:only-of-type {\n",
       "        vertical-align: middle;\n",
       "    }\n",
       "\n",
       "    .dataframe tbody tr th {\n",
       "        vertical-align: top;\n",
       "    }\n",
       "\n",
       "    .dataframe thead th {\n",
       "        text-align: right;\n",
       "    }\n",
       "</style>\n",
       "<table border=\"1\" class=\"dataframe\">\n",
       "  <thead>\n",
       "    <tr style=\"text-align: right;\">\n",
       "      <th></th>\n",
       "      <th>SEQN</th>\n",
       "      <th>Gender</th>\n",
       "      <th>Ref_gender</th>\n",
       "      <th>Marital_Stat</th>\n",
       "      <th>Race</th>\n",
       "      <th>Family_income</th>\n",
       "      <th>HH_income</th>\n",
       "      <th>Ref_Edu</th>\n",
       "      <th>Highest_Edu</th>\n",
       "      <th>No_of_children(0-5)</th>\n",
       "      <th>...</th>\n",
       "      <th>Birth_weightB</th>\n",
       "      <th>Present_weight</th>\n",
       "      <th>M_Family_income</th>\n",
       "      <th>Present_Weight(Y)</th>\n",
       "      <th>Immunization_HA</th>\n",
       "      <th>Immunization_HB</th>\n",
       "      <th>children_age(0-5)</th>\n",
       "      <th>children_age(0-17)</th>\n",
       "      <th>women</th>\n",
       "      <th>women-only</th>\n",
       "    </tr>\n",
       "  </thead>\n",
       "  <tbody>\n",
       "    <tr>\n",
       "      <th>0</th>\n",
       "      <td>73557</td>\n",
       "      <td>1</td>\n",
       "      <td>1</td>\n",
       "      <td>4.0</td>\n",
       "      <td>4</td>\n",
       "      <td>4.0</td>\n",
       "      <td>4.0</td>\n",
       "      <td>3.0</td>\n",
       "      <td>3.0</td>\n",
       "      <td>0</td>\n",
       "      <td>...</td>\n",
       "      <td>NaN</td>\n",
       "      <td>NaN</td>\n",
       "      <td>4.0</td>\n",
       "      <td>NaN</td>\n",
       "      <td>3.0</td>\n",
       "      <td>3</td>\n",
       "      <td>no</td>\n",
       "      <td>no</td>\n",
       "      <td>no</td>\n",
       "      <td>no</td>\n",
       "    </tr>\n",
       "    <tr>\n",
       "      <th>1</th>\n",
       "      <td>73558</td>\n",
       "      <td>1</td>\n",
       "      <td>1</td>\n",
       "      <td>1.0</td>\n",
       "      <td>3</td>\n",
       "      <td>7.0</td>\n",
       "      <td>7.0</td>\n",
       "      <td>3.0</td>\n",
       "      <td>3.0</td>\n",
       "      <td>0</td>\n",
       "      <td>...</td>\n",
       "      <td>NaN</td>\n",
       "      <td>NaN</td>\n",
       "      <td>5.0</td>\n",
       "      <td>NaN</td>\n",
       "      <td>3.0</td>\n",
       "      <td>3</td>\n",
       "      <td>no</td>\n",
       "      <td>no</td>\n",
       "      <td>no</td>\n",
       "      <td>no</td>\n",
       "    </tr>\n",
       "    <tr>\n",
       "      <th>2</th>\n",
       "      <td>73559</td>\n",
       "      <td>1</td>\n",
       "      <td>1</td>\n",
       "      <td>1.0</td>\n",
       "      <td>3</td>\n",
       "      <td>10.0</td>\n",
       "      <td>10.0</td>\n",
       "      <td>4.0</td>\n",
       "      <td>4.0</td>\n",
       "      <td>0</td>\n",
       "      <td>...</td>\n",
       "      <td>NaN</td>\n",
       "      <td>NaN</td>\n",
       "      <td>10.0</td>\n",
       "      <td>NaN</td>\n",
       "      <td>3.0</td>\n",
       "      <td>3</td>\n",
       "      <td>no</td>\n",
       "      <td>no</td>\n",
       "      <td>no</td>\n",
       "      <td>no</td>\n",
       "    </tr>\n",
       "    <tr>\n",
       "      <th>3</th>\n",
       "      <td>73560</td>\n",
       "      <td>1</td>\n",
       "      <td>1</td>\n",
       "      <td>NaN</td>\n",
       "      <td>3</td>\n",
       "      <td>9.0</td>\n",
       "      <td>9.0</td>\n",
       "      <td>3.0</td>\n",
       "      <td>NaN</td>\n",
       "      <td>0</td>\n",
       "      <td>...</td>\n",
       "      <td>0.0</td>\n",
       "      <td>3.0</td>\n",
       "      <td>9.0</td>\n",
       "      <td>3.0</td>\n",
       "      <td>1.0</td>\n",
       "      <td>1</td>\n",
       "      <td>no</td>\n",
       "      <td>yes</td>\n",
       "      <td>no</td>\n",
       "      <td>no</td>\n",
       "    </tr>\n",
       "    <tr>\n",
       "      <th>4</th>\n",
       "      <td>73561</td>\n",
       "      <td>2</td>\n",
       "      <td>1</td>\n",
       "      <td>1.0</td>\n",
       "      <td>3</td>\n",
       "      <td>15.0</td>\n",
       "      <td>15.0</td>\n",
       "      <td>5.0</td>\n",
       "      <td>5.0</td>\n",
       "      <td>0</td>\n",
       "      <td>...</td>\n",
       "      <td>NaN</td>\n",
       "      <td>NaN</td>\n",
       "      <td>11.0</td>\n",
       "      <td>NaN</td>\n",
       "      <td>3.0</td>\n",
       "      <td>3</td>\n",
       "      <td>no</td>\n",
       "      <td>no</td>\n",
       "      <td>no</td>\n",
       "      <td>no</td>\n",
       "    </tr>\n",
       "    <tr>\n",
       "      <th>5</th>\n",
       "      <td>73562</td>\n",
       "      <td>1</td>\n",
       "      <td>1</td>\n",
       "      <td>3.0</td>\n",
       "      <td>1</td>\n",
       "      <td>9.0</td>\n",
       "      <td>9.0</td>\n",
       "      <td>4.0</td>\n",
       "      <td>4.0</td>\n",
       "      <td>0</td>\n",
       "      <td>...</td>\n",
       "      <td>NaN</td>\n",
       "      <td>NaN</td>\n",
       "      <td>10.0</td>\n",
       "      <td>NaN</td>\n",
       "      <td>9.0</td>\n",
       "      <td>9</td>\n",
       "      <td>no</td>\n",
       "      <td>no</td>\n",
       "      <td>no</td>\n",
       "      <td>no</td>\n",
       "    </tr>\n",
       "    <tr>\n",
       "      <th>6</th>\n",
       "      <td>73563</td>\n",
       "      <td>1</td>\n",
       "      <td>1</td>\n",
       "      <td>NaN</td>\n",
       "      <td>3</td>\n",
       "      <td>15.0</td>\n",
       "      <td>15.0</td>\n",
       "      <td>5.0</td>\n",
       "      <td>NaN</td>\n",
       "      <td>1</td>\n",
       "      <td>...</td>\n",
       "      <td>12.0</td>\n",
       "      <td>NaN</td>\n",
       "      <td>12.0</td>\n",
       "      <td>NaN</td>\n",
       "      <td>NaN</td>\n",
       "      <td>2</td>\n",
       "      <td>yes</td>\n",
       "      <td>yes</td>\n",
       "      <td>no</td>\n",
       "      <td>no</td>\n",
       "    </tr>\n",
       "    <tr>\n",
       "      <th>7</th>\n",
       "      <td>73564</td>\n",
       "      <td>2</td>\n",
       "      <td>2</td>\n",
       "      <td>2.0</td>\n",
       "      <td>3</td>\n",
       "      <td>10.0</td>\n",
       "      <td>10.0</td>\n",
       "      <td>5.0</td>\n",
       "      <td>5.0</td>\n",
       "      <td>0</td>\n",
       "      <td>...</td>\n",
       "      <td>NaN</td>\n",
       "      <td>NaN</td>\n",
       "      <td>8.0</td>\n",
       "      <td>NaN</td>\n",
       "      <td>3.0</td>\n",
       "      <td>3</td>\n",
       "      <td>no</td>\n",
       "      <td>no</td>\n",
       "      <td>yes</td>\n",
       "      <td>yes</td>\n",
       "    </tr>\n",
       "    <tr>\n",
       "      <th>8</th>\n",
       "      <td>73565</td>\n",
       "      <td>1</td>\n",
       "      <td>1</td>\n",
       "      <td>1.0</td>\n",
       "      <td>2</td>\n",
       "      <td>15.0</td>\n",
       "      <td>15.0</td>\n",
       "      <td>3.0</td>\n",
       "      <td>3.0</td>\n",
       "      <td>1</td>\n",
       "      <td>...</td>\n",
       "      <td>NaN</td>\n",
       "      <td>NaN</td>\n",
       "      <td>12.0</td>\n",
       "      <td>NaN</td>\n",
       "      <td>3.0</td>\n",
       "      <td>3</td>\n",
       "      <td>no</td>\n",
       "      <td>no</td>\n",
       "      <td>no</td>\n",
       "      <td>no</td>\n",
       "    </tr>\n",
       "    <tr>\n",
       "      <th>9</th>\n",
       "      <td>73566</td>\n",
       "      <td>2</td>\n",
       "      <td>2</td>\n",
       "      <td>3.0</td>\n",
       "      <td>3</td>\n",
       "      <td>4.0</td>\n",
       "      <td>4.0</td>\n",
       "      <td>3.0</td>\n",
       "      <td>3.0</td>\n",
       "      <td>3</td>\n",
       "      <td>...</td>\n",
       "      <td>NaN</td>\n",
       "      <td>NaN</td>\n",
       "      <td>4.0</td>\n",
       "      <td>NaN</td>\n",
       "      <td>3.0</td>\n",
       "      <td>3</td>\n",
       "      <td>no</td>\n",
       "      <td>no</td>\n",
       "      <td>yes</td>\n",
       "      <td>yes</td>\n",
       "    </tr>\n",
       "  </tbody>\n",
       "</table>\n",
       "<p>10 rows × 29 columns</p>\n",
       "</div>"
      ],
      "text/plain": [
       "    SEQN  Gender  Ref_gender  Marital_Stat  Race  Family_income  HH_income  \\\n",
       "0  73557       1           1           4.0     4            4.0        4.0   \n",
       "1  73558       1           1           1.0     3            7.0        7.0   \n",
       "2  73559       1           1           1.0     3           10.0       10.0   \n",
       "3  73560       1           1           NaN     3            9.0        9.0   \n",
       "4  73561       2           1           1.0     3           15.0       15.0   \n",
       "5  73562       1           1           3.0     1            9.0        9.0   \n",
       "6  73563       1           1           NaN     3           15.0       15.0   \n",
       "7  73564       2           2           2.0     3           10.0       10.0   \n",
       "8  73565       1           1           1.0     2           15.0       15.0   \n",
       "9  73566       2           2           3.0     3            4.0        4.0   \n",
       "\n",
       "   Ref_Edu  Highest_Edu  No_of_children(0-5)     ...      Birth_weightB  \\\n",
       "0      3.0          3.0                    0     ...                NaN   \n",
       "1      3.0          3.0                    0     ...                NaN   \n",
       "2      4.0          4.0                    0     ...                NaN   \n",
       "3      3.0          NaN                    0     ...                0.0   \n",
       "4      5.0          5.0                    0     ...                NaN   \n",
       "5      4.0          4.0                    0     ...                NaN   \n",
       "6      5.0          NaN                    1     ...               12.0   \n",
       "7      5.0          5.0                    0     ...                NaN   \n",
       "8      3.0          3.0                    1     ...                NaN   \n",
       "9      3.0          3.0                    3     ...                NaN   \n",
       "\n",
       "   Present_weight  M_Family_income  Present_Weight(Y)  Immunization_HA  \\\n",
       "0             NaN              4.0                NaN              3.0   \n",
       "1             NaN              5.0                NaN              3.0   \n",
       "2             NaN             10.0                NaN              3.0   \n",
       "3             3.0              9.0                3.0              1.0   \n",
       "4             NaN             11.0                NaN              3.0   \n",
       "5             NaN             10.0                NaN              9.0   \n",
       "6             NaN             12.0                NaN              NaN   \n",
       "7             NaN              8.0                NaN              3.0   \n",
       "8             NaN             12.0                NaN              3.0   \n",
       "9             NaN              4.0                NaN              3.0   \n",
       "\n",
       "   Immunization_HB  children_age(0-5)  children_age(0-17)  women  women-only  \n",
       "0                3                 no                  no     no          no  \n",
       "1                3                 no                  no     no          no  \n",
       "2                3                 no                  no     no          no  \n",
       "3                1                 no                 yes     no          no  \n",
       "4                3                 no                  no     no          no  \n",
       "5                9                 no                  no     no          no  \n",
       "6                2                yes                 yes     no          no  \n",
       "7                3                 no                  no    yes         yes  \n",
       "8                3                 no                  no     no          no  \n",
       "9                3                 no                  no    yes         yes  \n",
       "\n",
       "[10 rows x 29 columns]"
      ]
     },
     "execution_count": 94,
     "metadata": {},
     "output_type": "execute_result"
    }
   ],
   "source": [
    "health_data.head(10)"
   ]
  },
  {
   "cell_type": "code",
   "execution_count": 152,
   "metadata": {},
   "outputs": [
    {
     "data": {
      "text/plain": [
       "Text(0.5, 1.03, 'The general health status of children ages 0-17 years')"
      ]
     },
     "execution_count": 152,
     "metadata": {},
     "output_type": "execute_result"
    },
    {
     "data": {
      "image/png": "[encoded data removed]",
      "text/plain": [
       "<Figure size 436.5x360 with 1 Axes>"
      ]
     },
     "metadata": {},
     "output_type": "display_data"
    }
   ],
   "source": [
    "Genhealth_plot = sns.catplot(x='children_age(0-17)', hue='General_health',data=health_data, kind='count',ci=None)\n",
    "Genhealth_plot.fig.suptitle('The general health status of children ages 0-17 years',y=1.03)\n",
    "#The graph showing children(0-17yrs) with their different levels of health status"
   ]
  },
  {
   "cell_type": "code",
   "execution_count": 153,
   "metadata": {},
   "outputs": [
    {
     "data": {
      "text/plain": [
       "children_age(0-17)\n",
       "no     6113\n",
       "yes    4062\n",
       "Name: General_health, dtype: int64"
      ]
     },
     "execution_count": 153,
     "metadata": {},
     "output_type": "execute_result"
    }
   ],
   "source": [
    " health_data.groupby('children_age(0-17)')['General_health'].count()\n",
    "#Number of children 0-17 years with a record of their health status"
   ]
  },
  {
   "cell_type": "code",
   "execution_count": 154,
   "metadata": {},
   "outputs": [
    {
     "data": {
      "text/plain": [
       "Text(0.5, 1.03, 'The general health status of children ages 0-17 years according to their Race')"
      ]
     },
     "execution_count": 154,
     "metadata": {},
     "output_type": "execute_result"
    },
    {
     "data": {
      "image/png": "[encoded data removed]",
      "text/plain": [
       "<Figure size 796.5x360 with 2 Axes>"
      ]
     },
     "metadata": {},
     "output_type": "display_data"
    }
   ],
   "source": [
    "Genhealth_plot2 = sns.catplot(x='Race', col='children_age(0-17)', hue= 'General_health', data=health_data, kind='count',ci=None)\n",
    "Genhealth_plot2.fig.suptitle('The general health status of children ages 0-17 years according to their Race',y=1.03)\n",
    "#The graph on the right is the one i am interested in(it has the records of 0-17year). it shows that The children from the race(3) Non-Hispanic Whites have the highest rate of an excellent health status"
   ]
  },
  {
   "cell_type": "code",
   "execution_count": 155,
   "metadata": {},
   "outputs": [
    {
     "data": {
      "text/plain": [
       "Text(0.5, 1.03, 'The relationship between participants educational level and general health status of children')"
      ]
     },
     "execution_count": 155,
     "metadata": {},
     "output_type": "execute_result"
    },
    {
     "data": {
      "image/png": "[encoded data removed]",
      "text/plain": [
       "<Figure size 796.5x720 with 4 Axes>"
      ]
     },
     "metadata": {},
     "output_type": "display_data"
    }
   ],
   "source": [
    "Relations_plot = sns.catplot(x='Ref_Edu',row='women',hue='General_health', col='children_age(0-17)',kind='count',data=health_data,ci=None)\n",
    "Relations_plot.fig.suptitle('The relationship between participants educational level and general health status of children', y=1.03)\n",
    "#The graph of interest is the one on the bottom right\n",
    "#from the graph below, women who have highest level of education as some college or AA degree have children who were more healthy than children from women of other educational levels. 1 depicts the lowest educational level (less than 9th grade) while 5 depicts college graduates and above, 7 and 9 are m=refused and missing response respectively\n",
    "#So we can infer that there is a relationship between educational levels of mothers and their children's health status"
   ]
  },
  {
   "cell_type": "code",
   "execution_count": 156,
   "metadata": {},
   "outputs": [
    {
     "data": {
      "text/plain": [
       "Text(0.5, 1.03, 'Relationship between health status of children(0-17 years) and their monthly family income')"
      ]
     },
     "execution_count": 156,
     "metadata": {},
     "output_type": "execute_result"
    },
    {
     "data": {
      "image/png": "[encoded data removed]",
      "text/plain": [
       "<Figure size 796.5x360 with 2 Axes>"
      ]
     },
     "metadata": {},
     "output_type": "display_data"
    }
   ],
   "source": [
    "Familyincome1_plot = sns.catplot(x='M_Family_income',col='children_age(0-17)',hue='General_health',data=health_data, kind='count', ci=None)\n",
    "Familyincome1_plot.fig.suptitle('Relationship between health status of children(0-17 years) and their monthly family income', y=1.03)\n",
    "#The relationship between general health status of children(0-5) in the household and their monthly family income"
   ]
  },
  {
   "cell_type": "code",
   "execution_count": 157,
   "metadata": {},
   "outputs": [
    {
     "data": {
      "text/plain": [
       "Text(0.5, 1.03, 'Relationship between health status of children(0-17 years) and their mothers monthly family income')"
      ]
     },
     "execution_count": 157,
     "metadata": {},
     "output_type": "execute_result"
    },
    {
     "data": {
      "image/png": "[encoded data removed]",
      "text/plain": [
       "<Figure size 796.5x720 with 4 Axes>"
      ]
     },
     "metadata": {},
     "output_type": "display_data"
    }
   ],
   "source": [
    "Familyincome2_plot = sns.catplot(x='M_Family_income',hue='General_health',row='children_age(0-17)',col='women', data=health_data, kind='count',ci=None)\n",
    "Familyincome2_plot.fig.suptitle('Relationship between health status of children(0-17 years) and their mothers monthly family income', y=1.03)\n",
    "#The relationship between general health status of children(6-17) in the household and their mother's monthly family income\n"
   ]
  },
  {
   "cell_type": "code",
   "execution_count": 158,
   "metadata": {},
   "outputs": [
    {
     "data": {
      "text/plain": [
       "Text(0.5, 1.03, 'Immunization status of children(0-17 years) and the educational level by gender')"
      ]
     },
     "execution_count": 158,
     "metadata": {},
     "output_type": "execute_result"
    },
    {
     "data": {
      "image/png": "[encoded data removed]",
      "text/plain": [
       "<Figure size 769.875x720 with 4 Axes>"
      ]
     },
     "metadata": {},
     "output_type": "display_data"
    }
   ],
   "source": [
    "immunize_plot = sns.catplot(x='Immunization_HA',col='children_age(0-17)',hue='Ref_Edu',kind='count', data=health_data, row='women', ci=None)\n",
    "immunize_plot.fig.suptitle('Immunization status of children(0-17 years) and the educational level by gender', y=1.03)\n",
    "#RELATIONSHIP BETWEEN IMMUNIZATION STATUS(Hepatitis A) AND EDUCATION OF WOMEN"
   ]
  },
  {
   "cell_type": "code",
   "execution_count": 159,
   "metadata": {},
   "outputs": [
    {
     "data": {
      "text/plain": [
       "Text(0.5, 1.03, 'Immunization status of children(0-17 years) and the educational level of their mothers')"
      ]
     },
     "execution_count": 159,
     "metadata": {},
     "output_type": "execute_result"
    },
    {
     "data": {
      "image/png": "[encoded data removed]",
      "text/plain": [
       "<Figure size 769.875x720 with 4 Axes>"
      ]
     },
     "metadata": {},
     "output_type": "display_data"
    }
   ],
   "source": [
    "immunize2_plot = sns.catplot(x='Immunization_HB',col='children_age(0-17)',hue='Ref_Edu',kind='count', data=health_data, row='women', ci=None)\n",
    "immunize2_plot.fig.suptitle('Immunization status of children(0-17 years) and the educational level of their mothers', y=1.03)\n",
    "#RELATIONSHIP BETWEEN IMMUNIZATION STATUS(Hepatitis B) AND EDUCATION OF WOMEN\n",
    "#interested in children ages0-5 years"
   ]
  },
  {
   "cell_type": "code",
   "execution_count": 160,
   "metadata": {},
   "outputs": [
    {
     "data": {
      "text/plain": [
       "Text(0.5, 1.03, 'children(0-5years) who have completed their immunization of Hepatitis A')"
      ]
     },
     "execution_count": 160,
     "metadata": {},
     "output_type": "execute_result"
    },
    {
     "data": {
      "image/png": "[encoded data removed]",
      "text/plain": [
       "<Figure size 447.25x360 with 1 Axes>"
      ]
     },
     "metadata": {},
     "output_type": "display_data"
    }
   ],
   "source": [
    "immunize4_plot = sns.catplot(x='children_age(0-5)', hue='Immunization_HA', data=health_data, kind='count', ci=None) \n",
    "immunize4_plot.fig.suptitle('children(0-5years) who have completed their immunization of Hepatitis A',y=1.03)"
   ]
  },
  {
   "cell_type": "code",
   "execution_count": 161,
   "metadata": {},
   "outputs": [
    {
     "data": {
      "text/plain": [
       "Text(0.5, 1.03, 'children(0-5years) who have completed their immunization of Hepatitis B')"
      ]
     },
     "execution_count": 161,
     "metadata": {},
     "output_type": "execute_result"
    },
    {
     "data": {
      "image/png": "[encoded data removed]",
      "text/plain": [
       "<Figure size 447.25x360 with 1 Axes>"
      ]
     },
     "metadata": {},
     "output_type": "display_data"
    }
   ],
   "source": [
    "immunize4_plot = sns.catplot(x='children_age(0-5)', hue='Immunization_HB', data=health_data, kind='count', ci=None) \n",
    "immunize4_plot.fig.suptitle('children(0-5years) who have completed their immunization of Hepatitis B',y=1.03)"
   ]
  },
  {
   "cell_type": "code",
   "execution_count": 162,
   "metadata": {},
   "outputs": [
    {
     "data": {
      "text/plain": [
       "Text(0.5, 1.03, 'The weight status of children ages 0-5 years')"
      ]
     },
     "execution_count": 162,
     "metadata": {},
     "output_type": "execute_result"
    },
    {
     "data": {
      "image/png": "[encoded data removed]",
      "text/plain": [
       "<Figure size 437.25x360 with 1 Axes>"
      ]
     },
     "metadata": {},
     "output_type": "display_data"
    }
   ],
   "source": [
    "weight_plot = sns.catplot(x='children_age(0-5)', hue='Present_weight', data=health_data, kind='count', ci=None)\n",
    "weight_plot.fig.suptitle('The weight status of children ages 0-5 years', y=1.03)\n",
    "#"
   ]
  },
  {
   "cell_type": "code",
   "execution_count": 163,
   "metadata": {},
   "outputs": [
    {
     "data": {
      "text/plain": [
       "Text(0.5, 1.03, 'The weight status of children ages 0-17 years')"
      ]
     },
     "execution_count": 163,
     "metadata": {},
     "output_type": "execute_result"
    },
    {
     "data": {
      "image/png": "[encoded data removed]",
      "text/plain": [
       "<Figure size 437.25x360 with 1 Axes>"
      ]
     },
     "metadata": {},
     "output_type": "display_data"
    }
   ],
   "source": [
    "weight2_plot = sns.catplot(x='children_age(0-17)', hue='Present_weight', data=health_data, kind='count', ci=None)\n",
    "weight2_plot.fig.suptitle('The weight status of children ages 0-17 years', y=1.03)"
   ]
  },
  {
   "cell_type": "code",
   "execution_count": 164,
   "metadata": {},
   "outputs": [
    {
     "data": {
      "text/plain": [
       "Text(0.5, 1.03, 'The general health status of children ages 0-17 years')"
      ]
     },
     "execution_count": 164,
     "metadata": {},
     "output_type": "execute_result"
    },
    {
     "data": {
      "image/png": "[encoded data removed]",
      "text/plain": [
       "<Figure size 360x360 with 1 Axes>"
      ]
     },
     "metadata": {},
     "output_type": "display_data"
    }
   ],
   "source": [
    "Genhealth_plot = sns.relplot(x='Age_in_years', y='General_health',data=health_data, kind='line',ci=None)\n",
    "Genhealth_plot.fig.suptitle('The general health status of children ages 0-17 years',y=1.03)"
   ]
  },
  {
   "cell_type": "code",
   "execution_count": null,
   "metadata": {},
   "outputs": [],
   "source": []
  },
  {
   "cell_type": "code",
   "execution_count": null,
   "metadata": {},
   "outputs": [],
   "source": []
  }
 ],
 "metadata": {
  "kernelspec": {
   "display_name": "Python 3",
   "language": "python",
   "name": "python3"
  },
  "language_info": {
   "codemirror_mode": {
    "name": "ipython",
    "version": 3
   },
   "file_extension": ".py",
   "mimetype": "text/x-python",
   "name": "python",
   "nbconvert_exporter": "python",
   "pygments_lexer": "ipython3",
   "version": "3.7.1"
  }
 },
 "nbformat": 4,
 "nbformat_minor": 2
}
